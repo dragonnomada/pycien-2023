{
  "nbformat": 4,
  "nbformat_minor": 0,
  "metadata": {
    "colab": {
      "provenance": [],
      "toc_visible": true
    },
    "kernelspec": {
      "name": "python3",
      "display_name": "Python 3"
    },
    "language_info": {
      "name": "python"
    }
  },
  "cells": [
    {
      "cell_type": "markdown",
      "source": [
        "# Clase 103 - Visualización de Datos\n",
        "\n",
        "> Programación Python en el Ámbito Científico\n",
        ">\n",
        "> [Alan Badillo Salas](mailto:alan@nomadacode.com)\n",
        ">\n",
        "> Github: [https://github.com/dragonnomada/pycien-2023](https://github.com/dragonnomada/pycien-2023)\n",
        "\n",
        "**Contenido**\n",
        "\n",
        "* Librerías gráficas\n",
        "* Visualización 1-EJE Continuo\n",
        "* Visualización 1-EJE Categórico\n",
        "* Visualización 2-EJES Continuos\n",
        "* Visualización 2-EJES Categóricos\n",
        "* Práctica: P101 - Visualización de Datos del Titanic"
      ],
      "metadata": {
        "id": "QdVH9yumrQPH"
      }
    },
    {
      "cell_type": "markdown",
      "source": [
        "## Librerías gráficas"
      ],
      "metadata": {
        "id": "L9yakV74IY1h"
      }
    },
    {
      "cell_type": "markdown",
      "source": [
        "Existen dos librerías gráficas importantes en Python.\n",
        "\n",
        "![Matplotlib](https://matplotlib.org/_static/logo_dark.svg)\n",
        "\n",
        "La primera es [Matplotlib](https://matplotlib.org/) la cuál es una librería extensa para graficar figuras estáticas, dinámicas e interactivas.\n",
        "\n",
        "Podemos instalar matplotlib desde una celda con `! pip install matplotlib` aunque en Google Colab no hay necesidad de hacerlo.\n",
        "\n",
        "![Seaborn](https://seaborn.pydata.org/_static/logo-wide-lightbg.svg)\n",
        "\n",
        "La segunda es [Seaborn](https://seaborn.pydata.org/) la cual es una librería que mejora a matplotlib para crear gráficos estadísticos y usar las ventajas de pandas.\n",
        "\n",
        "Podemos instalar matplotlib desde una celda con `! pip install seaborn` aunque en Google Colab no hay necesidad de hacerlo."
      ],
      "metadata": {
        "id": "MaxBxEdOIjPV"
      }
    },
    {
      "cell_type": "markdown",
      "source": [
        "### Instalar Matplotlib"
      ],
      "metadata": {
        "id": "TVaUI9N5JIgN"
      }
    },
    {
      "cell_type": "code",
      "source": [
        "! pip install matplotlib"
      ],
      "metadata": {
        "id": "eMLDkOtDJK5e"
      },
      "execution_count": null,
      "outputs": []
    },
    {
      "cell_type": "markdown",
      "source": [
        "### Instalar Seaborn"
      ],
      "metadata": {
        "id": "UsoBAy-yJyZ4"
      }
    },
    {
      "cell_type": "code",
      "source": [
        "! pip install seaborn"
      ],
      "metadata": {
        "id": "5fuVqH0bJ2WE"
      },
      "execution_count": null,
      "outputs": []
    },
    {
      "cell_type": "markdown",
      "source": [
        "### Guía de Visualización de Datos en Python\n",
        "\n",
        "Existe una página llamada [The Python Graph Gallery](https://python-graph-gallery.com/) la cual nos guiará en la visualización de datos y nos enseñará a utilizar la mayor parte de las gráficas más importantes en el análisis estadístico y proyectos científicos.\n",
        "\n",
        "Sitio Web: [https://python-graph-gallery.com/](https://python-graph-gallery.com/)\n",
        "\n",
        "![The Python Graph Gallery](https://matplotlib.org/matplotblog/posts/python-graph-gallery.com/sections-overview.png)"
      ],
      "metadata": {
        "id": "9SxndGZyKAlb"
      }
    },
    {
      "cell_type": "markdown",
      "source": [
        "## Visualización 1-EJE Continuo\n",
        "\n",
        "Cuando tenemos un eje continuo, generalmente se trata de una variable o característica en nuestro conjunto de datos que representa un valor que puede tener valores intermedios, es decir, podríamos tener la estatura de una persona y encontrarnos en algún momento valores intermedios entre la estatura de una persona y otra. Por lo tanto, estos valores se consideran continuos.\n",
        "\n",
        "La mejor forma de visualizar datos continuos es mediante tres gráficas principales, las cuales resumen la distribución, densidad y estadísticos del eje o características.\n",
        "\n",
        "* **Histograma** - Representa regiones o zonas donde se contarán cuántos elementos caen en esa región llama `BIN` y se mostrará gráficamente la frecuencia, dando como resultado una gráfica de barras dónde la altura representa el número de elementos en el rango o región.\n",
        "* **Violín** - Representa la distribución de un eje de forma densa, mostrando en espejo cómo se distribuyen los datos. De esta forma veremos algo similar a montañas del desierto reflejadas, donde cada cúspide representa una acumulación de valores.\n",
        "* **Caja Estadística** - Representa una caja con los valores de la mediana, los cuartiles al 25% y 75% y el mínimo y máximo. Esta sirve para que comparemos la distribución rápidamente entre distintos ejes. Pero para un solo eje saber como se comporta estadísticamente."
      ],
      "metadata": {
        "id": "wgKk6fgSIdnV"
      }
    },
    {
      "cell_type": "markdown",
      "source": [
        "### Ejemplo de un Histograma para 1-EJE\n",
        "\n",
        "Si tenemos un eje de datos para las estaturas de personas, entonces podemos visualizar su histograma con `seaborn.displot(x=<eje>, bins=<n>)`."
      ],
      "metadata": {
        "id": "kr7gB37gNgAg"
      }
    },
    {
      "cell_type": "code",
      "source": [
        "# Importa las librerías que necesitamos\n",
        "import seaborn as sns\n",
        "#import numpy as np\n",
        "import pandas as pd\n",
        "\n",
        "# Crea el eje de datos como una Lista de Python\n",
        "# x = [1.71, 1.57, 1.62, 1.84, 1.49, 1.95, 1.76, 1.65, 1.67, 1.47, 1.52, 1.56, 1.81]\n",
        "\n",
        "# Crea el eje de datos como un Arreglo de numpy\n",
        "#x = np.array([1.71, 1.57, 1.62, 1.84, 1.49, 1.95, 1.76, 1.65, 1.67, 1.47, 1.52, 1.56, 1.81])\n",
        "\n",
        "# Crea el eje de datos como una Serie de pandas\n",
        "x = pd.Series([1.71, 1.57, 1.62, 1.84, 1.49, 1.95, 1.76, 1.65, 1.67, 1.47, 1.52, 1.56, 1.81])\n",
        "\n",
        "# Dibuja un histograma\n",
        "sns.displot(x=x, bins=4)"
      ],
      "metadata": {
        "colab": {
          "base_uri": "https://localhost:8080/",
          "height": 523
        },
        "id": "vhiH77F_NwSR",
        "outputId": "fe976ab9-6b0f-4a75-efad-e2797de96838"
      },
      "execution_count": 12,
      "outputs": [
        {
          "output_type": "execute_result",
          "data": {
            "text/plain": [
              "<seaborn.axisgrid.FacetGrid at 0x7fad3d733a00>"
            ]
          },
          "metadata": {},
          "execution_count": 12
        },
        {
          "output_type": "display_data",
          "data": {
            "text/plain": [
              "<Figure size 500x500 with 1 Axes>"
            ],
            "image/png": "[encoded data removed]"
          },
          "metadata": {}
        }
      ]
    },
    {
      "cell_type": "markdown",
      "source": [
        "Nota: Podemos obtener los rangos exactos con numpy."
      ],
      "metadata": {
        "id": "IBSIhDLyP4-N"
      }
    },
    {
      "cell_type": "code",
      "source": [
        "import numpy as np\n",
        "\n",
        "np.histogram(x, bins=4)"
      ],
      "metadata": {
        "colab": {
          "base_uri": "https://localhost:8080/"
        },
        "id": "eD86WD5ZPY2c",
        "outputId": "685a5e55-55a3-43f5-b9e0-13ba2bc79126"
      },
      "execution_count": 13,
      "outputs": [
        {
          "output_type": "execute_result",
          "data": {
            "text/plain": [
              "(array([5, 3, 3, 2]), array([1.47, 1.59, 1.71, 1.83, 1.95]))"
            ]
          },
          "metadata": {},
          "execution_count": 13
        }
      ]
    },
    {
      "cell_type": "markdown",
      "source": [
        "### Ejemplo de una gráfica de Violín para 1-EJE\n",
        "\n",
        "Si tenemos un eje de datos para las edades de personas, entonces podemos visualizar su gráfica de violín en $x$ (horizontal) o $y$ (vertical) con `seaborn.violinplot(x=<eje>)` o `seaborn.violinplot(y=<eje>)`."
      ],
      "metadata": {
        "id": "QB1a76sSQJzz"
      }
    },
    {
      "cell_type": "code",
      "source": [
        "import seaborn as sns\n",
        "import pandas as pd\n",
        "\n",
        "x = pd.Series([23, 22, 25, 24, 23, 37, 39, 34, 38, 35, 36, 35])\n",
        "\n",
        "sns.violinplot(x=x)"
      ],
      "metadata": {
        "colab": {
          "base_uri": "https://localhost:8080/",
          "height": 447
        },
        "id": "WEc-7VeSQ0cp",
        "outputId": "ae5562e5-defb-4a00-830f-03dc1d73869d"
      },
      "execution_count": 14,
      "outputs": [
        {
          "output_type": "execute_result",
          "data": {
            "text/plain": [
              "<Axes: >"
            ]
          },
          "metadata": {},
          "execution_count": 14
        },
        {
          "output_type": "display_data",
          "data": {
            "text/plain": [
              "<Figure size 640x480 with 1 Axes>"
            ],
            "image/png": "[encoded data removed]"
          },
          "metadata": {}
        }
      ]
    },
    {
      "cell_type": "markdown",
      "source": [
        "Alternativamente podríamos visualizar el eje verticalmente (en $y$)."
      ],
      "metadata": {
        "id": "2cEYs3y4Rw_n"
      }
    },
    {
      "cell_type": "code",
      "source": [
        "sns.violinplot(y=x)"
      ],
      "metadata": {
        "colab": {
          "base_uri": "https://localhost:8080/",
          "height": 428
        },
        "id": "PjSZrBZXR1iZ",
        "outputId": "c5dc4f93-3d1c-498b-ad61-285713996097"
      },
      "execution_count": 15,
      "outputs": [
        {
          "output_type": "execute_result",
          "data": {
            "text/plain": [
              "<Axes: >"
            ]
          },
          "metadata": {},
          "execution_count": 15
        },
        {
          "output_type": "display_data",
          "data": {
            "text/plain": [
              "<Figure size 640x480 with 1 Axes>"
            ],
            "image/png": "[encoded data removed]"
          },
          "metadata": {}
        }
      ]
    },
    {
      "cell_type": "markdown",
      "source": [
        "### Ejemplo de una gráfica de Caja para 1-EJE\n",
        "\n",
        "Si tenemos un eje de datos para las precio del dólar a diferentes días, entonces podemos visualizar su gráfica de caja (estadística) en $x$ (horizontal) o $y$ (vertical) con `seaborn.boxplot(x=<eje>)` o `seaborn.boxplot(y=<eje>)`."
      ],
      "metadata": {
        "id": "swMusbPFSHS5"
      }
    },
    {
      "cell_type": "code",
      "source": [
        "import seaborn as sns\n",
        "import pandas as pd\n",
        "\n",
        "precios_dolar = pd.Series([12.50, 13.40, 14.60, 17.80, 17.90, 18.60, 19.90, 21.40, 26.4, 22.5, 19.90, 19.80, 17.40])\n",
        "\n",
        "sns.boxplot(x=precios_dolar)"
      ],
      "metadata": {
        "colab": {
          "base_uri": "https://localhost:8080/",
          "height": 447
        },
        "id": "lhPn04osSdWt",
        "outputId": "811fdde1-69ff-41bb-a0cf-076b6fee9173"
      },
      "execution_count": 18,
      "outputs": [
        {
          "output_type": "execute_result",
          "data": {
            "text/plain": [
              "<Axes: >"
            ]
          },
          "metadata": {},
          "execution_count": 18
        },
        {
          "output_type": "display_data",
          "data": {
            "text/plain": [
              "<Figure size 640x480 with 1 Axes>"
            ],
            "image/png": "[encoded data removed]"
          },
          "metadata": {}
        }
      ]
    },
    {
      "cell_type": "markdown",
      "source": [
        "Alternativamente en vertical (sobre $y$)."
      ],
      "metadata": {
        "id": "paWmYVjwT1hJ"
      }
    },
    {
      "cell_type": "code",
      "source": [
        "sns.boxplot(y=precios_dolar)"
      ],
      "metadata": {
        "colab": {
          "base_uri": "https://localhost:8080/",
          "height": 428
        },
        "id": "52shoyT3T47C",
        "outputId": "81252b08-d2c5-4b2d-f02a-dff44a03dbac"
      },
      "execution_count": 19,
      "outputs": [
        {
          "output_type": "execute_result",
          "data": {
            "text/plain": [
              "<Axes: >"
            ]
          },
          "metadata": {},
          "execution_count": 19
        },
        {
          "output_type": "display_data",
          "data": {
            "text/plain": [
              "<Figure size 640x480 with 1 Axes>"
            ],
            "image/png": "[encoded data removed]"
          },
          "metadata": {}
        }
      ]
    },
    {
      "cell_type": "markdown",
      "source": [
        "Podemos calcular manualmente los valores con numpy."
      ],
      "metadata": {
        "id": "v0vIcfU_Uaa1"
      }
    },
    {
      "cell_type": "code",
      "source": [
        "import numpy as np\n",
        "\n",
        "np.median(precios_dolar)"
      ],
      "metadata": {
        "colab": {
          "base_uri": "https://localhost:8080/"
        },
        "id": "2PWQghR5UeS1",
        "outputId": "9bff1687-3cf6-4968-c941-7aa56041da8a"
      },
      "execution_count": 20,
      "outputs": [
        {
          "output_type": "execute_result",
          "data": {
            "text/plain": [
              "18.6"
            ]
          },
          "metadata": {},
          "execution_count": 20
        }
      ]
    },
    {
      "cell_type": "code",
      "source": [
        "np.quantile(precios_dolar, .25)"
      ],
      "metadata": {
        "colab": {
          "base_uri": "https://localhost:8080/"
        },
        "id": "sxHIlNQAUkmH",
        "outputId": "b93ae257-dd5e-4e74-eae9-1eecd87857a2"
      },
      "execution_count": 21,
      "outputs": [
        {
          "output_type": "execute_result",
          "data": {
            "text/plain": [
              "17.4"
            ]
          },
          "metadata": {},
          "execution_count": 21
        }
      ]
    },
    {
      "cell_type": "code",
      "source": [
        "np.quantile(precios_dolar, .75)"
      ],
      "metadata": {
        "colab": {
          "base_uri": "https://localhost:8080/"
        },
        "id": "T1u4KkPyUp2b",
        "outputId": "77a9327d-baa6-4cce-e7d0-3d65e5989bbd"
      },
      "execution_count": 22,
      "outputs": [
        {
          "output_type": "execute_result",
          "data": {
            "text/plain": [
              "19.9"
            ]
          },
          "metadata": {},
          "execution_count": 22
        }
      ]
    },
    {
      "cell_type": "code",
      "source": [
        "precios_dolar.mean() - precios_dolar.std()"
      ],
      "metadata": {
        "colab": {
          "base_uri": "https://localhost:8080/"
        },
        "id": "w-ZFpqbSUsEh",
        "outputId": "e967559f-87c5-4d6a-cb08-2560705a5ffd"
      },
      "execution_count": 25,
      "outputs": [
        {
          "output_type": "execute_result",
          "data": {
            "text/plain": [
              "14.842390511380005"
            ]
          },
          "metadata": {},
          "execution_count": 25
        }
      ]
    },
    {
      "cell_type": "code",
      "source": [
        "precios_dolar.mean() + precios_dolar.std()"
      ],
      "metadata": {
        "colab": {
          "base_uri": "https://localhost:8080/"
        },
        "id": "F-iEFLWJU-z4",
        "outputId": "2eb6fc9c-ad03-480d-9f79-f5e87a5dff39"
      },
      "execution_count": 26,
      "outputs": [
        {
          "output_type": "execute_result",
          "data": {
            "text/plain": [
              "22.40376333477385"
            ]
          },
          "metadata": {},
          "execution_count": 26
        }
      ]
    },
    {
      "cell_type": "markdown",
      "source": [
        "### Ejercicio: E112 - Visualizar las gráficas para 1-EJE\n",
        "\n",
        "Define los valores para 1-EJE, por ejemplo, calidad del vino, pesos de personas, precios de casas, temperaturas del experimento, etc.\n",
        "\n",
        "Grafica su histograma a `6` bins.\n",
        "\n",
        "Grafica su gráfica de violín en $y$ (vertical).\n",
        "\n",
        "Grafica su gráfica de caja estadística en $y$ (vertical).\n",
        "\n",
        "Calcula manualmente los valores que veas en la gráficas, por ejemplo, los intervalos del histograma y los cuartiles y demás en la caja estadística."
      ],
      "metadata": {
        "id": "yEsUHiS0Veew"
      }
    },
    {
      "cell_type": "markdown",
      "source": [
        "## Visualización 1-EJE Categórico"
      ],
      "metadata": {
        "id": "WS1eomm0IfCe"
      }
    },
    {
      "cell_type": "markdown",
      "source": [
        "## Visualización 2-EJES Continuos"
      ],
      "metadata": {
        "id": "5HqOzTaUIgYL"
      }
    },
    {
      "cell_type": "markdown",
      "source": [
        "## Visualización 2-EJES Categóricos"
      ],
      "metadata": {
        "id": "k9SrtbDHIhwb"
      }
    },
    {
      "cell_type": "markdown",
      "source": [
        "## Práctica: P101 - Visualización de Datos del Titanic"
      ],
      "metadata": {
        "id": "FMNWGaEGrTAg"
      }
    },
    {
      "cell_type": "markdown",
      "source": [
        "### 1. Adquisición de los Datos\n",
        "\n",
        "Vamos a cargar los datos del titanic directamente de la url:\n",
        "\n",
        "[https://raw.githubusercontent.com/datasciencedojo/datasets/master/titanic.csv](https://raw.githubusercontent.com/datasciencedojo/datasets/master/titanic.csv)"
      ],
      "metadata": {
        "id": "vrP_fr-Gr4M7"
      }
    },
    {
      "cell_type": "code",
      "execution_count": null,
      "metadata": {
        "colab": {
          "base_uri": "https://localhost:8080/"
        },
        "id": "y7xMln0wrMXE",
        "outputId": "36fea0cf-25b0-41fd-fe2f-7d1fc781c9b6"
      },
      "outputs": [
        {
          "output_type": "stream",
          "name": "stdout",
          "text": [
            "<class 'pandas.core.frame.DataFrame'>\n",
            "RangeIndex: 891 entries, 0 to 890\n",
            "Data columns (total 12 columns):\n",
            " #   Column     Non-Null Count  Dtype  \n",
            "---  ------     --------------  -----  \n",
            " 0   ID         891 non-null    int64  \n",
            " 1   SOBREVIVE  891 non-null    int64  \n",
            " 2   CLASE      891 non-null    int64  \n",
            " 3   NOMBRE     891 non-null    object \n",
            " 4   SEXO       891 non-null    object \n",
            " 5   EDAD       714 non-null    float64\n",
            " 6   HERMANOS   891 non-null    int64  \n",
            " 7   PADRES     891 non-null    int64  \n",
            " 8   TICKET     891 non-null    object \n",
            " 9   TARIFA     891 non-null    float64\n",
            " 10  CABINA     204 non-null    object \n",
            " 11  MUELLE     889 non-null    object \n",
            "dtypes: float64(2), int64(5), object(5)\n",
            "memory usage: 83.7+ KB\n"
          ]
        }
      ],
      "source": [
        "import pandas as pd\n",
        "\n",
        "data = pd.read_csv(\"https://raw.githubusercontent.com/datasciencedojo/datasets/master/titanic.csv\")\n",
        "\n",
        "data.columns = [\"ID\", \"SOBREVIVE\", \"CLASE\", \"NOMBRE\", \"SEXO\", \"EDAD\",\n",
        "                \"HERMANOS\", \"PADRES\", \"TICKET\", \"TARIFA\", \"CABINA\", \"MUELLE\"]\n",
        "\n",
        "data.info()"
      ]
    },
    {
      "cell_type": "code",
      "source": [
        "data.sample(5)"
      ],
      "metadata": {
        "colab": {
          "base_uri": "https://localhost:8080/",
          "height": 267
        },
        "id": "e7UnSx0at8iw",
        "outputId": "56540c44-f883-4ca9-e1b6-1b36ed46c09e"
      },
      "execution_count": null,
      "outputs": [
        {
          "output_type": "execute_result",
          "data": {
            "text/plain": [
              "      ID  SOBREVIVE  CLASE                                            NOMBRE  \\\n",
              "15    16          1      2                  Hewlett, Mrs. (Mary D Kingcome)    \n",
              "651  652          1      2                               Doling, Miss. Elsie   \n",
              "871  872          1      1  Beckwith, Mrs. Richard Leonard (Sallie Monypeny)   \n",
              "372  373          0      3                        Beavan, Mr. William Thomas   \n",
              "828  829          1      3                      McCormack, Mr. Thomas Joseph   \n",
              "\n",
              "       SEXO  EDAD  HERMANOS  PADRES  TICKET   TARIFA CABINA MUELLE  \n",
              "15   female  55.0         0       0  248706  16.0000    NaN      S  \n",
              "651  female  18.0         0       1  231919  23.0000    NaN      S  \n",
              "871  female  47.0         1       1   11751  52.5542    D35      S  \n",
              "372    male  19.0         0       0  323951   8.0500    NaN      S  \n",
              "828    male   NaN         0       0  367228   7.7500    NaN      Q  "
            ],
            "text/html": [
              "\n",
              "  <div id=\"df-ed91a110-84f8-4d45-9c52-a1f5d0324a81\">\n",
              "    <div class=\"colab-df-container\">\n",
              "      <div>\n",
              "<style scoped>\n",
              "    .dataframe tbody tr th:only-of-type {\n",
              "        vertical-align: middle;\n",
              "    }\n",
              "\n",
              "    .dataframe tbody tr th {\n",
              "        vertical-align: top;\n",
              "    }\n",
              "\n",
              "    .dataframe thead th {\n",
              "        text-align: right;\n",
              "    }\n",
              "</style>\n",
              "<table border=\"1\" class=\"dataframe\">\n",
              "  <thead>\n",
              "    <tr style=\"text-align: right;\">\n",
              "      <th></th>\n",
              "      <th>ID</th>\n",
              "      <th>SOBREVIVE</th>\n",
              "      <th>CLASE</th>\n",
              "      <th>NOMBRE</th>\n",
              "      <th>SEXO</th>\n",
              "      <th>EDAD</th>\n",
              "      <th>HERMANOS</th>\n",
              "      <th>PADRES</th>\n",
              "      <th>TICKET</th>\n",
              "      <th>TARIFA</th>\n",
              "      <th>CABINA</th>\n",
              "      <th>MUELLE</th>\n",
              "    </tr>\n",
              "  </thead>\n",
              "  <tbody>\n",
              "    <tr>\n",
              "      <th>15</th>\n",
              "      <td>16</td>\n",
              "      <td>1</td>\n",
              "      <td>2</td>\n",
              "      <td>Hewlett, Mrs. (Mary D Kingcome)</td>\n",
              "      <td>female</td>\n",
              "      <td>55.0</td>\n",
              "      <td>0</td>\n",
              "      <td>0</td>\n",
              "      <td>248706</td>\n",
              "      <td>16.0000</td>\n",
              "      <td>NaN</td>\n",
              "      <td>S</td>\n",
              "    </tr>\n",
              "    <tr>\n",
              "      <th>651</th>\n",
              "      <td>652</td>\n",
              "      <td>1</td>\n",
              "      <td>2</td>\n",
              "      <td>Doling, Miss. Elsie</td>\n",
              "      <td>female</td>\n",
              "      <td>18.0</td>\n",
              "      <td>0</td>\n",
              "      <td>1</td>\n",
              "      <td>231919</td>\n",
              "      <td>23.0000</td>\n",
              "      <td>NaN</td>\n",
              "      <td>S</td>\n",
              "    </tr>\n",
              "    <tr>\n",
              "      <th>871</th>\n",
              "      <td>872</td>\n",
              "      <td>1</td>\n",
              "      <td>1</td>\n",
              "      <td>Beckwith, Mrs. Richard Leonard (Sallie Monypeny)</td>\n",
              "      <td>female</td>\n",
              "      <td>47.0</td>\n",
              "      <td>1</td>\n",
              "      <td>1</td>\n",
              "      <td>11751</td>\n",
              "      <td>52.5542</td>\n",
              "      <td>D35</td>\n",
              "      <td>S</td>\n",
              "    </tr>\n",
              "    <tr>\n",
              "      <th>372</th>\n",
              "      <td>373</td>\n",
              "      <td>0</td>\n",
              "      <td>3</td>\n",
              "      <td>Beavan, Mr. William Thomas</td>\n",
              "      <td>male</td>\n",
              "      <td>19.0</td>\n",
              "      <td>0</td>\n",
              "      <td>0</td>\n",
              "      <td>323951</td>\n",
              "      <td>8.0500</td>\n",
              "      <td>NaN</td>\n",
              "      <td>S</td>\n",
              "    </tr>\n",
              "    <tr>\n",
              "      <th>828</th>\n",
              "      <td>829</td>\n",
              "      <td>1</td>\n",
              "      <td>3</td>\n",
              "      <td>McCormack, Mr. Thomas Joseph</td>\n",
              "      <td>male</td>\n",
              "      <td>NaN</td>\n",
              "      <td>0</td>\n",
              "      <td>0</td>\n",
              "      <td>367228</td>\n",
              "      <td>7.7500</td>\n",
              "      <td>NaN</td>\n",
              "      <td>Q</td>\n",
              "    </tr>\n",
              "  </tbody>\n",
              "</table>\n",
              "</div>\n",
              "      <button class=\"colab-df-convert\" onclick=\"convertToInteractive('df-ed91a110-84f8-4d45-9c52-a1f5d0324a81')\"\n",
              "              title=\"Convert this dataframe to an interactive table.\"\n",
              "              style=\"display:none;\">\n",
              "        \n",
              "  <svg xmlns=\"http://www.w3.org/2000/svg\" height=\"24px\"viewBox=\"0 0 24 24\"\n",
              "       width=\"24px\">\n",
              "    <path d=\"M0 0h24v24H0V0z\" fill=\"none\"/>\n",
              "    <path d=\"M18.56 5.44l.94 2.06.94-2.06 2.06-.94-2.06-.94-.94-2.06-.94 2.06-2.06.94zm-11 1L8.5 8.5l.94-2.06 2.06-.94-2.06-.94L8.5 2.5l-.94 2.06-2.06.94zm10 10l.94 2.06.94-2.06 2.06-.94-2.06-.94-.94-2.06-.94 2.06-2.06.94z\"/><path d=\"M17.41 7.96l-1.37-1.37c-.4-.4-.92-.59-1.43-.59-.52 0-1.04.2-1.43.59L10.3 9.45l-7.72 7.72c-.78.78-.78 2.05 0 2.83L4 21.41c.39.39.9.59 1.41.59.51 0 1.02-.2 1.41-.59l7.78-7.78 2.81-2.81c.8-.78.8-2.07 0-2.86zM5.41 20L4 18.59l7.72-7.72 1.47 1.35L5.41 20z\"/>\n",
              "  </svg>\n",
              "      </button>\n",
              "      \n",
              "  <style>\n",
              "    .colab-df-container {\n",
              "      display:flex;\n",
              "      flex-wrap:wrap;\n",
              "      gap: 12px;\n",
              "    }\n",
              "\n",
              "    .colab-df-convert {\n",
              "      background-color: #E8F0FE;\n",
              "      border: none;\n",
              "      border-radius: 50%;\n",
              "      cursor: pointer;\n",
              "      display: none;\n",
              "      fill: #1967D2;\n",
              "      height: 32px;\n",
              "      padding: 0 0 0 0;\n",
              "      width: 32px;\n",
              "    }\n",
              "\n",
              "    .colab-df-convert:hover {\n",
              "      background-color: #E2EBFA;\n",
              "      box-shadow: 0px 1px 2px rgba(60, 64, 67, 0.3), 0px 1px 3px 1px rgba(60, 64, 67, 0.15);\n",
              "      fill: #174EA6;\n",
              "    }\n",
              "\n",
              "    [theme=dark] .colab-df-convert {\n",
              "      background-color: #3B4455;\n",
              "      fill: #D2E3FC;\n",
              "    }\n",
              "\n",
              "    [theme=dark] .colab-df-convert:hover {\n",
              "      background-color: #434B5C;\n",
              "      box-shadow: 0px 1px 3px 1px rgba(0, 0, 0, 0.15);\n",
              "      filter: drop-shadow(0px 1px 2px rgba(0, 0, 0, 0.3));\n",
              "      fill: #FFFFFF;\n",
              "    }\n",
              "  </style>\n",
              "\n",
              "      <script>\n",
              "        const buttonEl =\n",
              "          document.querySelector('#df-ed91a110-84f8-4d45-9c52-a1f5d0324a81 button.colab-df-convert');\n",
              "        buttonEl.style.display =\n",
              "          google.colab.kernel.accessAllowed ? 'block' : 'none';\n",
              "\n",
              "        async function convertToInteractive(key) {\n",
              "          const element = document.querySelector('#df-ed91a110-84f8-4d45-9c52-a1f5d0324a81');\n",
              "          const dataTable =\n",
              "            await google.colab.kernel.invokeFunction('convertToInteractive',\n",
              "                                                     [key], {});\n",
              "          if (!dataTable) return;\n",
              "\n",
              "          const docLinkHtml = 'Like what you see? Visit the ' +\n",
              "            '<a target=\"_blank\" href=https://colab.research.google.com/notebooks/data_table.ipynb>data table notebook</a>'\n",
              "            + ' to learn more about interactive tables.';\n",
              "          element.innerHTML = '';\n",
              "          dataTable['output_type'] = 'display_data';\n",
              "          await google.colab.output.renderOutput(dataTable, element);\n",
              "          const docLink = document.createElement('div');\n",
              "          docLink.innerHTML = docLinkHtml;\n",
              "          element.appendChild(docLink);\n",
              "        }\n",
              "      </script>\n",
              "    </div>\n",
              "  </div>\n",
              "  "
            ]
          },
          "metadata": {},
          "execution_count": 5
        }
      ]
    },
    {
      "cell_type": "markdown",
      "source": [
        "### 2. Limpieza de Datos\n",
        "\n",
        "Vamos a rectificar los datos para evitar valores malformados."
      ],
      "metadata": {
        "id": "GJzBkyqst5D3"
      }
    },
    {
      "cell_type": "code",
      "source": [
        "data[\"SEXO\"] = data[\"SEXO\"].map({\n",
        "    \"female\": \"MUJER\",\n",
        "    \"male\": \"HOMBRE\"\n",
        "})\n",
        "\n",
        "import numpy as np\n",
        "\n",
        "def generador_edades_aleatorias(edad):\n",
        "  if np.isnan(edad):\n",
        "    return np.random.normal(\n",
        "      data[\"EDAD\"].mean(), data[\"EDAD\"].std())\n",
        "  else:\n",
        "    return edad\n",
        "\n",
        "data[\"EDAD\"] = data[\"EDAD\"].map(generador_edades_aleatorias).map(int)\n",
        "\n",
        "data[\"CABINA\"] = data[\"CABINA\"].fillna(\"X\")\n",
        "\n",
        "data.sample(5)"
      ],
      "metadata": {
        "colab": {
          "base_uri": "https://localhost:8080/",
          "height": 285
        },
        "id": "ST0InB_su_mC",
        "outputId": "3607fb6c-9c94-4e99-bffb-572c26269272"
      },
      "execution_count": null,
      "outputs": [
        {
          "output_type": "execute_result",
          "data": {
            "text/plain": [
              "      ID  SOBREVIVE  CLASE                                       NOMBRE  \\\n",
              "350  351          0      3                       Odahl, Mr. Nils Martin   \n",
              "440  441          1      2  Hart, Mrs. Benjamin (Esther Ada Bloomfield)   \n",
              "195  196          1      1                         Lurette, Miss. Elise   \n",
              "474  475          0      3                  Strandberg, Miss. Ida Sofia   \n",
              "450  451          0      2                        West, Mr. Edwy Arthur   \n",
              "\n",
              "       SEXO  EDAD  HERMANOS  PADRES        TICKET    TARIFA CABINA MUELLE  \n",
              "350  HOMBRE    23         0       0          7267    9.2250      X      S  \n",
              "440   MUJER    45         1       1  F.C.C. 13529   26.2500      X      S  \n",
              "195   MUJER    58         0       0      PC 17569  146.5208    B80      C  \n",
              "474   MUJER    22         0       0          7553    9.8375      X      S  \n",
              "450  HOMBRE    36         1       2    C.A. 34651   27.7500      X      S  "
            ],
            "text/html": [
              "\n",
              "  <div id=\"df-94f8514e-a3fe-4611-bcbe-1f5634b43e5c\">\n",
              "    <div class=\"colab-df-container\">\n",
              "      <div>\n",
              "<style scoped>\n",
              "    .dataframe tbody tr th:only-of-type {\n",
              "        vertical-align: middle;\n",
              "    }\n",
              "\n",
              "    .dataframe tbody tr th {\n",
              "        vertical-align: top;\n",
              "    }\n",
              "\n",
              "    .dataframe thead th {\n",
              "        text-align: right;\n",
              "    }\n",
              "</style>\n",
              "<table border=\"1\" class=\"dataframe\">\n",
              "  <thead>\n",
              "    <tr style=\"text-align: right;\">\n",
              "      <th></th>\n",
              "      <th>ID</th>\n",
              "      <th>SOBREVIVE</th>\n",
              "      <th>CLASE</th>\n",
              "      <th>NOMBRE</th>\n",
              "      <th>SEXO</th>\n",
              "      <th>EDAD</th>\n",
              "      <th>HERMANOS</th>\n",
              "      <th>PADRES</th>\n",
              "      <th>TICKET</th>\n",
              "      <th>TARIFA</th>\n",
              "      <th>CABINA</th>\n",
              "      <th>MUELLE</th>\n",
              "    </tr>\n",
              "  </thead>\n",
              "  <tbody>\n",
              "    <tr>\n",
              "      <th>350</th>\n",
              "      <td>351</td>\n",
              "      <td>0</td>\n",
              "      <td>3</td>\n",
              "      <td>Odahl, Mr. Nils Martin</td>\n",
              "      <td>HOMBRE</td>\n",
              "      <td>23</td>\n",
              "      <td>0</td>\n",
              "      <td>0</td>\n",
              "      <td>7267</td>\n",
              "      <td>9.2250</td>\n",
              "      <td>X</td>\n",
              "      <td>S</td>\n",
              "    </tr>\n",
              "    <tr>\n",
              "      <th>440</th>\n",
              "      <td>441</td>\n",
              "      <td>1</td>\n",
              "      <td>2</td>\n",
              "      <td>Hart, Mrs. Benjamin (Esther Ada Bloomfield)</td>\n",
              "      <td>MUJER</td>\n",
              "      <td>45</td>\n",
              "      <td>1</td>\n",
              "      <td>1</td>\n",
              "      <td>F.C.C. 13529</td>\n",
              "      <td>26.2500</td>\n",
              "      <td>X</td>\n",
              "      <td>S</td>\n",
              "    </tr>\n",
              "    <tr>\n",
              "      <th>195</th>\n",
              "      <td>196</td>\n",
              "      <td>1</td>\n",
              "      <td>1</td>\n",
              "      <td>Lurette, Miss. Elise</td>\n",
              "      <td>MUJER</td>\n",
              "      <td>58</td>\n",
              "      <td>0</td>\n",
              "      <td>0</td>\n",
              "      <td>PC 17569</td>\n",
              "      <td>146.5208</td>\n",
              "      <td>B80</td>\n",
              "      <td>C</td>\n",
              "    </tr>\n",
              "    <tr>\n",
              "      <th>474</th>\n",
              "      <td>475</td>\n",
              "      <td>0</td>\n",
              "      <td>3</td>\n",
              "      <td>Strandberg, Miss. Ida Sofia</td>\n",
              "      <td>MUJER</td>\n",
              "      <td>22</td>\n",
              "      <td>0</td>\n",
              "      <td>0</td>\n",
              "      <td>7553</td>\n",
              "      <td>9.8375</td>\n",
              "      <td>X</td>\n",
              "      <td>S</td>\n",
              "    </tr>\n",
              "    <tr>\n",
              "      <th>450</th>\n",
              "      <td>451</td>\n",
              "      <td>0</td>\n",
              "      <td>2</td>\n",
              "      <td>West, Mr. Edwy Arthur</td>\n",
              "      <td>HOMBRE</td>\n",
              "      <td>36</td>\n",
              "      <td>1</td>\n",
              "      <td>2</td>\n",
              "      <td>C.A. 34651</td>\n",
              "      <td>27.7500</td>\n",
              "      <td>X</td>\n",
              "      <td>S</td>\n",
              "    </tr>\n",
              "  </tbody>\n",
              "</table>\n",
              "</div>\n",
              "      <button class=\"colab-df-convert\" onclick=\"convertToInteractive('df-94f8514e-a3fe-4611-bcbe-1f5634b43e5c')\"\n",
              "              title=\"Convert this dataframe to an interactive table.\"\n",
              "              style=\"display:none;\">\n",
              "        \n",
              "  <svg xmlns=\"http://www.w3.org/2000/svg\" height=\"24px\"viewBox=\"0 0 24 24\"\n",
              "       width=\"24px\">\n",
              "    <path d=\"M0 0h24v24H0V0z\" fill=\"none\"/>\n",
              "    <path d=\"M18.56 5.44l.94 2.06.94-2.06 2.06-.94-2.06-.94-.94-2.06-.94 2.06-2.06.94zm-11 1L8.5 8.5l.94-2.06 2.06-.94-2.06-.94L8.5 2.5l-.94 2.06-2.06.94zm10 10l.94 2.06.94-2.06 2.06-.94-2.06-.94-.94-2.06-.94 2.06-2.06.94z\"/><path d=\"M17.41 7.96l-1.37-1.37c-.4-.4-.92-.59-1.43-.59-.52 0-1.04.2-1.43.59L10.3 9.45l-7.72 7.72c-.78.78-.78 2.05 0 2.83L4 21.41c.39.39.9.59 1.41.59.51 0 1.02-.2 1.41-.59l7.78-7.78 2.81-2.81c.8-.78.8-2.07 0-2.86zM5.41 20L4 18.59l7.72-7.72 1.47 1.35L5.41 20z\"/>\n",
              "  </svg>\n",
              "      </button>\n",
              "      \n",
              "  <style>\n",
              "    .colab-df-container {\n",
              "      display:flex;\n",
              "      flex-wrap:wrap;\n",
              "      gap: 12px;\n",
              "    }\n",
              "\n",
              "    .colab-df-convert {\n",
              "      background-color: #E8F0FE;\n",
              "      border: none;\n",
              "      border-radius: 50%;\n",
              "      cursor: pointer;\n",
              "      display: none;\n",
              "      fill: #1967D2;\n",
              "      height: 32px;\n",
              "      padding: 0 0 0 0;\n",
              "      width: 32px;\n",
              "    }\n",
              "\n",
              "    .colab-df-convert:hover {\n",
              "      background-color: #E2EBFA;\n",
              "      box-shadow: 0px 1px 2px rgba(60, 64, 67, 0.3), 0px 1px 3px 1px rgba(60, 64, 67, 0.15);\n",
              "      fill: #174EA6;\n",
              "    }\n",
              "\n",
              "    [theme=dark] .colab-df-convert {\n",
              "      background-color: #3B4455;\n",
              "      fill: #D2E3FC;\n",
              "    }\n",
              "\n",
              "    [theme=dark] .colab-df-convert:hover {\n",
              "      background-color: #434B5C;\n",
              "      box-shadow: 0px 1px 3px 1px rgba(0, 0, 0, 0.15);\n",
              "      filter: drop-shadow(0px 1px 2px rgba(0, 0, 0, 0.3));\n",
              "      fill: #FFFFFF;\n",
              "    }\n",
              "  </style>\n",
              "\n",
              "      <script>\n",
              "        const buttonEl =\n",
              "          document.querySelector('#df-94f8514e-a3fe-4611-bcbe-1f5634b43e5c button.colab-df-convert');\n",
              "        buttonEl.style.display =\n",
              "          google.colab.kernel.accessAllowed ? 'block' : 'none';\n",
              "\n",
              "        async function convertToInteractive(key) {\n",
              "          const element = document.querySelector('#df-94f8514e-a3fe-4611-bcbe-1f5634b43e5c');\n",
              "          const dataTable =\n",
              "            await google.colab.kernel.invokeFunction('convertToInteractive',\n",
              "                                                     [key], {});\n",
              "          if (!dataTable) return;\n",
              "\n",
              "          const docLinkHtml = 'Like what you see? Visit the ' +\n",
              "            '<a target=\"_blank\" href=https://colab.research.google.com/notebooks/data_table.ipynb>data table notebook</a>'\n",
              "            + ' to learn more about interactive tables.';\n",
              "          element.innerHTML = '';\n",
              "          dataTable['output_type'] = 'display_data';\n",
              "          await google.colab.output.renderOutput(dataTable, element);\n",
              "          const docLink = document.createElement('div');\n",
              "          docLink.innerHTML = docLinkHtml;\n",
              "          element.appendChild(docLink);\n",
              "        }\n",
              "      </script>\n",
              "    </div>\n",
              "  </div>\n",
              "  "
            ]
          },
          "metadata": {},
          "execution_count": 27
        }
      ]
    },
    {
      "cell_type": "markdown",
      "source": [
        "### 3. Visualización de Datos por Eje"
      ],
      "metadata": {
        "id": "qhlEqX5kznEK"
      }
    },
    {
      "cell_type": "code",
      "source": [
        "import seaborn as sns\n",
        "import matplotlib.pyplot as plt"
      ],
      "metadata": {
        "id": "OYwVcN0nzsKX"
      },
      "execution_count": null,
      "outputs": []
    },
    {
      "cell_type": "markdown",
      "source": [
        "#### 1. Sobrevive"
      ],
      "metadata": {
        "id": "KkhSsegWzuvA"
      }
    },
    {
      "cell_type": "code",
      "source": [
        "data[\"SOBREVIVE\"].unique()"
      ],
      "metadata": {
        "colab": {
          "base_uri": "https://localhost:8080/"
        },
        "id": "4n7-PLjG2dhz",
        "outputId": "6a77e5a9-aa97-4576-e9fb-a7aa12eed382"
      },
      "execution_count": null,
      "outputs": [
        {
          "output_type": "execute_result",
          "data": {
            "text/plain": [
              "array([0, 1])"
            ]
          },
          "metadata": {},
          "execution_count": 43
        }
      ]
    },
    {
      "cell_type": "code",
      "source": [
        "mask1 = data[\"SOBREVIVE\"] == 1\n",
        "mask2 = data[\"SOBREVIVE\"] == 0\n",
        "\n",
        "weights = [len(data[mask1]), len(data[mask2])]\n",
        "\n",
        "plt.pie(weights, labels=[\"VIVE\", \"MUERE\"], autopct=\"%% %.1f\",\n",
        "        colors=[\"hotpink\", \"cornflowerblue\"])\n",
        "\n",
        "circle=plt.Circle( (0,0), 0.7, color='white')\n",
        "p=plt.gcf()\n",
        "p.gca().add_artist(circle)\n",
        "\n",
        "plt.show()"
      ],
      "metadata": {
        "colab": {
          "base_uri": "https://localhost:8080/",
          "height": 406
        },
        "id": "aLvPbwbJz23v",
        "outputId": "2d1632b9-3bca-4731-965a-20856dc362eb"
      },
      "execution_count": null,
      "outputs": [
        {
          "output_type": "display_data",
          "data": {
            "text/plain": [
              "<Figure size 640x480 with 1 Axes>"
            ],
            "image/png": "[encoded data removed]"
          },
          "metadata": {}
        }
      ]
    },
    {
      "cell_type": "markdown",
      "source": [
        "#### 2. Edad"
      ],
      "metadata": {
        "id": "nkBTf3x623qN"
      }
    },
    {
      "cell_type": "code",
      "source": [
        "sns.displot(data, x=\"EDAD\", kde=True, rug=True)\n",
        "plt.show()"
      ],
      "metadata": {
        "colab": {
          "base_uri": "https://localhost:8080/",
          "height": 506
        },
        "id": "ytqpjoHS23NE",
        "outputId": "531d7693-c866-4a3b-a0be-b6a06879cb12"
      },
      "execution_count": null,
      "outputs": [
        {
          "output_type": "display_data",
          "data": {
            "text/plain": [
              "<Figure size 500x500 with 1 Axes>"
            ],
            "image/png": "[encoded data removed]"
          },
          "metadata": {}
        }
      ]
    },
    {
      "cell_type": "code",
      "source": [
        "sns.violinplot(data, y=\"EDAD\")\n",
        "plt.show()"
      ],
      "metadata": {
        "colab": {
          "base_uri": "https://localhost:8080/",
          "height": 411
        },
        "id": "NqUnWiww3UBT",
        "outputId": "12e62ca3-956b-44ec-bd53-7addafaff880"
      },
      "execution_count": null,
      "outputs": [
        {
          "output_type": "display_data",
          "data": {
            "text/plain": [
              "<Figure size 640x480 with 1 Axes>"
            ],
            "image/png": "[encoded data removed]"
          },
          "metadata": {}
        }
      ]
    },
    {
      "cell_type": "code",
      "source": [
        "sns.boxplot(data, y=\"EDAD\")\n",
        "plt.show()"
      ],
      "metadata": {
        "colab": {
          "base_uri": "https://localhost:8080/",
          "height": 411
        },
        "id": "F2Zzk0DV3lbE",
        "outputId": "8a3a58bc-dfb2-4719-92f8-5e75ae4ea2d5"
      },
      "execution_count": null,
      "outputs": [
        {
          "output_type": "display_data",
          "data": {
            "text/plain": [
              "<Figure size 640x480 with 1 Axes>"
            ],
            "image/png": "[encoded data removed]"
          },
          "metadata": {}
        }
      ]
    }
  ]
}