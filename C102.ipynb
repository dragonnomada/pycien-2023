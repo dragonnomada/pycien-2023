{
  "nbformat": 4,
  "nbformat_minor": 0,
  "metadata": {
    "colab": {
      "provenance": [],
      "toc_visible": true
    },
    "kernelspec": {
      "name": "python3",
      "display_name": "Python 3"
    },
    "language_info": {
      "name": "python"
    }
  },
  "cells": [
    {
      "cell_type": "markdown",
      "source": [
        "# Clase 102 - Análisis de Datos\n",
        "\n",
        "> Programación Python en el Ámbito Científico\n",
        ">\n",
        "> [Alan Badillo Salas](mailto:alan@nomadacode.com)\n",
        ">\n",
        "> Github: [https://github.com/dragonnomada/pycien-2023](https://github.com/dragonnomada/pycien-2023)\n",
        "\n",
        "**Contenido**\n",
        "\n",
        "* Fuentes de datos\n",
        "* Adquisición de datos\n",
        "* Extraer datos de archivos CSV\n",
        "* Análisis de la Varianza (ANOVA)\n",
        "* Distribuciones y Densidades\n",
        "* Correlación de Datos\n",
        "* Regresiones\n",
        "* Clasificadores"
      ],
      "metadata": {
        "id": "iZjZelcUqCiV"
      }
    },
    {
      "cell_type": "markdown",
      "source": [
        "## Fuentes de Datos\n",
        "\n",
        "El análisis de datos parte de fuentes de datos que contienen la información de análisis en una forma no estructurada. Por ejemplo, si quisieramos analizar reseñas de comentarios sobre productos en una tienda en línea, tendríamos que adquirir la información estructurada de alguna forma, por ejemplo, un archivo de texto que en una línea tenga el nombre del producto, en la siguiente línea el nombre del usuario que hace la reseña y su corre, en la siguiente línea la calificación que otorgó y la fecha y en las susesivas líneas la reseña.\n",
        "\n",
        "> Ejemplo de dos reseñas de productos\n",
        "\n",
        "```\n",
        "Freidora de Aire Ninja\n",
        "Ana Pérez (ana@gmail.com)\n",
        "4 de 5, 14 de marzo de 2023\n",
        "Me pareció ideal para cocinar, pero le faltan instrucciones más claras\n",
        "y un recetario ya que sólo incluía platillos básicos, pero no sé como\n",
        "configurarla para platillos más sofisticados.\n",
        "\n",
        "Aspiradora iBot\n",
        "José Pacheco (pacheco@hotmail.com)\n",
        "3 de 5, 17 de junio de 2023\n",
        "Barre bien y le dura bastante la pila (2 horas), pero se queda atorada si\n",
        "hay una extensión suelta o una silla con borde en suelo, por lo que no\n",
        "se puede dejar así o se acabará su batería atorado.\n",
        "\n",
        "```\n",
        "\n",
        "No toda la información está correctamente estructurada y eso hace dificil su adquisición.\n",
        "\n",
        "La forma de estructurar la información es reconociendo los patrones detrás de esta información y logrando etiquetar la información en datos.\n",
        "\n",
        "* **Información** - Representa valores y relaciones que existen en la naturaleza y son piezas continuas de datos, es decir, la información genera datos, pero no está siendo retenida hasta que se mide o se captura.\n",
        "* **Datos** - Representan capturas de información, es decir, valores etiquetados y almacenados para su manipulación o procesamiento.\n",
        "\n",
        "Si la información estuviera mejor estructurada, sería más sencillo recuperarla y poder utilizarla en un programa.\n",
        "\n",
        "Por ejemplo, si las reseñas estuvieran en formato JSON, CSV, Excel o en Bases de Datos.\n",
        "\n",
        "> Ejemplo de las dos reseñas estructuradas en formato JSON\n",
        "\n",
        "```json\n",
        "[\n",
        "  {\n",
        "    \"producto\": \"Freidora de Aire Ninja\",\n",
        "    \"usuario\": \"Ana Pérez\",\n",
        "    \"correo\": \"ana@gmail.com\",\n",
        "    \"valoracion\": 4,\n",
        "    \"maxima_valoracion\": 5,\n",
        "    \"fecha\": \"2023/03/14\",\n",
        "    \"texto\": \"Me pareció ideal para cocinar, pero le faltan instrucciones más claras y un recetario ya que sólo incluía platillos básicos, pero no sé como configurarla para platillos más sofisticados.\"\n",
        "  },\n",
        "  {\n",
        "    \"producto\": \"Aspiradora iBot\",\n",
        "    \"usuario\": \"José Pacheco\",\n",
        "    \"correo\": \"pacheco@hotmail.com\",\n",
        "    \"valoracion\": 3,\n",
        "    \"maxima_valoracion\": 5,\n",
        "    \"fecha\": \"2023/06/17\",\n",
        "    \"texto\": \"Barre bien y le dura bastante la pila (2 horas), pero se queda atorada si hay una extensión suelta o una silla con borde en suelo, por lo que no se puede dejar así o se acabará su batería atorado.\"\n",
        "  }\n",
        "]\n",
        "```\n",
        "\n",
        "> Ejemplo de las dos reseñas estructuras en formato CSV\n",
        "\n",
        "```csv\n",
        "Producto, Usuario, Correo, Valoracion, Fecha, Texto,\n",
        "Freidora de Aire Ninja, Ana Pérez, ana@gmail.com, 4, 2023/03/14, \"Me pareció ideal para cocinar, pero le faltan instrucciones más claras y un recetario ya que sólo incluía platillos básicos, pero no sé como configurarla para platillos más sofisticados.\",\n",
        "Aspiradora iBot, José Pacheco, pacheco@hotmail.com, 3, 2023/06/17, \"Barre bien y le dura bastante la pila (2 horas), pero se queda atorada si hay una extensión suelta o una silla con borde en suelo, por lo que no se puede dejar así o se acabará su batería atorado.\",\n",
        "```\n",
        "\n",
        "Como observar entre mejor estructurada esté la información, más fácil será consumirla, es decir, adquirirla en nuestro programa y poder manipularla para hacer análisis de datos.\n",
        "\n",
        "Por ejemplo, si tenemos un archivo CSV con 10,000 reseñas, podríamos preguntarnos las siguientes preguntas de análisis:\n",
        "\n",
        "1. ¿Cuál es la valoración promedio general?\n",
        "2. ¿Cuál es la valoración promedio de cada año?\n",
        "3. ¿Cuál es la valoración promedio de cada mes de año?\n",
        "4. ¿Cuál es la valoración promedio de cada semana del año?\n",
        "5. ¿Cuál es la valoración promedio de los lunes, martes, miércoles, jueves, viernes, sábados y domingos?\n",
        "6. ¿Cuáles son 10 productos con mejor reseña?\n",
        "7. ¿Cuáles son 20 productos con peor reseña?\n",
        "8. ¿Cuántas reseñas tiene cada correo o cuáles son los correos con más reseñas?\n",
        "9. ¿Cuál es la temporada con mejores reseñas sobre los mismos productos?\n",
        "10. ¿Cuáles son los grupos de reseñas que utilizan palabras similares?"
      ],
      "metadata": {
        "id": "8YmTkkh6rakO"
      }
    },
    {
      "cell_type": "markdown",
      "source": [
        "### Ejemplo de una fuente de datos\n",
        "\n",
        "Datos sobre factores que influyen el diseño de un fraccionamiento\n",
        "\n",
        "Ejes de datos:\n",
        "\n",
        "1. Ubicación (`Coordena latitud, longitud`)\n",
        "2. Número de niveles (`Entero`)\n",
        "3. Tipo de compra (`Categórico Crédito | Contado`)\n",
        "4. Objetivo de ocupación (`Categórico Familiar | Soltero Trabajador | Soltero Jubilado | Pareja Joven | Pareja Retiro`)\n",
        "5. Tiene patio (`Categoríco SI | NO`)\n",
        "6. Usa transporte público (`Categoríco SI | NO`)\n",
        "7. Tiene carro (`Categoríco SI | NO`)\n",
        "8. Para habitar o rentar (`Categoríco Habitar | Rentar`)\n",
        "\n",
        "Muestras:\n",
        "\n",
        "```csv\n",
        "UBICACION, NIVELES, TIPO, OBJETIVO, PATIO, TRANSPORTE, CARRO, USO,\n",
        "\"25.688731,-100.372857\", 2, CREDITO, FAMILIAR, SI, SI, SI, HABITAR,\n",
        "\"25.689142,-100.370030\", 2, CONTADO, PJOVEN, NO, NO, SI, HABITAR,\n",
        "\"25.690060,-100.370330\", 1, CONTADO, STRABAJADOR, NO, SI, NO, RENTAR,\n",
        "```"
      ],
      "metadata": {
        "id": "PUQYpYT5zBg1"
      }
    },
    {
      "cell_type": "markdown",
      "source": [
        "### Ejemplo de preguntas de análisis sobre la fuente de datos\n",
        "\n",
        "1. ¿Cuántos usuarios prefieren casas cercanas a la caseta a una distancia máxima de 100 metros?\n",
        "2. ¿Cuáles son los porcentajes por niveles de planta?\n",
        "3. ¿Cuál es el porcentaje para Crédito?\n",
        "4. ¿Cuál es el tipo de usuario mayor?\n",
        "5. ¿Cuál es el porcentaje de usuarios que tienen carro?"
      ],
      "metadata": {
        "id": "wauLVGcR4tZG"
      }
    },
    {
      "cell_type": "markdown",
      "source": [
        "### Ejercicio: E201 - Diseña una fuente de datos CSV\n",
        "\n",
        "Diseña una fuente de datos en formato CSV que contenga al menos 5 muestras en distintos ejes de datos (al menos 5 también).\n",
        "\n",
        "Por ejemplo, en las reseñas usamos los siguientes ejes de datos:\n",
        "\n",
        "1. Nombre del producto (`Texto`)\n",
        "2. Nombre del usuario (`Texto`)\n",
        "3. Correo el usuario (`Texto usuario@dominio`)\n",
        "4. Valoración de la reseña (`Entero`)\n",
        "5. Fecha de la reseña (`Fecha Entero/Entero/Entero`)\n",
        "6. Texto de la reseña (`Texto`)\n",
        "\n",
        "Crea una lista con tus propios de ejes de datos (que serán las columnas) y por cada fila crea un registro o una muestra con valores reales o ficticios.\n",
        "\n",
        "Algunas ideas son:\n",
        "\n",
        "* Muestras de un experimento de laboratorio\n",
        "* Datos generales sobre personas\n",
        "* Datos de proyectos de construcción\n",
        "* Encuestas psicológicas a empleados\n",
        "* Datos sobre las preferencias de un cliente\n"
      ],
      "metadata": {
        "id": "L3ZmckSkxgL9"
      }
    },
    {
      "cell_type": "markdown",
      "source": [
        "> E201 - SOLUCIÓN AQUÍ"
      ],
      "metadata": {
        "id": "KmKA8xeCy1eO"
      }
    },
    {
      "cell_type": "markdown",
      "source": [
        "### Ejercicio: E202 - Diseña preguntas de análisis\n",
        "\n",
        "Diseña al menos 10 preguntas de análisis sobre la fuente de datos que diseñaste anteriormente.\n",
        "\n",
        "Puedes pensar en qué datos podrías extraer de tu información, por ejemplo, si es numérica pensar en promedios, mínimos y máximos, si es categórica en conteos y segmentaciones a otros ejes, si es de texto en palabras claves, sentimiento del texto, similitudes entre textos, y si es geoespacial distancias a otros puntos o entre los puntos."
      ],
      "metadata": {
        "id": "hYw7IOfO3_6F"
      }
    },
    {
      "cell_type": "markdown",
      "source": [
        "> E202 - SOLUCIÓN AQUÍ"
      ],
      "metadata": {
        "id": "2URVEUWL4LVn"
      }
    },
    {
      "cell_type": "markdown",
      "source": [
        "## Adquisición de datos\n",
        "\n",
        "Para comenzar a trabajar los datos en Python es importante dominar algunas librerías como [Numpy](https://numpy.org) y [Pandas](https://pandas.pydata.org).\n",
        "\n",
        "La librería de *numpy* nos permite manipular arreglos n-dimensionales, como pueden ser los vectores y las matrices.\n",
        "\n",
        "La librería de *pandas* nos permite manipular series de datos (columnas simples) y dataframes (tablas o conjuntos de columnas) para hacer adquisición de datos desde distintas fuentes."
      ],
      "metadata": {
        "id": "9ZYjF7Hz7GYW"
      }
    },
    {
      "cell_type": "markdown",
      "source": [
        "### Ejemplo de la creación de un arreglo 1-dimensional con numpy\n",
        "\n",
        "El arreglo 1-dimensional es un vector o serie de datos que se puede construir de varias formas con numpy, la más sencilla es a través de listas de python."
      ],
      "metadata": {
        "id": "fxKXycIg73vl"
      }
    },
    {
      "cell_type": "code",
      "source": [
        "# Importación de la librería científica de numpy con apodo \"np\"\n",
        "import numpy as np\n",
        "\n",
        "# Representa un vector o columna de datos, por ejemplo, calificaciones, etc.\n",
        "x = np.array([1, 2, 3, 4, 5, 6, 7, 8])\n",
        "\n",
        "x"
      ],
      "metadata": {
        "colab": {
          "base_uri": "https://localhost:8080/"
        },
        "id": "_t0-i8G88f14",
        "outputId": "d7ff6731-b2d7-4bc8-920f-a0f205499df8"
      },
      "execution_count": 1,
      "outputs": [
        {
          "output_type": "execute_result",
          "data": {
            "text/plain": [
              "array([1, 2, 3, 4, 5, 6, 7, 8])"
            ]
          },
          "metadata": {},
          "execution_count": 1
        }
      ]
    },
    {
      "cell_type": "markdown",
      "source": [
        "### Ejemplo de la creación de un arreglo 2-dimensional con numpy\n",
        "\n",
        "El arreglo 2-dimensional es una matriz o tabla de datos que se puede construir de varias formas con numpy, la más sencilla es a través de listas de python."
      ],
      "metadata": {
        "id": "MesX-buv8wRd"
      }
    },
    {
      "cell_type": "code",
      "source": [
        "import numpy as np\n",
        "\n",
        "# Representa una matriz o tabla de datos, por ejemplo, muestras\n",
        "# en varios ejes como calificaciones, edad, precio, etc.\n",
        "X = np.array([\n",
        "    [1, 2, 3],\n",
        "    [4, 5, 6],\n",
        "    [7, 8, 9]\n",
        "])\n",
        "\n",
        "X"
      ],
      "metadata": {
        "colab": {
          "base_uri": "https://localhost:8080/"
        },
        "id": "1Eeut7II9DD2",
        "outputId": "b5e939e0-4da1-492e-e72d-7f58309a9ffc"
      },
      "execution_count": 2,
      "outputs": [
        {
          "output_type": "execute_result",
          "data": {
            "text/plain": [
              "array([[1, 2, 3],\n",
              "       [4, 5, 6],\n",
              "       [7, 8, 9]])"
            ]
          },
          "metadata": {},
          "execution_count": 2
        }
      ]
    },
    {
      "cell_type": "markdown",
      "source": [
        "### Ejemplo de la creación de una serie de datos con pandas\n",
        "\n",
        "La Serie de datos representa una columna o eje de datos similar a un vector. La forma más sencilla de crear una serie es a partir de una lista de python."
      ],
      "metadata": {
        "id": "gl3mioR99akE"
      }
    },
    {
      "cell_type": "code",
      "source": [
        "# Importación de la librería científica de pandas con apodo \"pd\"\n",
        "import pandas as pd\n",
        "\n",
        "# Representa una serie de valores para una columna de datos,\n",
        "# por ejemplo, edades, pesos, precios, etc.\n",
        "s1 = pd.Series([15, 23, 2, 4, 6, 17])\n",
        "\n",
        "s1"
      ],
      "metadata": {
        "colab": {
          "base_uri": "https://localhost:8080/"
        },
        "id": "Dl81sqnL9pEw",
        "outputId": "373dfe11-f7e7-4887-cfb0-cd1046275111"
      },
      "execution_count": 3,
      "outputs": [
        {
          "output_type": "execute_result",
          "data": {
            "text/plain": [
              "0    15\n",
              "1    23\n",
              "2     2\n",
              "3     4\n",
              "4     6\n",
              "5    17\n",
              "dtype: int64"
            ]
          },
          "metadata": {},
          "execution_count": 3
        }
      ]
    },
    {
      "cell_type": "markdown",
      "source": [
        "### Ejemplo de una tabla de datos con pandas\n",
        "\n",
        "El DataFrame representa una tabla de datos, donde por cada fila se tendrán los datos de una muestra en múltiples columnas, cada columna será una serie o eje de datos."
      ],
      "metadata": {
        "id": "iQKZ1btz9-O9"
      }
    },
    {
      "cell_type": "code",
      "source": [
        "import pandas as pd\n",
        "\n",
        "d1 = pd.DataFrame({\n",
        "    \"A\": [1, 2, 3, 4],\n",
        "    \"B\": [5, 6, 7, 8],\n",
        "    \"C\": [9, 10, 11, 12]\n",
        "})\n",
        "\n",
        "d1"
      ],
      "metadata": {
        "colab": {
          "base_uri": "https://localhost:8080/",
          "height": 173
        },
        "id": "LEEe8uB6-QE8",
        "outputId": "7190513d-c5ed-409f-bbde-66b390bdb936"
      },
      "execution_count": 4,
      "outputs": [
        {
          "output_type": "execute_result",
          "data": {
            "text/plain": [
              "   A  B   C\n",
              "0  1  5   9\n",
              "1  2  6  10\n",
              "2  3  7  11\n",
              "3  4  8  12"
            ],
            "text/html": [
              "\n",
              "  <div id=\"df-0f091c33-462f-41f2-8f07-232fb52ff1b3\">\n",
              "    <div class=\"colab-df-container\">\n",
              "      <div>\n",
              "<style scoped>\n",
              "    .dataframe tbody tr th:only-of-type {\n",
              "        vertical-align: middle;\n",
              "    }\n",
              "\n",
              "    .dataframe tbody tr th {\n",
              "        vertical-align: top;\n",
              "    }\n",
              "\n",
              "    .dataframe thead th {\n",
              "        text-align: right;\n",
              "    }\n",
              "</style>\n",
              "<table border=\"1\" class=\"dataframe\">\n",
              "  <thead>\n",
              "    <tr style=\"text-align: right;\">\n",
              "      <th></th>\n",
              "      <th>A</th>\n",
              "      <th>B</th>\n",
              "      <th>C</th>\n",
              "    </tr>\n",
              "  </thead>\n",
              "  <tbody>\n",
              "    <tr>\n",
              "      <th>0</th>\n",
              "      <td>1</td>\n",
              "      <td>5</td>\n",
              "      <td>9</td>\n",
              "    </tr>\n",
              "    <tr>\n",
              "      <th>1</th>\n",
              "      <td>2</td>\n",
              "      <td>6</td>\n",
              "      <td>10</td>\n",
              "    </tr>\n",
              "    <tr>\n",
              "      <th>2</th>\n",
              "      <td>3</td>\n",
              "      <td>7</td>\n",
              "      <td>11</td>\n",
              "    </tr>\n",
              "    <tr>\n",
              "      <th>3</th>\n",
              "      <td>4</td>\n",
              "      <td>8</td>\n",
              "      <td>12</td>\n",
              "    </tr>\n",
              "  </tbody>\n",
              "</table>\n",
              "</div>\n",
              "      <button class=\"colab-df-convert\" onclick=\"convertToInteractive('df-0f091c33-462f-41f2-8f07-232fb52ff1b3')\"\n",
              "              title=\"Convert this dataframe to an interactive table.\"\n",
              "              style=\"display:none;\">\n",
              "        \n",
              "  <svg xmlns=\"http://www.w3.org/2000/svg\" height=\"24px\"viewBox=\"0 0 24 24\"\n",
              "       width=\"24px\">\n",
              "    <path d=\"M0 0h24v24H0V0z\" fill=\"none\"/>\n",
              "    <path d=\"M18.56 5.44l.94 2.06.94-2.06 2.06-.94-2.06-.94-.94-2.06-.94 2.06-2.06.94zm-11 1L8.5 8.5l.94-2.06 2.06-.94-2.06-.94L8.5 2.5l-.94 2.06-2.06.94zm10 10l.94 2.06.94-2.06 2.06-.94-2.06-.94-.94-2.06-.94 2.06-2.06.94z\"/><path d=\"M17.41 7.96l-1.37-1.37c-.4-.4-.92-.59-1.43-.59-.52 0-1.04.2-1.43.59L10.3 9.45l-7.72 7.72c-.78.78-.78 2.05 0 2.83L4 21.41c.39.39.9.59 1.41.59.51 0 1.02-.2 1.41-.59l7.78-7.78 2.81-2.81c.8-.78.8-2.07 0-2.86zM5.41 20L4 18.59l7.72-7.72 1.47 1.35L5.41 20z\"/>\n",
              "  </svg>\n",
              "      </button>\n",
              "      \n",
              "  <style>\n",
              "    .colab-df-container {\n",
              "      display:flex;\n",
              "      flex-wrap:wrap;\n",
              "      gap: 12px;\n",
              "    }\n",
              "\n",
              "    .colab-df-convert {\n",
              "      background-color: #E8F0FE;\n",
              "      border: none;\n",
              "      border-radius: 50%;\n",
              "      cursor: pointer;\n",
              "      display: none;\n",
              "      fill: #1967D2;\n",
              "      height: 32px;\n",
              "      padding: 0 0 0 0;\n",
              "      width: 32px;\n",
              "    }\n",
              "\n",
              "    .colab-df-convert:hover {\n",
              "      background-color: #E2EBFA;\n",
              "      box-shadow: 0px 1px 2px rgba(60, 64, 67, 0.3), 0px 1px 3px 1px rgba(60, 64, 67, 0.15);\n",
              "      fill: #174EA6;\n",
              "    }\n",
              "\n",
              "    [theme=dark] .colab-df-convert {\n",
              "      background-color: #3B4455;\n",
              "      fill: #D2E3FC;\n",
              "    }\n",
              "\n",
              "    [theme=dark] .colab-df-convert:hover {\n",
              "      background-color: #434B5C;\n",
              "      box-shadow: 0px 1px 3px 1px rgba(0, 0, 0, 0.15);\n",
              "      filter: drop-shadow(0px 1px 2px rgba(0, 0, 0, 0.3));\n",
              "      fill: #FFFFFF;\n",
              "    }\n",
              "  </style>\n",
              "\n",
              "      <script>\n",
              "        const buttonEl =\n",
              "          document.querySelector('#df-0f091c33-462f-41f2-8f07-232fb52ff1b3 button.colab-df-convert');\n",
              "        buttonEl.style.display =\n",
              "          google.colab.kernel.accessAllowed ? 'block' : 'none';\n",
              "\n",
              "        async function convertToInteractive(key) {\n",
              "          const element = document.querySelector('#df-0f091c33-462f-41f2-8f07-232fb52ff1b3');\n",
              "          const dataTable =\n",
              "            await google.colab.kernel.invokeFunction('convertToInteractive',\n",
              "                                                     [key], {});\n",
              "          if (!dataTable) return;\n",
              "\n",
              "          const docLinkHtml = 'Like what you see? Visit the ' +\n",
              "            '<a target=\"_blank\" href=https://colab.research.google.com/notebooks/data_table.ipynb>data table notebook</a>'\n",
              "            + ' to learn more about interactive tables.';\n",
              "          element.innerHTML = '';\n",
              "          dataTable['output_type'] = 'display_data';\n",
              "          await google.colab.output.renderOutput(dataTable, element);\n",
              "          const docLink = document.createElement('div');\n",
              "          docLink.innerHTML = docLinkHtml;\n",
              "          element.appendChild(docLink);\n",
              "        }\n",
              "      </script>\n",
              "    </div>\n",
              "  </div>\n",
              "  "
            ]
          },
          "metadata": {},
          "execution_count": 4
        }
      ]
    },
    {
      "cell_type": "markdown",
      "source": [
        "### Ejercicio: E203 - Diseña un arreglo 1-dimensional de numpy\n",
        "\n",
        "Crea un arreglo 1-dimensional para guardar 10 calificaciones distintas"
      ],
      "metadata": {
        "id": "WjRMalLH-hN4"
      }
    },
    {
      "cell_type": "code",
      "source": [
        "# E203 - SOLUCIÓN AQUÍ"
      ],
      "metadata": {
        "id": "7fVnEX9d-wCX"
      },
      "execution_count": null,
      "outputs": []
    },
    {
      "cell_type": "markdown",
      "source": [
        "### Ejercicio: E204 - Diseña un arreglo 2-dimensional de numpy\n",
        "\n",
        "Crea un arreglo 2-dimensional para guardar 10 muestras de edades, pesos y estaturas.\n",
        "\n",
        "Debes crear una matriz de 10 filas por 3 columnas como la siguiente:\n",
        "\n",
        "|Edad|Peso|Estatura|\n",
        "|:-:|:-:|:-:|\n",
        "|23|76.5|1.89|\n",
        "|25|56.2|1.56|\n",
        "|33|65.3|1.67|\n",
        "|17|43.1|1.73|\n",
        "|19|42.9|1.52|\n",
        "|14|37.3|1.45|\n",
        "|45|98.4|1.67|\n",
        "|28|44.2|1.72|\n",
        "|29|71.3|1.54|\n",
        "|21|60.9|1.49|"
      ],
      "metadata": {
        "id": "Mox-l9Rp-yrn"
      }
    },
    {
      "cell_type": "code",
      "source": [
        "# E204 - SOLUCIÓN AQUÍ"
      ],
      "metadata": {
        "id": "KqfbkJfXAEFc"
      },
      "execution_count": null,
      "outputs": []
    },
    {
      "cell_type": "markdown",
      "source": [
        "### Ejercicio: E205 - Diseña una serie de pandas\n",
        "\n",
        "Crea una Serie para guardar 15 medidas de tornillos."
      ],
      "metadata": {
        "id": "Xy-jPcqz_3IB"
      }
    },
    {
      "cell_type": "code",
      "source": [
        "# E205 - SOLUCIÓN AQUÍ"
      ],
      "metadata": {
        "id": "SbolgNePACgD"
      },
      "execution_count": null,
      "outputs": []
    },
    {
      "cell_type": "markdown",
      "source": [
        "Ejercicio: E206 - Diseña un dataframe de pandas\n",
        "\n",
        "Crea un DataFrame con las columnas Temperatura, Humedad, PH y Biomasa y genera 20 muestras de cada uno."
      ],
      "metadata": {
        "id": "nS_9H77dABWx"
      }
    },
    {
      "cell_type": "code",
      "source": [
        "# E206 - SOLUCIÓN AQUÍ"
      ],
      "metadata": {
        "id": "wzJeRWYQAeO8"
      },
      "execution_count": null,
      "outputs": []
    },
    {
      "cell_type": "markdown",
      "source": [
        "## Extraer datos de archivos CSV\n",
        "\n",
        "La forma más directa de adquirir datos manipulables para hacer análisis de datos es mediante archivos de texto plano con extensión CSV.\n",
        "\n",
        "Estos consisten en valores separados por comas (`,`). Si estos contienen texto que a su vez contengan comas será obligatorio encerrar dicho texto entre comillas dobles (`\"...\"`).\n",
        "\n",
        "> Ejemplo de un archivo CSV llamado `datos.csv`\n",
        "\n",
        "```csv\n",
        "A,B,C,\n",
        "1,2,3,\n",
        "4,5,6,\n",
        "7,8,9,\n",
        "10,11,12,13,\n",
        "```\n",
        "\n",
        "**Nota:** Debemos cuidar el uso de espacios después de las comas ya que podría interferir con los datos.\n",
        "\n",
        "La manera más fácil es crear una hoja de Excel y exportarla como archivo CSV separado por comas.\n",
        "\n",
        "Otra alternativa al uso de las comas son las variantes para punto y coma (`;`) y dos puntos (`:`).\n",
        "\n",
        "> Ejemplo de exportación de Excel a CSV\n",
        "\n",
        "![Exportar de Excel a CSV](https://www.spreadsheetclass.com/wp-content/uploads/2020/10/Example-of-how-to-export-a-CSV-from-a-Google-spreadsheet-Clicking-File-then-Download-then-Comma-separated-values.jpg)"
      ],
      "metadata": {
        "id": "BYhDJ2xBZMy_"
      }
    },
    {
      "cell_type": "markdown",
      "source": [
        "### Extracción de datos CSV con pandas\n",
        "\n",
        "La librería científica de python llamada **[Pandas](https://pandas.pydata.org)** nos permitirá cargar archivos CSV como *DataFrames* o *Datasets*, los cuales representan columnas o ejes de datos replicados en muestras, tal cual un CSV.\n",
        "\n",
        "La función `data = pandas.read_csv(<ruta>)` nos permitirá recuperar el dataset de valores y manipularlos de diferentes maneras.\n",
        "\n",
        "Los parámetros para configurar si el CSV tiene la primer fila como cabeceras, el número de filas a ignorar, el nombre de las columnas y más podemos consultarlo en:\n",
        "\n",
        "> Documentación de `pandas.read_csv(...)**texto en negrita**`\n",
        "\n",
        "[https://pandas.pydata.org/docs/reference/api/pandas.read_csv.html](https://pandas.pydata.org/docs/reference/api/pandas.read_csv.html)"
      ],
      "metadata": {
        "id": "q0G06oCQZMw6"
      }
    },
    {
      "cell_type": "markdown",
      "source": [
        "### Subir archivos a Google Colab\n",
        "\n",
        "Podemos subir archivos para accederlos usando el ícono de carpeta ubicado en la barra lateral izquierda (el último de los iconos superiores).\n",
        "\n",
        "![Subir un archivo a Google Colab](https://i.stack.imgur.com/anuvQ.png)"
      ],
      "metadata": {
        "id": "BxN8AYMuchau"
      }
    },
    {
      "cell_type": "markdown",
      "source": [
        "### Ejemplo para adquirir los datos de un CSV con pandas\n",
        "\n",
        "El archivo CSV disponible en:\n",
        "\n",
        "[https://people.sc.fsu.edu/~jburkardt/data/csv/biostats.csv](https://people.sc.fsu.edu/~jburkardt/data/csv/biostats.csv)\n",
        "\n",
        "Contiene los siguientes datos:\n",
        "\n",
        "```csv\n",
        "\"Name\",     \"Sex\", \"Age\", \"Height (in)\", \"Weight (lbs)\"\n",
        "\"Alex\",       \"M\",   41,       74,      170\n",
        "\"Bert\",       \"M\",   42,       68,      166\n",
        "\"Carl\",       \"M\",   32,       70,      155\n",
        "\"Dave\",       \"M\",   39,       72,      167\n",
        "\"Elly\",       \"F\",   30,       66,      124\n",
        "\"Fran\",       \"F\",   33,       66,      115\n",
        "\"Gwen\",       \"F\",   26,       64,      121\n",
        "\"Hank\",       \"M\",   30,       71,      158\n",
        "\"Ivan\",       \"M\",   53,       72,      175\n",
        "\"Jake\",       \"M\",   32,       69,      143\n",
        "\"Kate\",       \"F\",   47,       69,      139\n",
        "\"Luke\",       \"M\",   34,       72,      163\n",
        "\"Myra\",       \"F\",   23,       62,       98\n",
        "\"Neil\",       \"M\",   36,       75,      160\n",
        "\"Omar\",       \"M\",   38,       70,      145\n",
        "\"Page\",       \"F\",   31,       67,      135\n",
        "\"Quin\",       \"M\",   29,       71,      176\n",
        "\"Ruth\",       \"F\",   28,       65,      131\n",
        "```\n",
        "\n",
        "Descargaremos el archivo y lo subiremos a Google Colab. Luego copiaremos la ruta pulsando `Copy path` en el archivo como se muestra en la imagen:\n",
        "\n",
        "![Copy path Google Colab](https://i.stack.imgur.com/mYWnb.png)"
      ],
      "metadata": {
        "id": "3KP4sSNzcTlk"
      }
    },
    {
      "cell_type": "markdown",
      "source": [
        "#### 1. Importamos la librería de pandas"
      ],
      "metadata": {
        "id": "Wxou58j5hO57"
      }
    },
    {
      "cell_type": "code",
      "source": [
        "import pandas as pd"
      ],
      "metadata": {
        "id": "nV6DQMaRcTI0"
      },
      "execution_count": 5,
      "outputs": []
    },
    {
      "cell_type": "markdown",
      "source": [
        "#### 2. Importamos los datos desde la ruta del archivo\n",
        "\n",
        "Importamos los datos desde la ruta del archivo usando la función `pd.read_csv(<ruta>)`\n",
        ">\n",
        "> Generalmente dice `/content/<archivo>.csv` en Google Colab"
      ],
      "metadata": {
        "id": "zLXpw1w5hT8i"
      }
    },
    {
      "cell_type": "code",
      "source": [
        "data = pd.read_csv(\"/content/biostats.csv\")"
      ],
      "metadata": {
        "id": "G4d8ugCUhkpo"
      },
      "execution_count": 6,
      "outputs": []
    },
    {
      "cell_type": "markdown",
      "source": [
        "#### 3. Inspeccionamos los datos\n",
        "\n",
        "Inspeccionamos los datos con `print(data)` o como resultado de la celda\n",
        "\n",
        "\n",
        "> Cuándo tenemos muchos registros pandas sólo nos mostrará algunos"
      ],
      "metadata": {
        "id": "6WtZNQc0hvjp"
      }
    },
    {
      "cell_type": "code",
      "source": [
        "data"
      ],
      "metadata": {
        "colab": {
          "base_uri": "https://localhost:8080/",
          "height": 607
        },
        "id": "NmAt2T_ShzdO",
        "outputId": "f52e5124-dec8-4fc3-fe58-6fb6c2609993"
      },
      "execution_count": 7,
      "outputs": [
        {
          "output_type": "execute_result",
          "data": {
            "text/plain": [
              "    Name       \"Sex\"   \"Age\"   \"Height (in)\"   \"Weight (lbs)\"\n",
              "0   Alex         \"M\"      41              74              170\n",
              "1   Bert         \"M\"      42              68              166\n",
              "2   Carl         \"M\"      32              70              155\n",
              "3   Dave         \"M\"      39              72              167\n",
              "4   Elly         \"F\"      30              66              124\n",
              "5   Fran         \"F\"      33              66              115\n",
              "6   Gwen         \"F\"      26              64              121\n",
              "7   Hank         \"M\"      30              71              158\n",
              "8   Ivan         \"M\"      53              72              175\n",
              "9   Jake         \"M\"      32              69              143\n",
              "10  Kate         \"F\"      47              69              139\n",
              "11  Luke         \"M\"      34              72              163\n",
              "12  Myra         \"F\"      23              62               98\n",
              "13  Neil         \"M\"      36              75              160\n",
              "14  Omar         \"M\"      38              70              145\n",
              "15  Page         \"F\"      31              67              135\n",
              "16  Quin         \"M\"      29              71              176\n",
              "17  Ruth         \"F\"      28              65              131"
            ],
            "text/html": [
              "\n",
              "  <div id=\"df-537f710e-0974-4d0f-aa6b-79ddfcfd7df2\">\n",
              "    <div class=\"colab-df-container\">\n",
              "      <div>\n",
              "<style scoped>\n",
              "    .dataframe tbody tr th:only-of-type {\n",
              "        vertical-align: middle;\n",
              "    }\n",
              "\n",
              "    .dataframe tbody tr th {\n",
              "        vertical-align: top;\n",
              "    }\n",
              "\n",
              "    .dataframe thead th {\n",
              "        text-align: right;\n",
              "    }\n",
              "</style>\n",
              "<table border=\"1\" class=\"dataframe\">\n",
              "  <thead>\n",
              "    <tr style=\"text-align: right;\">\n",
              "      <th></th>\n",
              "      <th>Name</th>\n",
              "      <th>\"Sex\"</th>\n",
              "      <th>\"Age\"</th>\n",
              "      <th>\"Height (in)\"</th>\n",
              "      <th>\"Weight (lbs)\"</th>\n",
              "    </tr>\n",
              "  </thead>\n",
              "  <tbody>\n",
              "    <tr>\n",
              "      <th>0</th>\n",
              "      <td>Alex</td>\n",
              "      <td>\"M\"</td>\n",
              "      <td>41</td>\n",
              "      <td>74</td>\n",
              "      <td>170</td>\n",
              "    </tr>\n",
              "    <tr>\n",
              "      <th>1</th>\n",
              "      <td>Bert</td>\n",
              "      <td>\"M\"</td>\n",
              "      <td>42</td>\n",
              "      <td>68</td>\n",
              "      <td>166</td>\n",
              "    </tr>\n",
              "    <tr>\n",
              "      <th>2</th>\n",
              "      <td>Carl</td>\n",
              "      <td>\"M\"</td>\n",
              "      <td>32</td>\n",
              "      <td>70</td>\n",
              "      <td>155</td>\n",
              "    </tr>\n",
              "    <tr>\n",
              "      <th>3</th>\n",
              "      <td>Dave</td>\n",
              "      <td>\"M\"</td>\n",
              "      <td>39</td>\n",
              "      <td>72</td>\n",
              "      <td>167</td>\n",
              "    </tr>\n",
              "    <tr>\n",
              "      <th>4</th>\n",
              "      <td>Elly</td>\n",
              "      <td>\"F\"</td>\n",
              "      <td>30</td>\n",
              "      <td>66</td>\n",
              "      <td>124</td>\n",
              "    </tr>\n",
              "    <tr>\n",
              "      <th>5</th>\n",
              "      <td>Fran</td>\n",
              "      <td>\"F\"</td>\n",
              "      <td>33</td>\n",
              "      <td>66</td>\n",
              "      <td>115</td>\n",
              "    </tr>\n",
              "    <tr>\n",
              "      <th>6</th>\n",
              "      <td>Gwen</td>\n",
              "      <td>\"F\"</td>\n",
              "      <td>26</td>\n",
              "      <td>64</td>\n",
              "      <td>121</td>\n",
              "    </tr>\n",
              "    <tr>\n",
              "      <th>7</th>\n",
              "      <td>Hank</td>\n",
              "      <td>\"M\"</td>\n",
              "      <td>30</td>\n",
              "      <td>71</td>\n",
              "      <td>158</td>\n",
              "    </tr>\n",
              "    <tr>\n",
              "      <th>8</th>\n",
              "      <td>Ivan</td>\n",
              "      <td>\"M\"</td>\n",
              "      <td>53</td>\n",
              "      <td>72</td>\n",
              "      <td>175</td>\n",
              "    </tr>\n",
              "    <tr>\n",
              "      <th>9</th>\n",
              "      <td>Jake</td>\n",
              "      <td>\"M\"</td>\n",
              "      <td>32</td>\n",
              "      <td>69</td>\n",
              "      <td>143</td>\n",
              "    </tr>\n",
              "    <tr>\n",
              "      <th>10</th>\n",
              "      <td>Kate</td>\n",
              "      <td>\"F\"</td>\n",
              "      <td>47</td>\n",
              "      <td>69</td>\n",
              "      <td>139</td>\n",
              "    </tr>\n",
              "    <tr>\n",
              "      <th>11</th>\n",
              "      <td>Luke</td>\n",
              "      <td>\"M\"</td>\n",
              "      <td>34</td>\n",
              "      <td>72</td>\n",
              "      <td>163</td>\n",
              "    </tr>\n",
              "    <tr>\n",
              "      <th>12</th>\n",
              "      <td>Myra</td>\n",
              "      <td>\"F\"</td>\n",
              "      <td>23</td>\n",
              "      <td>62</td>\n",
              "      <td>98</td>\n",
              "    </tr>\n",
              "    <tr>\n",
              "      <th>13</th>\n",
              "      <td>Neil</td>\n",
              "      <td>\"M\"</td>\n",
              "      <td>36</td>\n",
              "      <td>75</td>\n",
              "      <td>160</td>\n",
              "    </tr>\n",
              "    <tr>\n",
              "      <th>14</th>\n",
              "      <td>Omar</td>\n",
              "      <td>\"M\"</td>\n",
              "      <td>38</td>\n",
              "      <td>70</td>\n",
              "      <td>145</td>\n",
              "    </tr>\n",
              "    <tr>\n",
              "      <th>15</th>\n",
              "      <td>Page</td>\n",
              "      <td>\"F\"</td>\n",
              "      <td>31</td>\n",
              "      <td>67</td>\n",
              "      <td>135</td>\n",
              "    </tr>\n",
              "    <tr>\n",
              "      <th>16</th>\n",
              "      <td>Quin</td>\n",
              "      <td>\"M\"</td>\n",
              "      <td>29</td>\n",
              "      <td>71</td>\n",
              "      <td>176</td>\n",
              "    </tr>\n",
              "    <tr>\n",
              "      <th>17</th>\n",
              "      <td>Ruth</td>\n",
              "      <td>\"F\"</td>\n",
              "      <td>28</td>\n",
              "      <td>65</td>\n",
              "      <td>131</td>\n",
              "    </tr>\n",
              "  </tbody>\n",
              "</table>\n",
              "</div>\n",
              "      <button class=\"colab-df-convert\" onclick=\"convertToInteractive('df-537f710e-0974-4d0f-aa6b-79ddfcfd7df2')\"\n",
              "              title=\"Convert this dataframe to an interactive table.\"\n",
              "              style=\"display:none;\">\n",
              "        \n",
              "  <svg xmlns=\"http://www.w3.org/2000/svg\" height=\"24px\"viewBox=\"0 0 24 24\"\n",
              "       width=\"24px\">\n",
              "    <path d=\"M0 0h24v24H0V0z\" fill=\"none\"/>\n",
              "    <path d=\"M18.56 5.44l.94 2.06.94-2.06 2.06-.94-2.06-.94-.94-2.06-.94 2.06-2.06.94zm-11 1L8.5 8.5l.94-2.06 2.06-.94-2.06-.94L8.5 2.5l-.94 2.06-2.06.94zm10 10l.94 2.06.94-2.06 2.06-.94-2.06-.94-.94-2.06-.94 2.06-2.06.94z\"/><path d=\"M17.41 7.96l-1.37-1.37c-.4-.4-.92-.59-1.43-.59-.52 0-1.04.2-1.43.59L10.3 9.45l-7.72 7.72c-.78.78-.78 2.05 0 2.83L4 21.41c.39.39.9.59 1.41.59.51 0 1.02-.2 1.41-.59l7.78-7.78 2.81-2.81c.8-.78.8-2.07 0-2.86zM5.41 20L4 18.59l7.72-7.72 1.47 1.35L5.41 20z\"/>\n",
              "  </svg>\n",
              "      </button>\n",
              "      \n",
              "  <style>\n",
              "    .colab-df-container {\n",
              "      display:flex;\n",
              "      flex-wrap:wrap;\n",
              "      gap: 12px;\n",
              "    }\n",
              "\n",
              "    .colab-df-convert {\n",
              "      background-color: #E8F0FE;\n",
              "      border: none;\n",
              "      border-radius: 50%;\n",
              "      cursor: pointer;\n",
              "      display: none;\n",
              "      fill: #1967D2;\n",
              "      height: 32px;\n",
              "      padding: 0 0 0 0;\n",
              "      width: 32px;\n",
              "    }\n",
              "\n",
              "    .colab-df-convert:hover {\n",
              "      background-color: #E2EBFA;\n",
              "      box-shadow: 0px 1px 2px rgba(60, 64, 67, 0.3), 0px 1px 3px 1px rgba(60, 64, 67, 0.15);\n",
              "      fill: #174EA6;\n",
              "    }\n",
              "\n",
              "    [theme=dark] .colab-df-convert {\n",
              "      background-color: #3B4455;\n",
              "      fill: #D2E3FC;\n",
              "    }\n",
              "\n",
              "    [theme=dark] .colab-df-convert:hover {\n",
              "      background-color: #434B5C;\n",
              "      box-shadow: 0px 1px 3px 1px rgba(0, 0, 0, 0.15);\n",
              "      filter: drop-shadow(0px 1px 2px rgba(0, 0, 0, 0.3));\n",
              "      fill: #FFFFFF;\n",
              "    }\n",
              "  </style>\n",
              "\n",
              "      <script>\n",
              "        const buttonEl =\n",
              "          document.querySelector('#df-537f710e-0974-4d0f-aa6b-79ddfcfd7df2 button.colab-df-convert');\n",
              "        buttonEl.style.display =\n",
              "          google.colab.kernel.accessAllowed ? 'block' : 'none';\n",
              "\n",
              "        async function convertToInteractive(key) {\n",
              "          const element = document.querySelector('#df-537f710e-0974-4d0f-aa6b-79ddfcfd7df2');\n",
              "          const dataTable =\n",
              "            await google.colab.kernel.invokeFunction('convertToInteractive',\n",
              "                                                     [key], {});\n",
              "          if (!dataTable) return;\n",
              "\n",
              "          const docLinkHtml = 'Like what you see? Visit the ' +\n",
              "            '<a target=\"_blank\" href=https://colab.research.google.com/notebooks/data_table.ipynb>data table notebook</a>'\n",
              "            + ' to learn more about interactive tables.';\n",
              "          element.innerHTML = '';\n",
              "          dataTable['output_type'] = 'display_data';\n",
              "          await google.colab.output.renderOutput(dataTable, element);\n",
              "          const docLink = document.createElement('div');\n",
              "          docLink.innerHTML = docLinkHtml;\n",
              "          element.appendChild(docLink);\n",
              "        }\n",
              "      </script>\n",
              "    </div>\n",
              "  </div>\n",
              "  "
            ]
          },
          "metadata": {},
          "execution_count": 7
        }
      ]
    },
    {
      "cell_type": "markdown",
      "source": [
        "#### 4. Obtenemos la información del dataset\n",
        "\n",
        "Obtenemos la información del dataset con `data.info()`"
      ],
      "metadata": {
        "id": "aeiHPjR7h2q9"
      }
    },
    {
      "cell_type": "code",
      "source": [
        "data.info()"
      ],
      "metadata": {
        "colab": {
          "base_uri": "https://localhost:8080/"
        },
        "id": "8i5_Y4iUiC9Q",
        "outputId": "92bfefac-53ee-475f-9c18-141b465ac358"
      },
      "execution_count": 8,
      "outputs": [
        {
          "output_type": "stream",
          "name": "stdout",
          "text": [
            "<class 'pandas.core.frame.DataFrame'>\n",
            "RangeIndex: 18 entries, 0 to 17\n",
            "Data columns (total 5 columns):\n",
            " #   Column           Non-Null Count  Dtype \n",
            "---  ------           --------------  ----- \n",
            " 0   Name             18 non-null     object\n",
            " 1        \"Sex\"       18 non-null     object\n",
            " 2    \"Age\"           18 non-null     int64 \n",
            " 3    \"Height (in)\"   18 non-null     int64 \n",
            " 4    \"Weight (lbs)\"  18 non-null     int64 \n",
            "dtypes: int64(3), object(2)\n",
            "memory usage: 848.0+ bytes\n"
          ]
        }
      ]
    },
    {
      "cell_type": "markdown",
      "source": [
        "**NOTA:** Observa que la columna \"Sex\" contiene muchos espacios y algunas columnas tienen nombres malformados.\n",
        "\n",
        "Las primeras dos columnas son de texto y las restantes de números enteros."
      ],
      "metadata": {
        "id": "58GrNo9yiFk8"
      }
    },
    {
      "cell_type": "markdown",
      "source": [
        "#### 5. Describimos el dataset\n",
        "\n",
        "Describimos los estadísticos fundamentales del dataset usando `data.describe()`"
      ],
      "metadata": {
        "id": "u1sDyrXPiVh3"
      }
    },
    {
      "cell_type": "code",
      "source": [
        "data.describe()"
      ],
      "metadata": {
        "colab": {
          "base_uri": "https://localhost:8080/",
          "height": 297
        },
        "id": "ViP1c4Gsib9Y",
        "outputId": "2b5e16b8-5f90-4635-8702-f13d6413d569"
      },
      "execution_count": 9,
      "outputs": [
        {
          "output_type": "execute_result",
          "data": {
            "text/plain": [
              "           \"Age\"   \"Height (in)\"   \"Weight (lbs)\"\n",
              "count  18.000000       18.000000        18.000000\n",
              "mean   34.666667       69.055556       146.722222\n",
              "std     7.577055        3.522570        22.540958\n",
              "min    23.000000       62.000000        98.000000\n",
              "25%    30.000000       66.250000       132.000000\n",
              "50%    32.500000       69.500000       150.000000\n",
              "75%    38.750000       71.750000       165.250000\n",
              "max    53.000000       75.000000       176.000000"
            ],
            "text/html": [
              "\n",
              "  <div id=\"df-767ef511-5f0a-4c0f-9ea9-0bcfa393c3f9\">\n",
              "    <div class=\"colab-df-container\">\n",
              "      <div>\n",
              "<style scoped>\n",
              "    .dataframe tbody tr th:only-of-type {\n",
              "        vertical-align: middle;\n",
              "    }\n",
              "\n",
              "    .dataframe tbody tr th {\n",
              "        vertical-align: top;\n",
              "    }\n",
              "\n",
              "    .dataframe thead th {\n",
              "        text-align: right;\n",
              "    }\n",
              "</style>\n",
              "<table border=\"1\" class=\"dataframe\">\n",
              "  <thead>\n",
              "    <tr style=\"text-align: right;\">\n",
              "      <th></th>\n",
              "      <th>\"Age\"</th>\n",
              "      <th>\"Height (in)\"</th>\n",
              "      <th>\"Weight (lbs)\"</th>\n",
              "    </tr>\n",
              "  </thead>\n",
              "  <tbody>\n",
              "    <tr>\n",
              "      <th>count</th>\n",
              "      <td>18.000000</td>\n",
              "      <td>18.000000</td>\n",
              "      <td>18.000000</td>\n",
              "    </tr>\n",
              "    <tr>\n",
              "      <th>mean</th>\n",
              "      <td>34.666667</td>\n",
              "      <td>69.055556</td>\n",
              "      <td>146.722222</td>\n",
              "    </tr>\n",
              "    <tr>\n",
              "      <th>std</th>\n",
              "      <td>7.577055</td>\n",
              "      <td>3.522570</td>\n",
              "      <td>22.540958</td>\n",
              "    </tr>\n",
              "    <tr>\n",
              "      <th>min</th>\n",
              "      <td>23.000000</td>\n",
              "      <td>62.000000</td>\n",
              "      <td>98.000000</td>\n",
              "    </tr>\n",
              "    <tr>\n",
              "      <th>25%</th>\n",
              "      <td>30.000000</td>\n",
              "      <td>66.250000</td>\n",
              "      <td>132.000000</td>\n",
              "    </tr>\n",
              "    <tr>\n",
              "      <th>50%</th>\n",
              "      <td>32.500000</td>\n",
              "      <td>69.500000</td>\n",
              "      <td>150.000000</td>\n",
              "    </tr>\n",
              "    <tr>\n",
              "      <th>75%</th>\n",
              "      <td>38.750000</td>\n",
              "      <td>71.750000</td>\n",
              "      <td>165.250000</td>\n",
              "    </tr>\n",
              "    <tr>\n",
              "      <th>max</th>\n",
              "      <td>53.000000</td>\n",
              "      <td>75.000000</td>\n",
              "      <td>176.000000</td>\n",
              "    </tr>\n",
              "  </tbody>\n",
              "</table>\n",
              "</div>\n",
              "      <button class=\"colab-df-convert\" onclick=\"convertToInteractive('df-767ef511-5f0a-4c0f-9ea9-0bcfa393c3f9')\"\n",
              "              title=\"Convert this dataframe to an interactive table.\"\n",
              "              style=\"display:none;\">\n",
              "        \n",
              "  <svg xmlns=\"http://www.w3.org/2000/svg\" height=\"24px\"viewBox=\"0 0 24 24\"\n",
              "       width=\"24px\">\n",
              "    <path d=\"M0 0h24v24H0V0z\" fill=\"none\"/>\n",
              "    <path d=\"M18.56 5.44l.94 2.06.94-2.06 2.06-.94-2.06-.94-.94-2.06-.94 2.06-2.06.94zm-11 1L8.5 8.5l.94-2.06 2.06-.94-2.06-.94L8.5 2.5l-.94 2.06-2.06.94zm10 10l.94 2.06.94-2.06 2.06-.94-2.06-.94-.94-2.06-.94 2.06-2.06.94z\"/><path d=\"M17.41 7.96l-1.37-1.37c-.4-.4-.92-.59-1.43-.59-.52 0-1.04.2-1.43.59L10.3 9.45l-7.72 7.72c-.78.78-.78 2.05 0 2.83L4 21.41c.39.39.9.59 1.41.59.51 0 1.02-.2 1.41-.59l7.78-7.78 2.81-2.81c.8-.78.8-2.07 0-2.86zM5.41 20L4 18.59l7.72-7.72 1.47 1.35L5.41 20z\"/>\n",
              "  </svg>\n",
              "      </button>\n",
              "      \n",
              "  <style>\n",
              "    .colab-df-container {\n",
              "      display:flex;\n",
              "      flex-wrap:wrap;\n",
              "      gap: 12px;\n",
              "    }\n",
              "\n",
              "    .colab-df-convert {\n",
              "      background-color: #E8F0FE;\n",
              "      border: none;\n",
              "      border-radius: 50%;\n",
              "      cursor: pointer;\n",
              "      display: none;\n",
              "      fill: #1967D2;\n",
              "      height: 32px;\n",
              "      padding: 0 0 0 0;\n",
              "      width: 32px;\n",
              "    }\n",
              "\n",
              "    .colab-df-convert:hover {\n",
              "      background-color: #E2EBFA;\n",
              "      box-shadow: 0px 1px 2px rgba(60, 64, 67, 0.3), 0px 1px 3px 1px rgba(60, 64, 67, 0.15);\n",
              "      fill: #174EA6;\n",
              "    }\n",
              "\n",
              "    [theme=dark] .colab-df-convert {\n",
              "      background-color: #3B4455;\n",
              "      fill: #D2E3FC;\n",
              "    }\n",
              "\n",
              "    [theme=dark] .colab-df-convert:hover {\n",
              "      background-color: #434B5C;\n",
              "      box-shadow: 0px 1px 3px 1px rgba(0, 0, 0, 0.15);\n",
              "      filter: drop-shadow(0px 1px 2px rgba(0, 0, 0, 0.3));\n",
              "      fill: #FFFFFF;\n",
              "    }\n",
              "  </style>\n",
              "\n",
              "      <script>\n",
              "        const buttonEl =\n",
              "          document.querySelector('#df-767ef511-5f0a-4c0f-9ea9-0bcfa393c3f9 button.colab-df-convert');\n",
              "        buttonEl.style.display =\n",
              "          google.colab.kernel.accessAllowed ? 'block' : 'none';\n",
              "\n",
              "        async function convertToInteractive(key) {\n",
              "          const element = document.querySelector('#df-767ef511-5f0a-4c0f-9ea9-0bcfa393c3f9');\n",
              "          const dataTable =\n",
              "            await google.colab.kernel.invokeFunction('convertToInteractive',\n",
              "                                                     [key], {});\n",
              "          if (!dataTable) return;\n",
              "\n",
              "          const docLinkHtml = 'Like what you see? Visit the ' +\n",
              "            '<a target=\"_blank\" href=https://colab.research.google.com/notebooks/data_table.ipynb>data table notebook</a>'\n",
              "            + ' to learn more about interactive tables.';\n",
              "          element.innerHTML = '';\n",
              "          dataTable['output_type'] = 'display_data';\n",
              "          await google.colab.output.renderOutput(dataTable, element);\n",
              "          const docLink = document.createElement('div');\n",
              "          docLink.innerHTML = docLinkHtml;\n",
              "          element.appendChild(docLink);\n",
              "        }\n",
              "      </script>\n",
              "    </div>\n",
              "  </div>\n",
              "  "
            ]
          },
          "metadata": {},
          "execution_count": 9
        }
      ]
    },
    {
      "cell_type": "markdown",
      "source": [
        "Observa que sólo las columnas numéricas pueden ser descritas estadísticamente. Automáticamente calculara el total de muestras, el promedio, la desviación estándar, el mínimo, el cuartil 1, 2, 3 y el máximo."
      ],
      "metadata": {
        "id": "H2vZK-ZTieZp"
      }
    },
    {
      "cell_type": "markdown",
      "source": [
        "#### 6. Inspeccionamos una muestra aleatoria de los datos\n",
        "\n",
        "Inspeccionamos una muestra aleatoria de los datos con `data.sample(<**n**>)`"
      ],
      "metadata": {
        "id": "LHvkG2M4jlIx"
      }
    },
    {
      "cell_type": "code",
      "source": [
        "data.sample(5)"
      ],
      "metadata": {
        "colab": {
          "base_uri": "https://localhost:8080/",
          "height": 204
        },
        "id": "itjKLQlPjqDL",
        "outputId": "9d144585-c3bf-47e9-b0b1-462cf1d67d1b"
      },
      "execution_count": 10,
      "outputs": [
        {
          "output_type": "execute_result",
          "data": {
            "text/plain": [
              "    Name       \"Sex\"   \"Age\"   \"Height (in)\"   \"Weight (lbs)\"\n",
              "2   Carl         \"M\"      32              70              155\n",
              "11  Luke         \"M\"      34              72              163\n",
              "17  Ruth         \"F\"      28              65              131\n",
              "3   Dave         \"M\"      39              72              167\n",
              "10  Kate         \"F\"      47              69              139"
            ],
            "text/html": [
              "\n",
              "  <div id=\"df-4144ea80-4ec7-4f7f-91fb-59cfbb6eca25\">\n",
              "    <div class=\"colab-df-container\">\n",
              "      <div>\n",
              "<style scoped>\n",
              "    .dataframe tbody tr th:only-of-type {\n",
              "        vertical-align: middle;\n",
              "    }\n",
              "\n",
              "    .dataframe tbody tr th {\n",
              "        vertical-align: top;\n",
              "    }\n",
              "\n",
              "    .dataframe thead th {\n",
              "        text-align: right;\n",
              "    }\n",
              "</style>\n",
              "<table border=\"1\" class=\"dataframe\">\n",
              "  <thead>\n",
              "    <tr style=\"text-align: right;\">\n",
              "      <th></th>\n",
              "      <th>Name</th>\n",
              "      <th>\"Sex\"</th>\n",
              "      <th>\"Age\"</th>\n",
              "      <th>\"Height (in)\"</th>\n",
              "      <th>\"Weight (lbs)\"</th>\n",
              "    </tr>\n",
              "  </thead>\n",
              "  <tbody>\n",
              "    <tr>\n",
              "      <th>2</th>\n",
              "      <td>Carl</td>\n",
              "      <td>\"M\"</td>\n",
              "      <td>32</td>\n",
              "      <td>70</td>\n",
              "      <td>155</td>\n",
              "    </tr>\n",
              "    <tr>\n",
              "      <th>11</th>\n",
              "      <td>Luke</td>\n",
              "      <td>\"M\"</td>\n",
              "      <td>34</td>\n",
              "      <td>72</td>\n",
              "      <td>163</td>\n",
              "    </tr>\n",
              "    <tr>\n",
              "      <th>17</th>\n",
              "      <td>Ruth</td>\n",
              "      <td>\"F\"</td>\n",
              "      <td>28</td>\n",
              "      <td>65</td>\n",
              "      <td>131</td>\n",
              "    </tr>\n",
              "    <tr>\n",
              "      <th>3</th>\n",
              "      <td>Dave</td>\n",
              "      <td>\"M\"</td>\n",
              "      <td>39</td>\n",
              "      <td>72</td>\n",
              "      <td>167</td>\n",
              "    </tr>\n",
              "    <tr>\n",
              "      <th>10</th>\n",
              "      <td>Kate</td>\n",
              "      <td>\"F\"</td>\n",
              "      <td>47</td>\n",
              "      <td>69</td>\n",
              "      <td>139</td>\n",
              "    </tr>\n",
              "  </tbody>\n",
              "</table>\n",
              "</div>\n",
              "      <button class=\"colab-df-convert\" onclick=\"convertToInteractive('df-4144ea80-4ec7-4f7f-91fb-59cfbb6eca25')\"\n",
              "              title=\"Convert this dataframe to an interactive table.\"\n",
              "              style=\"display:none;\">\n",
              "        \n",
              "  <svg xmlns=\"http://www.w3.org/2000/svg\" height=\"24px\"viewBox=\"0 0 24 24\"\n",
              "       width=\"24px\">\n",
              "    <path d=\"M0 0h24v24H0V0z\" fill=\"none\"/>\n",
              "    <path d=\"M18.56 5.44l.94 2.06.94-2.06 2.06-.94-2.06-.94-.94-2.06-.94 2.06-2.06.94zm-11 1L8.5 8.5l.94-2.06 2.06-.94-2.06-.94L8.5 2.5l-.94 2.06-2.06.94zm10 10l.94 2.06.94-2.06 2.06-.94-2.06-.94-.94-2.06-.94 2.06-2.06.94z\"/><path d=\"M17.41 7.96l-1.37-1.37c-.4-.4-.92-.59-1.43-.59-.52 0-1.04.2-1.43.59L10.3 9.45l-7.72 7.72c-.78.78-.78 2.05 0 2.83L4 21.41c.39.39.9.59 1.41.59.51 0 1.02-.2 1.41-.59l7.78-7.78 2.81-2.81c.8-.78.8-2.07 0-2.86zM5.41 20L4 18.59l7.72-7.72 1.47 1.35L5.41 20z\"/>\n",
              "  </svg>\n",
              "      </button>\n",
              "      \n",
              "  <style>\n",
              "    .colab-df-container {\n",
              "      display:flex;\n",
              "      flex-wrap:wrap;\n",
              "      gap: 12px;\n",
              "    }\n",
              "\n",
              "    .colab-df-convert {\n",
              "      background-color: #E8F0FE;\n",
              "      border: none;\n",
              "      border-radius: 50%;\n",
              "      cursor: pointer;\n",
              "      display: none;\n",
              "      fill: #1967D2;\n",
              "      height: 32px;\n",
              "      padding: 0 0 0 0;\n",
              "      width: 32px;\n",
              "    }\n",
              "\n",
              "    .colab-df-convert:hover {\n",
              "      background-color: #E2EBFA;\n",
              "      box-shadow: 0px 1px 2px rgba(60, 64, 67, 0.3), 0px 1px 3px 1px rgba(60, 64, 67, 0.15);\n",
              "      fill: #174EA6;\n",
              "    }\n",
              "\n",
              "    [theme=dark] .colab-df-convert {\n",
              "      background-color: #3B4455;\n",
              "      fill: #D2E3FC;\n",
              "    }\n",
              "\n",
              "    [theme=dark] .colab-df-convert:hover {\n",
              "      background-color: #434B5C;\n",
              "      box-shadow: 0px 1px 3px 1px rgba(0, 0, 0, 0.15);\n",
              "      filter: drop-shadow(0px 1px 2px rgba(0, 0, 0, 0.3));\n",
              "      fill: #FFFFFF;\n",
              "    }\n",
              "  </style>\n",
              "\n",
              "      <script>\n",
              "        const buttonEl =\n",
              "          document.querySelector('#df-4144ea80-4ec7-4f7f-91fb-59cfbb6eca25 button.colab-df-convert');\n",
              "        buttonEl.style.display =\n",
              "          google.colab.kernel.accessAllowed ? 'block' : 'none';\n",
              "\n",
              "        async function convertToInteractive(key) {\n",
              "          const element = document.querySelector('#df-4144ea80-4ec7-4f7f-91fb-59cfbb6eca25');\n",
              "          const dataTable =\n",
              "            await google.colab.kernel.invokeFunction('convertToInteractive',\n",
              "                                                     [key], {});\n",
              "          if (!dataTable) return;\n",
              "\n",
              "          const docLinkHtml = 'Like what you see? Visit the ' +\n",
              "            '<a target=\"_blank\" href=https://colab.research.google.com/notebooks/data_table.ipynb>data table notebook</a>'\n",
              "            + ' to learn more about interactive tables.';\n",
              "          element.innerHTML = '';\n",
              "          dataTable['output_type'] = 'display_data';\n",
              "          await google.colab.output.renderOutput(dataTable, element);\n",
              "          const docLink = document.createElement('div');\n",
              "          docLink.innerHTML = docLinkHtml;\n",
              "          element.appendChild(docLink);\n",
              "        }\n",
              "      </script>\n",
              "    </div>\n",
              "  </div>\n",
              "  "
            ]
          },
          "metadata": {},
          "execution_count": 10
        }
      ]
    },
    {
      "cell_type": "markdown",
      "source": [
        "Observa que la muestra aleatoria toma algunos registros y sus valores, para inspeccionar qué valores podemos encontrar dentro del conjunto de datos."
      ],
      "metadata": {
        "id": "9NM_8o6ajv8V"
      }
    },
    {
      "cell_type": "markdown",
      "source": [
        "### Ejercicio: E206 - Carga los archivos de ejemplo de Google Colab\n",
        "\n",
        "Los archivos de la libreta de Google Colab y en la carpeta `sample_data` copia la ruta de `/content/sample_data/california_housing_train.csv` la cual contiene datos de entrenamiento para predecir el valor de una casa.\n",
        "\n",
        "El CSV contiene 3,000 registros, así que usa muestras aleatorias para sólo ver como se comportan algunas muestras.\n",
        "\n",
        "Obtén la información y descripción estadística del conjunto de datos.\n",
        "\n",
        "Los valores deberían lucir como:\n",
        "\n",
        "|longitude|latitude|housing\\_median\\_age|total\\_rooms|total\\_bedrooms|population|households|median\\_income|median\\_house\\_value|\n",
        "|---|---|---|---|---|---|---|---|---|\n",
        "|-122\\.050000|37\\.370000|27\\.000000|3885\\.000000|661\\.000000|1537\\.000000|606\\.000000|6\\.608500|344700\\.000000|\n",
        "|-118\\.300000|34\\.260000|43\\.000000|1510\\.000000|310\\.000000|809\\.000000|277\\.000000|3\\.599000|176500\\.000000|\n",
        "|-117\\.810000|33\\.780000|27\\.000000|3589\\.000000|507\\.000000|1484\\.000000|495\\.000000|5\\.793400|270500\\.000000|\n",
        "|-118\\.360000|33\\.820000|28\\.000000|67\\.000000|15\\.000000|49\\.000000|11\\.000000|6\\.135900|330000\\.000000|\n",
        "|-119\\.670000|36\\.330000|19\\.000000|1241\\.000000|244\\.000000|850\\.000000|237\\.000000|2\\.937500|81700\\.000000|\n",
        "|-119\\.560000|36\\.510000|37\\.000000|1018\\.000000|213\\.000000|663\\.000000|204\\.000000|1\\.663500|67000\\.000000|\n",
        "|-121\\.430000|38\\.630000|43\\.000000|1009\\.000000|225\\.000000|604\\.000000|218\\.000000|1\\.664100|67000\\.000000|\n",
        "|-120\\.650000|35\\.480000|19\\.000000|2310\\.000000|471\\.000000|1341\\.000000|441\\.000000|3\\.225000|166900\\.000000|\n",
        "|-122\\.840000|38\\.400000|15\\.000000|3080\\.000000|617\\.000000|1446\\.000000|599\\.000000|3\\.669600|194400\\.000000|\n",
        "|-118\\.020000|34\\.080000|31\\.000000|2402\\.000000|632\\.000000|2830\\.000000|603\\.000000|2\\.333300|164200\\.000000|"
      ],
      "metadata": {
        "id": "7-vNKgRzi3bu"
      }
    },
    {
      "cell_type": "code",
      "source": [
        "# E206 - SOLUCIÓN AQUÍ"
      ],
      "metadata": {
        "id": "zr8W474HplXp"
      },
      "execution_count": null,
      "outputs": []
    },
    {
      "cell_type": "markdown",
      "source": [
        "## Análisis de la Varianza (ANOVA)\n",
        "\n",
        "Una columna o eje de datos representa una variable aleatoria que toma distintos valores sobre una misma característica, por ejemplo, la edad de una persona, su peso, altura, si está casado, el precio de un producto, sus existencias, el departamento comercial al que pertenece, la temperatura en un experimento, el PH, la densidad, el tiempo de medición, la fecha, etc.\n",
        "\n",
        "A estos los llamaremos en general **Ejes de Análisis** o *ejes de datos*.\n",
        "\n",
        "Cuándo nos centramos en analizar un eje de datos, por ejemplo, el tamaño de un tornillo que fue producido por una máquina moldeadora de tornillos, entonces centraremos el análisis en un **Análisis Univariable**, cuándo se analizan más ejes de de datos se realiza un *Análisis Multivariable*.\n",
        "\n",
        "El **Análisis de la Varianza** o *ANOVA* se centra en determinar si un eje de datos se comporta de forma estándar a través de estudiar el comportamiento de su *varianza* y *desviación media* o *desviación estándar*."
      ],
      "metadata": {
        "id": "moBGitTZpkZU"
      }
    },
    {
      "cell_type": "markdown",
      "source": [
        "### Promedio, Varianza y Desviación estándar\n",
        "\n",
        "El promedio en un eje de datos $x$ está representado por la suma ponderada de los valores que toma $x$ a lo largo de todas las muestras posibles.\n",
        "\n",
        "Como generalmente tenemos acceso solo a una parte de todas las posibles muestras, centramos el análisis en un conjunto de muestras llamada **Población Muestral** que es parte de una **Población Total** o *población ideal*.\n",
        "\n",
        "Entonces, el promedio de la *población muestral* será cada vez más cercano al promedio de la *población total*, si tomamos poblaciones muestrales cada vez más grandes.\n",
        "\n",
        "Por ejemplo, si realizamos 50 encuestas de satisfacción a alumnos que tomaron una materia en la escuela, este promedio será próximo al promedio de todos los alumnos que han tomado esa materia, por ejemplo, 50,000 en 10 años que se ha impartido dicha materia.\n",
        "\n",
        "Obviamente hay sesgos en el análisis, por ejemplo, la materia podría tener profesores distintos, el plan académico se pudo haber modificado, etc.\n",
        "\n",
        "Si dentro de un mismo salón de clases levantaramos 5 encuestas aleatorias, es probable que sea significativo para reflejar la satisfacción general del grupo de 40 alumnos. Y entre más grande sea la población muestral, por ejemplo, preguntar a 10 en lugar de 5, entonces el promedio será cada vez más cercano al de la población total.\n",
        "\n",
        "Esto es válido cuándo la variable se comporta de manera estándar, es decir, si los datos tienen una tendencia central que sea predecible.\n",
        "\n",
        "Veamos como se comporta la tendencia en diferentes ejes de análisis."
      ],
      "metadata": {
        "id": "hb_-q4NM08UO"
      }
    },
    {
      "cell_type": "markdown",
      "source": [
        "### Ejemplo de un eje de análisis para las edades de personas\n",
        "\n",
        "Si preguntamos las edades en un salón de clases, podemos obtener los siguientes datos:"
      ],
      "metadata": {
        "id": "zdJv1WV22qAL"
      }
    },
    {
      "cell_type": "code",
      "source": [
        "import numpy as np\n",
        "\n",
        "edades = np.array([23, 25, 26, 27, 24, 45, 33, 28, 25, 26, 27, 21])\n",
        "\n",
        "edades"
      ],
      "metadata": {
        "colab": {
          "base_uri": "https://localhost:8080/"
        },
        "id": "Wyd-_qKe2196",
        "outputId": "4f468289-334a-4da1-8537-89cf388a5948"
      },
      "execution_count": 11,
      "outputs": [
        {
          "output_type": "execute_result",
          "data": {
            "text/plain": [
              "array([23, 25, 26, 27, 24, 45, 33, 28, 25, 26, 27, 21])"
            ]
          },
          "metadata": {},
          "execution_count": 11
        }
      ]
    },
    {
      "cell_type": "markdown",
      "source": [
        "A simple vista las edades están entre los 20 años y los 45 años, pero podemos observar que casi todas las edades están próximas a 25, quizás más o menos."
      ],
      "metadata": {
        "id": "EPjTw04w2_S3"
      }
    },
    {
      "cell_type": "markdown",
      "source": [
        "### Promedio de las edades\n",
        "\n",
        "Podemos calcular el promedio de las edades sumando todas y dividiendo entre el número de elementos, según la ecuación.\n",
        "\n",
        "$\\overline{x} = \\frac{\\sum_{i=1}^{n} x_i}{n}$\n",
        "\n",
        "> El promedio de un eje de datos $x$ es la suma de los $x_i$ entre el número de datos (la cardinalidad de $|x|$).\n",
        "\n",
        "Con numpy bastaría pedirle al eje de datos su promedio con `x.mean()`"
      ],
      "metadata": {
        "id": "bSd3RARa3LD9"
      }
    },
    {
      "cell_type": "code",
      "source": [
        " edades.mean()"
      ],
      "metadata": {
        "colab": {
          "base_uri": "https://localhost:8080/"
        },
        "id": "3MvaZeCv4Bep",
        "outputId": "fa2affb2-98f2-4628-f812-e6d6feae6b95"
      },
      "execution_count": 12,
      "outputs": [
        {
          "output_type": "execute_result",
          "data": {
            "text/plain": [
              "27.5"
            ]
          },
          "metadata": {},
          "execution_count": 12
        }
      ]
    },
    {
      "cell_type": "markdown",
      "source": [
        "### Varianza de las edades\n",
        "\n",
        "La varianza representa qué tanto se aleja cuadráticamente un dato del promedio de los datos. Esto significa que la suma de las áreas entre los valores y el promedio será muy alta si los valores se devian mucho del promedio.\n",
        "\n",
        "Por ejemplo, si las edades estuvieran entre 0 y 100 años y el promedio fuera cercano a los 50 años, entonces la varianza sería alta, ya que alguien de 0 años distaria mucho del promedio que es 50 años y alguien de 100 años lo mismo.\n",
        "\n",
        "Sin embargo si la mayor parte de las edades estuviera cerca de los 50 años, quizás la varianza no sería tan alta, ya que las áreas serían casi cero.\n",
        "\n",
        "La siguiente ecuación representa la varianza de un eje de datos.\n",
        "\n",
        "$VAR(x) = \\frac{\\sum_{i = 1}^{n} (x_i - \\overline{x})^2}{n}$\n",
        "\n",
        "Recordemos que la varianza está en términos cuadráticos, por lo que no es evidente que su valor represente algo en concreto. Pero podríamos compararla contra el promedio elevado al cuadrado, para intuir si es grande o no lo es.\n",
        "\n",
        "Podríamos que pensar que la varianza es muy alta si todos los datos son dos veces el promedio, aunque teoricamente esto sería improbable, acercarse a este valor significaría que los datos están demasiado alejados.\n",
        "\n",
        "$VAR(x) ≃ \\overline{x}$\n",
        "\n",
        "Aunque usaremos la desviación estándar y los intervalos de confianza para validar esto.\n",
        "\n",
        "Con numpy podemos obtener la varianza de un eje de datos con `x.var()`"
      ],
      "metadata": {
        "id": "fVcdFWhK3-5E"
      }
    },
    {
      "cell_type": "code",
      "source": [
        "edades.var()"
      ],
      "metadata": {
        "colab": {
          "base_uri": "https://localhost:8080/"
        },
        "id": "WqM2QsvU6y6o",
        "outputId": "73ad81e2-af58-4d6d-a53f-b390bb69cae7"
      },
      "execution_count": 13,
      "outputs": [
        {
          "output_type": "execute_result",
          "data": {
            "text/plain": [
              "35.75"
            ]
          },
          "metadata": {},
          "execution_count": 13
        }
      ]
    },
    {
      "cell_type": "markdown",
      "source": [
        "### Desviación estándar de las edades\n",
        "\n",
        "La varianza no tiene un valor estandarizado, por lo que es difícil interpretarla ya que tiene unidades cuadráticas.\n",
        "\n",
        "Pero si obtenemos la raíz cuadrada de la varianza, encontraremos la desviación estándar, la cuál tendrá la misma magnitud que el eje.\n",
        "\n",
        "La ecuación para determinar la desviación estándar es simplemente calcular raíz cuadrada de la varianza.\n",
        "\n",
        "$STD(x) = \\sqrt{VAR(x)} = \\sqrt{\\frac{\\sum_{i = 1}^{n} (x_i - \\overline{x})^2}{n}}$\n",
        "\n",
        "La desviación estándar representa que tanto se aleja un dato de otro en la misma magnitud de los datos.\n",
        "\n",
        "Lo más interesante es que podemos construir intervalos de confianza que nos dirán en qué rango se encuentra cierto porcentaje de los datos como se muestra en la tabla.\n",
        "\n",
        "* $(\\overline{x} - θ, \\overline{x} + θ)$ - Representa el 66% de los datos aproximadamente\n",
        "* $(\\overline{x} - 2 \\cdot θ, \\overline{x} + 2 \\cdot θ)$ - Representa el 95% de los datos aproximadamente\n",
        "* $(\\overline{x} - 3 \\cdot θ, \\overline{x} + 3 \\cdot θ)$ - Representa el 99.5% de los datos aproximadamente\n",
        "\n",
        "Donde $θ = STD(x)$ es la desviación estándar.\n",
        "\n",
        "Con numpy podemos calcular la desviación estándar con de un eje de datos `x.std()` o `x.var() ** 0.5`"
      ],
      "metadata": {
        "id": "oGiKGBZ-61zN"
      }
    },
    {
      "cell_type": "code",
      "source": [
        "x.std()"
      ],
      "metadata": {
        "colab": {
          "base_uri": "https://localhost:8080/"
        },
        "id": "rkj4XiQV8tXi",
        "outputId": "4427c634-0a23-44a4-a1ff-3c2b0a4b9f74"
      },
      "execution_count": 14,
      "outputs": [
        {
          "output_type": "execute_result",
          "data": {
            "text/plain": [
              "2.29128784747792"
            ]
          },
          "metadata": {},
          "execution_count": 14
        }
      ]
    },
    {
      "cell_type": "code",
      "source": [
        "x.var() ** 1/2"
      ],
      "metadata": {
        "colab": {
          "base_uri": "https://localhost:8080/"
        },
        "id": "-LZ7BZ5Q88l9",
        "outputId": "648ed7b4-ef5d-446f-bf76-09dcd333ac47"
      },
      "execution_count": 15,
      "outputs": [
        {
          "output_type": "execute_result",
          "data": {
            "text/plain": [
              "2.625"
            ]
          },
          "metadata": {},
          "execution_count": 15
        }
      ]
    },
    {
      "cell_type": "markdown",
      "source": [
        "**NOTA:** La diferencia entre ambas es que en la desviación estándar se usa un grado menos de libertad, es decir, se divide entre $n - 1$ en lugar de $n$."
      ],
      "metadata": {
        "id": "nJKEGY8Q85pU"
      }
    },
    {
      "cell_type": "markdown",
      "source": [
        "### Intervalos de confianza de las edades\n",
        "\n",
        "Podemos calcular los intervalos de confianza a diferentes porcentajes usando la desviación estándar."
      ],
      "metadata": {
        "id": "UqwOl7st9LAA"
      }
    },
    {
      "cell_type": "code",
      "source": [
        "# El 66% de los datos estará en el siguiente intervalo\n",
        "\n",
        "(edades.mean() - edades.std(), edades.mean() + edades.std())"
      ],
      "metadata": {
        "colab": {
          "base_uri": "https://localhost:8080/"
        },
        "id": "RGePdFpl9bB-",
        "outputId": "f273d620-f333-43c3-96e7-69553904a765"
      },
      "execution_count": 16,
      "outputs": [
        {
          "output_type": "execute_result",
          "data": {
            "text/plain": [
              "(21.5208696284493, 33.479130371550696)"
            ]
          },
          "metadata": {},
          "execution_count": 16
        }
      ]
    },
    {
      "cell_type": "markdown",
      "source": [
        "El 66% de las edades está entre 21.5 años y 33.5 años.[texto del vínculo](https://)"
      ],
      "metadata": {
        "id": "JhmTy6pI9hSF"
      }
    },
    {
      "cell_type": "code",
      "source": [
        "# El 95% de los datos estará en el siguiente intervalo\n",
        "\n",
        "(edades.mean() - 2 * edades.std(), edades.mean() + 2 * edades.std())"
      ],
      "metadata": {
        "colab": {
          "base_uri": "https://localhost:8080/"
        },
        "id": "TRVjsENE9oZm",
        "outputId": "21ebb4a6-cdab-4ae1-f57f-05f19e3d463a"
      },
      "execution_count": 17,
      "outputs": [
        {
          "output_type": "execute_result",
          "data": {
            "text/plain": [
              "(15.541739256898602, 39.4582607431014)"
            ]
          },
          "metadata": {},
          "execution_count": 17
        }
      ]
    },
    {
      "cell_type": "markdown",
      "source": [
        "El 95% de las edades está entre 15.5 años y 39.5 años.\n",
        "\n",
        "```\n",
        "# Esto tiene formato de código\n",
        "```\n",
        "\n"
      ],
      "metadata": {
        "id": "3Q7FUv2r9VKh"
      }
    },
    {
      "cell_type": "code",
      "source": [
        "# El 99.5% de los datos estará en el siguiente intervalo\n",
        "\n",
        "(edades.mean() - 3 * edades.std(), edades.mean() + 3 * edades.std())"
      ],
      "metadata": {
        "colab": {
          "base_uri": "https://localhost:8080/"
        },
        "id": "02yfNtxA93Pt",
        "outputId": "2926c4eb-2baa-44cb-cac7-5c9edba53839"
      },
      "execution_count": 18,
      "outputs": [
        {
          "output_type": "execute_result",
          "data": {
            "text/plain": [
              "(9.562608885347903, 45.4373911146521)"
            ]
          },
          "metadata": {},
          "execution_count": 18
        }
      ]
    },
    {
      "cell_type": "markdown",
      "source": [
        "El 99.5% de las edades está entre 9.5 años y 45.5 años."
      ],
      "metadata": {
        "id": "eILnR2Oy96QU"
      }
    },
    {
      "cell_type": "markdown",
      "source": [
        "Observa que estos intervalos son simétricos y a veces podrían ser negativos, asegurando que los datos estén ese límite.\n",
        "\n",
        "Esto es muy utilizado para predecir si un nuevo valor se escapa de la confianza y puede ser excluído del análisis. Por ejemplo, si llegara una edad de 46 años o 9 años, sería muy improbable según nuestros datos.\n",
        "\n",
        "Entre más datos tengamos, estos intervalos serán más fiables."
      ],
      "metadata": {
        "id": "5_i_F3Y8-ABt"
      }
    },
    {
      "cell_type": "markdown",
      "source": [
        "### Ejercicio: E207 - Definir un eje de análisis\n",
        "\n",
        "Crea un eje de análisis sobre alguna característica que se comporte de manera similar, por ejemplo, medidas de tornillos fabricados, valoraciones en reseñas de un producto, salario de una persona que hace aplicaciones web, etc.\n",
        "\n",
        "Determina:\n",
        "\n",
        "* El promedio del eje\n",
        "* La varianza del eje\n",
        "* La desviación estándar del eje\n",
        "* El intervalo de confianza al 66%\n",
        "* El intervalo de confianza al 95%\n",
        "* El intervalo de confianza al 99.5%"
      ],
      "metadata": {
        "id": "r3glcax_-bH1"
      }
    },
    {
      "cell_type": "markdown",
      "source": [
        "## Distribuciones y Densidades\n",
        "\n",
        "En un eje de análisis podemos analizar el comportamiento de los datos mediante la varianza y desviación estándar. Sin embargo, es importante también visualizar el comportamiento de los datos para detectar sesgos y el comportamiento de la densidad en los datos.\n",
        "\n",
        "La distribución de los datos indica la forma en la que los datos se repiten sobre un intervalo. Esto forma una densidad.\n",
        "\n",
        "Algunas distribuciones clásicas nos permiten obtener resultados inmediatos, por ejemplo, si los datos se distribuyen en forma uniforma, gaussiana, como poisson, gamma, etc.\n",
        "\n",
        "> Ejemplo de una distribución uniforme\n",
        "\n",
        "![Distribución uniforme](https://calcworkshop.com/wp-content/uploads/continuous-uniform-distribution-graph.png)\n",
        "\n",
        "En esta distribución todos los datos tienen casi el mismo valor. También se conoce como distribución constante. Por ejemplo, Los mililitros que contiene un refresco.\n",
        "\n",
        "> Ejemplo de una distribución gaussiana o de campana\n",
        "\n",
        "![Distribucción gaussiana](https://www.allaboutcircuits.com/uploads/articles/the-normal-distribution-understanding-probabilities-in-measured-data-rk-aac-image1.jpg)\n",
        "\n",
        "En esta distribución la mayor cantidad de datos tiende a estar cerca de un valor central o valor de tendencia. Por ejemplo, el número de asistentes a una sala de cine. Podrían ser a veces menos, a veces más, pero en promedio siempre habrá el mismo número de asistentes.\n",
        "\n",
        "> Ejemplo de una distribución de poisson\n",
        "\n",
        "![Distribucción de Poisson](https://www.scribbr.nl/wp-content/uploads/2022/08/Poisson-distribution-graph.webp)\n",
        "\n",
        "En esta distribución hay un factor $λ$ que carga la mayoría de los datos a la izquierda y es poco probable encontrar valores lejanos. Por ejemplo, contar la cantidad de personas que pasan por una calle por minuto. Lo más probable es que no pase gente, que pase una sola persona, que pasen 2, que pasen 3, que pasen 5 y cada vez es menos probable, que pasen por ejemplo 100 personas.\n",
        "\n",
        "> Ejemplo de una distribución gamma\n",
        "\n",
        "![Distribución Gamma](https://upload.wikimedia.org/wikipedia/commons/thumb/e/e6/Gamma_distribution_pdf.svg/1200px-Gamma_distribution_pdf.svg.png)\n",
        "\n",
        "En esta distribución se tiene $k$ y $θ$ que son factores de sesgo que funcionan de forma similar a poisson pero para valores continuos. Por ejemplo, que una máquina productora de masa produzca 800g, 915g, 1,012.5g, 10,531.2g, etc.\n",
        "\n",
        "> Ejemplo de una distribución beta\n",
        "\n",
        "![Distribución Beta](https://miro.medium.com/v2/resize:fit:882/1*n1q2lm3-2Npx2AMCWUaYMQ.png)\n",
        "\n",
        "Esta distribución generaliza a la función gamma para ajustar datos con sesgos a la izquierda o la derecha.\n"
      ],
      "metadata": {
        "id": "1FPL_4lEAsdT"
      }
    },
    {
      "cell_type": "markdown",
      "source": [
        "Existen dos gráficas importantes que podemos utilizar para medir la densidad o distribución de un eje.\n",
        "\n",
        "La primera es el histograma, a cuál es una gráfica de barras que nos mostrará cuántos datos caen sobre cada intervalo."
      ],
      "metadata": {
        "id": "_1Gjfr_RJbwo"
      }
    },
    {
      "cell_type": "markdown",
      "source": [
        "### Ejemplo del histograma de las edades\n",
        "\n",
        "Vamos a calcular el histograma de las edades usando la librería **[Seaborn](https://seaborn.pydata.org/)**.\n",
        "\n",
        "Tenemos que importar la librería, generalmente bajo el apodo de `sns` y usar la función `sns.histplot(x)`"
      ],
      "metadata": {
        "id": "pZg4hr2hKugv"
      }
    },
    {
      "cell_type": "code",
      "source": [
        "import seaborn as sns\n",
        "\n",
        "sns.histplot(edades)"
      ],
      "metadata": {
        "colab": {
          "base_uri": "https://localhost:8080/",
          "height": 447
        },
        "id": "dskI8YT7LJvv",
        "outputId": "a58d8c9b-960f-41bf-ce2a-6b379950e0a4"
      },
      "execution_count": 20,
      "outputs": [
        {
          "output_type": "execute_result",
          "data": {
            "text/plain": [
              "<Axes: ylabel='Count'>"
            ]
          },
          "metadata": {},
          "execution_count": 20
        },
        {
          "output_type": "display_data",
          "data": {
            "text/plain": [
              "<Figure size 640x480 with 1 Axes>"
            ],
            "image/png": "[encoded data removed]"
          },
          "metadata": {}
        }
      ]
    },
    {
      "cell_type": "markdown",
      "source": [
        "Podemos observar que entre aproximadamente 21 y 23 años hay 2 valores, entre 23 y 25 3, entre 25 y 27 hay 4 y entre 27 y 30 hay 1 valor.\n",
        "\n",
        "Luego entre los 43 y 45 hay 1 valor, lo mismo que entre 33 y 35 aproximadamente."
      ],
      "metadata": {
        "id": "vvxINGhdLRHc"
      }
    },
    {
      "cell_type": "markdown",
      "source": [
        "El histograma forma regiones para contar cuántos datos están en ese intervalo o región llamada **BIN**.\n",
        "\n",
        "Podemos modificar cuántas regiones queremos utilizar, si no deseamos que las calcule automáticamente. Por ejemplo, cuándo tenemos muchos datos, podemos pensar en 20 regiones que dividan el espacio entre el mínimo y máximo valor en nuestro eje de datos."
      ],
      "metadata": {
        "id": "b880nsaKLkCI"
      }
    },
    {
      "cell_type": "code",
      "source": [
        "sns.histplot(edades, bins=4)"
      ],
      "metadata": {
        "colab": {
          "base_uri": "https://localhost:8080/",
          "height": 447
        },
        "id": "cXO5mKhxL7Qb",
        "outputId": "a72ffba9-4821-4355-c9ac-51511f2e191c"
      },
      "execution_count": 21,
      "outputs": [
        {
          "output_type": "execute_result",
          "data": {
            "text/plain": [
              "<Axes: ylabel='Count'>"
            ]
          },
          "metadata": {},
          "execution_count": 21
        },
        {
          "output_type": "display_data",
          "data": {
            "text/plain": [
              "<Figure size 640x480 with 1 Axes>"
            ],
            "image/png": "[encoded data removed]"
          },
          "metadata": {}
        }
      ]
    },
    {
      "cell_type": "markdown",
      "source": [
        "Esto es útil para ver los 4 grupos más importantes en las edades. Así tendríamos 7 valores para el rango entre 21 y 27 años, tendríamos 3 valores para el ranfo de los 27 a los 33, 1 valor para el rango de los 33 a los 39 años y otro valor para el rango de los 39 a los 45.\n",
        "\n",
        "Con esto podríamos ver que la distribución se comporta como una **Distribución de Poisson** o **Distribución Gamma** y podríamos centrar el análisis de los 20 a los 33 años que concentran 10 de 12 datos (el 83% de los datos) y descartar el resto."
      ],
      "metadata": {
        "id": "lGFznQZoMD2J"
      }
    },
    {
      "cell_type": "markdown",
      "source": [
        "Con numpy podemos calcular los valores del histograma usando `np.histogram(x, bins=<n>)`."
      ],
      "metadata": {
        "id": "TDfomihDM6Fr"
      }
    },
    {
      "cell_type": "code",
      "source": [
        "np.histogram(edades, bins=4)"
      ],
      "metadata": {
        "colab": {
          "base_uri": "https://localhost:8080/"
        },
        "id": "CaVxjuYvNIPk",
        "outputId": "cedf7923-98d4-4669-cf37-3bac1e7ebf76"
      },
      "execution_count": 22,
      "outputs": [
        {
          "output_type": "execute_result",
          "data": {
            "text/plain": [
              "(array([7, 3, 1, 1]), array([21., 27., 33., 39., 45.]))"
            ]
          },
          "metadata": {},
          "execution_count": 22
        }
      ]
    },
    {
      "cell_type": "markdown",
      "source": [
        "El resultado serán dos arreglos, el primero con las alturas del histograma y el segundo con los intervalos (de 21 a 27, de 27 a 33, de 33 a 39 y de 39 a 45)."
      ],
      "metadata": {
        "id": "7bgKGBZANPWK"
      }
    },
    {
      "cell_type": "markdown",
      "source": [
        "### Ejercicio: E208 - Visualiza y calcula los valores del histograma de para un eje\n",
        "\n",
        "Diseña un eje de datos con numpy como el de las edades y visualiza su histograma a 4 bins.\n",
        "\n",
        "Obtén los valores de los 6 bins y los intervalos del histograma.\n",
        "\n",
        "Dibuja manualmente el histograma en una hoja."
      ],
      "metadata": {
        "id": "yTxrL6tqNdUr"
      }
    },
    {
      "cell_type": "code",
      "source": [
        "# E208 - SOLUCIÓN AQUÍ"
      ],
      "metadata": {
        "id": "X0Kzt_JKOMXs"
      },
      "execution_count": null,
      "outputs": []
    },
    {
      "cell_type": "markdown",
      "source": [
        "## Correlación de datos\n",
        "\n",
        "El análisis univariable es importante para determinar cómo se comportan nuestros datos sobre el eje, por ejemplo, si estos se glutinan hacía un mismo valor promedio, o están dispersos a lo largo del eje de forma uniforme o sesgada.\n",
        "\n",
        "Esto nos indica la tendencia de los datos por comportarse como un mismo valor, si la tendencia es alta y su distribución es gaussiana, podremos asumir que los valores son equivalentes al promedio con cierta confianza.\n",
        "\n",
        "Esto nos permitirá hacer estimaciones para lanzar hipótesis sobre nuestros datos, por ejemplo, hay 95% de confianza que un estudiante de Python Científico tenga entre 23 y 27 años. Y con esto tomar decisiones objetivas a ese segmento de edades.\n",
        "\n",
        "Sin embargo, es muy común que tengamos múltiples ejes de análisis, por ejemplo, tener los datos de la edad, el peso, la estatura, el salario de la persona, y algunos otros ejes de análisis que darán multidimensionalidad a nuestro análisis.\n",
        "\n",
        "La correlación entre los datos, es un estimador que nos permite predecir una tendencia positiva, negativa o nula entre dos ejes de análisis.\n",
        "\n",
        "Si dos ejes de datos se comportan de la misma manera respecto a sus medias, entonces la correlación entre ambos ejes será fuerte, si por el contrario dos ejes se comportan de manera distinta respecto a sus medias, entonces la correlación será baja o nula.\n",
        "\n",
        "Pensemos en que los valores de un eje de datos son mayores a su media, cuando en otro eje de datos también los datos son mayores a su media y el los datos en el primer eje son menores a su media cuándo en el otro eje también los valores son menores a su media.\n",
        "\n",
        "Esto significaría que dados dos ejes de análisis $x$ y $y$ se comportan como sigue:\n",
        "\n",
        "$xi ≥ \\overline{x} ⟺ yi ≥ \\overline{y}  \\land xi ≤ \\overline{x} ⟺ yi ≤ \\overline{y}$\n",
        "\n",
        "Podemos cuántificar cuántas veces esto es cierto sumando el producto de las diferencias entre los datos y sus medias:\n",
        "\n",
        "$\\sum_{i = 1}^{n} (x_i - \\overline{x}) \\cdot (y_i - \\overline{y})$\n",
        "\n",
        "Cuándo ambos sea positivo, el producto sumará algo positivo, y si ambos son negativos, el producto sumará algo positivo, ya que $(-) \\cdot (-) → (+)$.\n",
        "\n",
        "Sólo en el caso que ambos signos sean distintos se sumará algo negativo.\n",
        "\n",
        "A la correlación positiva se le llama correlación directa y a la correlación negativa se le llama correlación indirecta.\n",
        "\n",
        "Ambas correlaciones son importantes, la primera que es positiva se le asocia a una tendencia positiva o directa y a la segunda que es negativa se le suele asociar una tendencia inversa o indirecta.\n",
        "\n",
        "A la correlación entre dos ejes se le suele también llamar covarianza y se denota como:\n",
        "\n",
        "$COV(x, y) = \\frac{\\sum_{i}^{n} (x_i - \\overline{x}) \\cdot (y_i - \\overline{y})}{n - 1}$\n",
        "\n",
        "Notemos que $COV(x, x) = VAR(x)$ usando un grado menos de libertad (estándar).\n",
        "\n",
        "Interpretar la covarianza es difícil, por lo que podemos usar el **[Coeficiente de Pearson](https://en.wikipedia.org/wiki/Pearson_correlation_coefficient)** también llamado la correlación de los datos.\n",
        "\n",
        "Este normaliza los valores por sus desviaciones estándar.\n",
        "\n",
        "$CORR(x, y) = \\frac{COV(x, y)}{σ_x \\cdot σ_y}$\n",
        "\n",
        "Donde $σ_x$ y $σ_y$ son las desviaciones estándar de cada eje.\n",
        "\n",
        "Lo interesante es que la correlación tendrá un valor en el intervalor de $(-1, +1)$ y será `+1` si la correlación es perfecta (directa) o `-1` si es perfecta (inversa).\n",
        "\n",
        "Si la correlación es alta (cerca de `+1` o `-1`), entonces podemos comenzar a plantear hipótesis sobre nuestros datos y buscar una regresión lineal."
      ],
      "metadata": {
        "id": "gFC3UFmX58V9"
      }
    },
    {
      "cell_type": "markdown",
      "source": [
        "### Ejemplo de correlación entre dos ejes para las estaturas y pesos de personas\n",
        "\n",
        "Descargaremos el archivo CSV de [https://www.kaggle.com/datasets/majidarif17/weight-and-heightcsv/download?datasetVersionNumber=1](https://www.kaggle.com/datasets/majidarif17/weight-and-heightcsv/download?datasetVersionNumber=1) que contiene el genero, la altura y peso de 10,000 personas.\n",
        "\n",
        "Buscaremos la correlación entre ambos ejes."
      ],
      "metadata": {
        "id": "vnu15B8G-llI"
      }
    },
    {
      "cell_type": "markdown",
      "source": [
        "#### 1. Descargamos el dataset\n",
        "\n",
        "Descargamos el dataset y lo importamos en Google Colab"
      ],
      "metadata": {
        "id": "8KHdwbIv_iTS"
      }
    },
    {
      "cell_type": "markdown",
      "source": [
        "#### 2. Importamos el dataset con pandas\n",
        "\n",
        "Importamos el dataset a un DataFrame usando la librería de Pandas y `pd.read_csv(<ruta>)`.\n",
        "\n",
        "Observa que hemos renombrado las columnas para mejorar los nombres y manipularlos más comodamente.\n",
        "\n",
        "También especificamos la ruta obtenida por Google Colab.\n",
        "\n",
        "Finalmente reportamos una muestra aleatoria de 5 muestras para ver sus datos (como resultado de la ejecución de la celda)."
      ],
      "metadata": {
        "id": "tFyRYyNqAfWQ"
      }
    },
    {
      "cell_type": "code",
      "source": [
        "import pandas as pd\n",
        "\n",
        "data = pd.read_csv(\"/content/weight-height.csv\")\n",
        "\n",
        "data.columns = [\"GENERO\", \"ALTURA\", \"PESO\"]\n",
        "\n",
        "data.sample(5)"
      ],
      "metadata": {
        "colab": {
          "base_uri": "https://localhost:8080/",
          "height": 204
        },
        "id": "1FyzzxHxAV6x",
        "outputId": "0eff210b-c6c2-4621-aae4-891594875312"
      },
      "execution_count": 29,
      "outputs": [
        {
          "output_type": "execute_result",
          "data": {
            "text/plain": [
              "      GENERO     ALTURA        PESO\n",
              "7792  Female  64.428106  141.214470\n",
              "3950    Male  74.383715  213.653765\n",
              "4977    Male  74.043290  219.337909\n",
              "2706    Male  72.629123  192.328967\n",
              "6120  Female  62.315752  123.783564"
            ],
            "text/html": [
              "\n",
              "  <div id=\"df-1b41ac17-e6fe-4544-935b-dcd461deb9fe\">\n",
              "    <div class=\"colab-df-container\">\n",
              "      <div>\n",
              "<style scoped>\n",
              "    .dataframe tbody tr th:only-of-type {\n",
              "        vertical-align: middle;\n",
              "    }\n",
              "\n",
              "    .dataframe tbody tr th {\n",
              "        vertical-align: top;\n",
              "    }\n",
              "\n",
              "    .dataframe thead th {\n",
              "        text-align: right;\n",
              "    }\n",
              "</style>\n",
              "<table border=\"1\" class=\"dataframe\">\n",
              "  <thead>\n",
              "    <tr style=\"text-align: right;\">\n",
              "      <th></th>\n",
              "      <th>GENERO</th>\n",
              "      <th>ALTURA</th>\n",
              "      <th>PESO</th>\n",
              "    </tr>\n",
              "  </thead>\n",
              "  <tbody>\n",
              "    <tr>\n",
              "      <th>7792</th>\n",
              "      <td>Female</td>\n",
              "      <td>64.428106</td>\n",
              "      <td>141.214470</td>\n",
              "    </tr>\n",
              "    <tr>\n",
              "      <th>3950</th>\n",
              "      <td>Male</td>\n",
              "      <td>74.383715</td>\n",
              "      <td>213.653765</td>\n",
              "    </tr>\n",
              "    <tr>\n",
              "      <th>4977</th>\n",
              "      <td>Male</td>\n",
              "      <td>74.043290</td>\n",
              "      <td>219.337909</td>\n",
              "    </tr>\n",
              "    <tr>\n",
              "      <th>2706</th>\n",
              "      <td>Male</td>\n",
              "      <td>72.629123</td>\n",
              "      <td>192.328967</td>\n",
              "    </tr>\n",
              "    <tr>\n",
              "      <th>6120</th>\n",
              "      <td>Female</td>\n",
              "      <td>62.315752</td>\n",
              "      <td>123.783564</td>\n",
              "    </tr>\n",
              "  </tbody>\n",
              "</table>\n",
              "</div>\n",
              "      <button class=\"colab-df-convert\" onclick=\"convertToInteractive('df-1b41ac17-e6fe-4544-935b-dcd461deb9fe')\"\n",
              "              title=\"Convert this dataframe to an interactive table.\"\n",
              "              style=\"display:none;\">\n",
              "        \n",
              "  <svg xmlns=\"http://www.w3.org/2000/svg\" height=\"24px\"viewBox=\"0 0 24 24\"\n",
              "       width=\"24px\">\n",
              "    <path d=\"M0 0h24v24H0V0z\" fill=\"none\"/>\n",
              "    <path d=\"M18.56 5.44l.94 2.06.94-2.06 2.06-.94-2.06-.94-.94-2.06-.94 2.06-2.06.94zm-11 1L8.5 8.5l.94-2.06 2.06-.94-2.06-.94L8.5 2.5l-.94 2.06-2.06.94zm10 10l.94 2.06.94-2.06 2.06-.94-2.06-.94-.94-2.06-.94 2.06-2.06.94z\"/><path d=\"M17.41 7.96l-1.37-1.37c-.4-.4-.92-.59-1.43-.59-.52 0-1.04.2-1.43.59L10.3 9.45l-7.72 7.72c-.78.78-.78 2.05 0 2.83L4 21.41c.39.39.9.59 1.41.59.51 0 1.02-.2 1.41-.59l7.78-7.78 2.81-2.81c.8-.78.8-2.07 0-2.86zM5.41 20L4 18.59l7.72-7.72 1.47 1.35L5.41 20z\"/>\n",
              "  </svg>\n",
              "      </button>\n",
              "      \n",
              "  <style>\n",
              "    .colab-df-container {\n",
              "      display:flex;\n",
              "      flex-wrap:wrap;\n",
              "      gap: 12px;\n",
              "    }\n",
              "\n",
              "    .colab-df-convert {\n",
              "      background-color: #E8F0FE;\n",
              "      border: none;\n",
              "      border-radius: 50%;\n",
              "      cursor: pointer;\n",
              "      display: none;\n",
              "      fill: #1967D2;\n",
              "      height: 32px;\n",
              "      padding: 0 0 0 0;\n",
              "      width: 32px;\n",
              "    }\n",
              "\n",
              "    .colab-df-convert:hover {\n",
              "      background-color: #E2EBFA;\n",
              "      box-shadow: 0px 1px 2px rgba(60, 64, 67, 0.3), 0px 1px 3px 1px rgba(60, 64, 67, 0.15);\n",
              "      fill: #174EA6;\n",
              "    }\n",
              "\n",
              "    [theme=dark] .colab-df-convert {\n",
              "      background-color: #3B4455;\n",
              "      fill: #D2E3FC;\n",
              "    }\n",
              "\n",
              "    [theme=dark] .colab-df-convert:hover {\n",
              "      background-color: #434B5C;\n",
              "      box-shadow: 0px 1px 3px 1px rgba(0, 0, 0, 0.15);\n",
              "      filter: drop-shadow(0px 1px 2px rgba(0, 0, 0, 0.3));\n",
              "      fill: #FFFFFF;\n",
              "    }\n",
              "  </style>\n",
              "\n",
              "      <script>\n",
              "        const buttonEl =\n",
              "          document.querySelector('#df-1b41ac17-e6fe-4544-935b-dcd461deb9fe button.colab-df-convert');\n",
              "        buttonEl.style.display =\n",
              "          google.colab.kernel.accessAllowed ? 'block' : 'none';\n",
              "\n",
              "        async function convertToInteractive(key) {\n",
              "          const element = document.querySelector('#df-1b41ac17-e6fe-4544-935b-dcd461deb9fe');\n",
              "          const dataTable =\n",
              "            await google.colab.kernel.invokeFunction('convertToInteractive',\n",
              "                                                     [key], {});\n",
              "          if (!dataTable) return;\n",
              "\n",
              "          const docLinkHtml = 'Like what you see? Visit the ' +\n",
              "            '<a target=\"_blank\" href=https://colab.research.google.com/notebooks/data_table.ipynb>data table notebook</a>'\n",
              "            + ' to learn more about interactive tables.';\n",
              "          element.innerHTML = '';\n",
              "          dataTable['output_type'] = 'display_data';\n",
              "          await google.colab.output.renderOutput(dataTable, element);\n",
              "          const docLink = document.createElement('div');\n",
              "          docLink.innerHTML = docLinkHtml;\n",
              "          element.appendChild(docLink);\n",
              "        }\n",
              "      </script>\n",
              "    </div>\n",
              "  </div>\n",
              "  "
            ]
          },
          "metadata": {},
          "execution_count": 29
        }
      ]
    },
    {
      "cell_type": "markdown",
      "source": [
        "Mostramos los estadísticos fundamentales."
      ],
      "metadata": {
        "id": "6o-GmpwXFsZ1"
      }
    },
    {
      "cell_type": "code",
      "source": [
        "data.describe()"
      ],
      "metadata": {
        "colab": {
          "base_uri": "https://localhost:8080/",
          "height": 297
        },
        "id": "GH091kCACh9Z",
        "outputId": "98312156-3ec3-44f8-e356-5e26128a790c"
      },
      "execution_count": 30,
      "outputs": [
        {
          "output_type": "execute_result",
          "data": {
            "text/plain": [
              "             ALTURA          PESO\n",
              "count  10000.000000  10000.000000\n",
              "mean      66.367560    161.440357\n",
              "std        3.847528     32.108439\n",
              "min       54.263133     64.700127\n",
              "25%       63.505620    135.818051\n",
              "50%       66.318070    161.212928\n",
              "75%       69.174262    187.169525\n",
              "max       78.998742    269.989699"
            ],
            "text/html": [
              "\n",
              "  <div id=\"df-4376b5e8-9a5d-4d91-9745-7b9f11888f2d\">\n",
              "    <div class=\"colab-df-container\">\n",
              "      <div>\n",
              "<style scoped>\n",
              "    .dataframe tbody tr th:only-of-type {\n",
              "        vertical-align: middle;\n",
              "    }\n",
              "\n",
              "    .dataframe tbody tr th {\n",
              "        vertical-align: top;\n",
              "    }\n",
              "\n",
              "    .dataframe thead th {\n",
              "        text-align: right;\n",
              "    }\n",
              "</style>\n",
              "<table border=\"1\" class=\"dataframe\">\n",
              "  <thead>\n",
              "    <tr style=\"text-align: right;\">\n",
              "      <th></th>\n",
              "      <th>ALTURA</th>\n",
              "      <th>PESO</th>\n",
              "    </tr>\n",
              "  </thead>\n",
              "  <tbody>\n",
              "    <tr>\n",
              "      <th>count</th>\n",
              "      <td>10000.000000</td>\n",
              "      <td>10000.000000</td>\n",
              "    </tr>\n",
              "    <tr>\n",
              "      <th>mean</th>\n",
              "      <td>66.367560</td>\n",
              "      <td>161.440357</td>\n",
              "    </tr>\n",
              "    <tr>\n",
              "      <th>std</th>\n",
              "      <td>3.847528</td>\n",
              "      <td>32.108439</td>\n",
              "    </tr>\n",
              "    <tr>\n",
              "      <th>min</th>\n",
              "      <td>54.263133</td>\n",
              "      <td>64.700127</td>\n",
              "    </tr>\n",
              "    <tr>\n",
              "      <th>25%</th>\n",
              "      <td>63.505620</td>\n",
              "      <td>135.818051</td>\n",
              "    </tr>\n",
              "    <tr>\n",
              "      <th>50%</th>\n",
              "      <td>66.318070</td>\n",
              "      <td>161.212928</td>\n",
              "    </tr>\n",
              "    <tr>\n",
              "      <th>75%</th>\n",
              "      <td>69.174262</td>\n",
              "      <td>187.169525</td>\n",
              "    </tr>\n",
              "    <tr>\n",
              "      <th>max</th>\n",
              "      <td>78.998742</td>\n",
              "      <td>269.989699</td>\n",
              "    </tr>\n",
              "  </tbody>\n",
              "</table>\n",
              "</div>\n",
              "      <button class=\"colab-df-convert\" onclick=\"convertToInteractive('df-4376b5e8-9a5d-4d91-9745-7b9f11888f2d')\"\n",
              "              title=\"Convert this dataframe to an interactive table.\"\n",
              "              style=\"display:none;\">\n",
              "        \n",
              "  <svg xmlns=\"http://www.w3.org/2000/svg\" height=\"24px\"viewBox=\"0 0 24 24\"\n",
              "       width=\"24px\">\n",
              "    <path d=\"M0 0h24v24H0V0z\" fill=\"none\"/>\n",
              "    <path d=\"M18.56 5.44l.94 2.06.94-2.06 2.06-.94-2.06-.94-.94-2.06-.94 2.06-2.06.94zm-11 1L8.5 8.5l.94-2.06 2.06-.94-2.06-.94L8.5 2.5l-.94 2.06-2.06.94zm10 10l.94 2.06.94-2.06 2.06-.94-2.06-.94-.94-2.06-.94 2.06-2.06.94z\"/><path d=\"M17.41 7.96l-1.37-1.37c-.4-.4-.92-.59-1.43-.59-.52 0-1.04.2-1.43.59L10.3 9.45l-7.72 7.72c-.78.78-.78 2.05 0 2.83L4 21.41c.39.39.9.59 1.41.59.51 0 1.02-.2 1.41-.59l7.78-7.78 2.81-2.81c.8-.78.8-2.07 0-2.86zM5.41 20L4 18.59l7.72-7.72 1.47 1.35L5.41 20z\"/>\n",
              "  </svg>\n",
              "      </button>\n",
              "      \n",
              "  <style>\n",
              "    .colab-df-container {\n",
              "      display:flex;\n",
              "      flex-wrap:wrap;\n",
              "      gap: 12px;\n",
              "    }\n",
              "\n",
              "    .colab-df-convert {\n",
              "      background-color: #E8F0FE;\n",
              "      border: none;\n",
              "      border-radius: 50%;\n",
              "      cursor: pointer;\n",
              "      display: none;\n",
              "      fill: #1967D2;\n",
              "      height: 32px;\n",
              "      padding: 0 0 0 0;\n",
              "      width: 32px;\n",
              "    }\n",
              "\n",
              "    .colab-df-convert:hover {\n",
              "      background-color: #E2EBFA;\n",
              "      box-shadow: 0px 1px 2px rgba(60, 64, 67, 0.3), 0px 1px 3px 1px rgba(60, 64, 67, 0.15);\n",
              "      fill: #174EA6;\n",
              "    }\n",
              "\n",
              "    [theme=dark] .colab-df-convert {\n",
              "      background-color: #3B4455;\n",
              "      fill: #D2E3FC;\n",
              "    }\n",
              "\n",
              "    [theme=dark] .colab-df-convert:hover {\n",
              "      background-color: #434B5C;\n",
              "      box-shadow: 0px 1px 3px 1px rgba(0, 0, 0, 0.15);\n",
              "      filter: drop-shadow(0px 1px 2px rgba(0, 0, 0, 0.3));\n",
              "      fill: #FFFFFF;\n",
              "    }\n",
              "  </style>\n",
              "\n",
              "      <script>\n",
              "        const buttonEl =\n",
              "          document.querySelector('#df-4376b5e8-9a5d-4d91-9745-7b9f11888f2d button.colab-df-convert');\n",
              "        buttonEl.style.display =\n",
              "          google.colab.kernel.accessAllowed ? 'block' : 'none';\n",
              "\n",
              "        async function convertToInteractive(key) {\n",
              "          const element = document.querySelector('#df-4376b5e8-9a5d-4d91-9745-7b9f11888f2d');\n",
              "          const dataTable =\n",
              "            await google.colab.kernel.invokeFunction('convertToInteractive',\n",
              "                                                     [key], {});\n",
              "          if (!dataTable) return;\n",
              "\n",
              "          const docLinkHtml = 'Like what you see? Visit the ' +\n",
              "            '<a target=\"_blank\" href=https://colab.research.google.com/notebooks/data_table.ipynb>data table notebook</a>'\n",
              "            + ' to learn more about interactive tables.';\n",
              "          element.innerHTML = '';\n",
              "          dataTable['output_type'] = 'display_data';\n",
              "          await google.colab.output.renderOutput(dataTable, element);\n",
              "          const docLink = document.createElement('div');\n",
              "          docLink.innerHTML = docLinkHtml;\n",
              "          element.appendChild(docLink);\n",
              "        }\n",
              "      </script>\n",
              "    </div>\n",
              "  </div>\n",
              "  "
            ]
          },
          "metadata": {},
          "execution_count": 30
        }
      ]
    },
    {
      "cell_type": "markdown",
      "source": [
        "**NOTA:** La altura está dada en pulgadas y el peso en libras"
      ],
      "metadata": {
        "id": "Ad1q0TfnBXtO"
      }
    },
    {
      "cell_type": "markdown",
      "source": [
        "#### 3. Reconvertimos los ejes a unidades de centímetros y kilogramos\n",
        "\n",
        "Reemplazamos la columna *ALTURA* dividiéndola por `2.54` para convertirla a centímetros y la columna *PESO* dividiéndola por `0.453592` para convertirla a kilogramos."
      ],
      "metadata": {
        "id": "UKTzyCAhBoLU"
      }
    },
    {
      "cell_type": "code",
      "source": [
        "data[\"ALTURA\"] = data[\"ALTURA\"] * 2.54\n",
        "data[\"PESO\"] = data[\"PESO\"] * 0.453592\n",
        "\n",
        "data.sample(5)"
      ],
      "metadata": {
        "colab": {
          "base_uri": "https://localhost:8080/",
          "height": 204
        },
        "id": "NGzy5YrTCEy6",
        "outputId": "c27ed002-e3ce-4aa8-873b-4a4db40c51d5"
      },
      "execution_count": 31,
      "outputs": [
        {
          "output_type": "execute_result",
          "data": {
            "text/plain": [
              "      GENERO      ALTURA       PESO\n",
              "110     Male  176.003555  85.159790\n",
              "972     Male  175.756421  84.245278\n",
              "1932    Male  177.001127  82.525032\n",
              "1249    Male  174.982815  79.916942\n",
              "6224  Female  169.227205  64.041412"
            ],
            "text/html": [
              "\n",
              "  <div id=\"df-4337cdb4-eec5-4426-8128-e8c3291c34e3\">\n",
              "    <div class=\"colab-df-container\">\n",
              "      <div>\n",
              "<style scoped>\n",
              "    .dataframe tbody tr th:only-of-type {\n",
              "        vertical-align: middle;\n",
              "    }\n",
              "\n",
              "    .dataframe tbody tr th {\n",
              "        vertical-align: top;\n",
              "    }\n",
              "\n",
              "    .dataframe thead th {\n",
              "        text-align: right;\n",
              "    }\n",
              "</style>\n",
              "<table border=\"1\" class=\"dataframe\">\n",
              "  <thead>\n",
              "    <tr style=\"text-align: right;\">\n",
              "      <th></th>\n",
              "      <th>GENERO</th>\n",
              "      <th>ALTURA</th>\n",
              "      <th>PESO</th>\n",
              "    </tr>\n",
              "  </thead>\n",
              "  <tbody>\n",
              "    <tr>\n",
              "      <th>110</th>\n",
              "      <td>Male</td>\n",
              "      <td>176.003555</td>\n",
              "      <td>85.159790</td>\n",
              "    </tr>\n",
              "    <tr>\n",
              "      <th>972</th>\n",
              "      <td>Male</td>\n",
              "      <td>175.756421</td>\n",
              "      <td>84.245278</td>\n",
              "    </tr>\n",
              "    <tr>\n",
              "      <th>1932</th>\n",
              "      <td>Male</td>\n",
              "      <td>177.001127</td>\n",
              "      <td>82.525032</td>\n",
              "    </tr>\n",
              "    <tr>\n",
              "      <th>1249</th>\n",
              "      <td>Male</td>\n",
              "      <td>174.982815</td>\n",
              "      <td>79.916942</td>\n",
              "    </tr>\n",
              "    <tr>\n",
              "      <th>6224</th>\n",
              "      <td>Female</td>\n",
              "      <td>169.227205</td>\n",
              "      <td>64.041412</td>\n",
              "    </tr>\n",
              "  </tbody>\n",
              "</table>\n",
              "</div>\n",
              "      <button class=\"colab-df-convert\" onclick=\"convertToInteractive('df-4337cdb4-eec5-4426-8128-e8c3291c34e3')\"\n",
              "              title=\"Convert this dataframe to an interactive table.\"\n",
              "              style=\"display:none;\">\n",
              "        \n",
              "  <svg xmlns=\"http://www.w3.org/2000/svg\" height=\"24px\"viewBox=\"0 0 24 24\"\n",
              "       width=\"24px\">\n",
              "    <path d=\"M0 0h24v24H0V0z\" fill=\"none\"/>\n",
              "    <path d=\"M18.56 5.44l.94 2.06.94-2.06 2.06-.94-2.06-.94-.94-2.06-.94 2.06-2.06.94zm-11 1L8.5 8.5l.94-2.06 2.06-.94-2.06-.94L8.5 2.5l-.94 2.06-2.06.94zm10 10l.94 2.06.94-2.06 2.06-.94-2.06-.94-.94-2.06-.94 2.06-2.06.94z\"/><path d=\"M17.41 7.96l-1.37-1.37c-.4-.4-.92-.59-1.43-.59-.52 0-1.04.2-1.43.59L10.3 9.45l-7.72 7.72c-.78.78-.78 2.05 0 2.83L4 21.41c.39.39.9.59 1.41.59.51 0 1.02-.2 1.41-.59l7.78-7.78 2.81-2.81c.8-.78.8-2.07 0-2.86zM5.41 20L4 18.59l7.72-7.72 1.47 1.35L5.41 20z\"/>\n",
              "  </svg>\n",
              "      </button>\n",
              "      \n",
              "  <style>\n",
              "    .colab-df-container {\n",
              "      display:flex;\n",
              "      flex-wrap:wrap;\n",
              "      gap: 12px;\n",
              "    }\n",
              "\n",
              "    .colab-df-convert {\n",
              "      background-color: #E8F0FE;\n",
              "      border: none;\n",
              "      border-radius: 50%;\n",
              "      cursor: pointer;\n",
              "      display: none;\n",
              "      fill: #1967D2;\n",
              "      height: 32px;\n",
              "      padding: 0 0 0 0;\n",
              "      width: 32px;\n",
              "    }\n",
              "\n",
              "    .colab-df-convert:hover {\n",
              "      background-color: #E2EBFA;\n",
              "      box-shadow: 0px 1px 2px rgba(60, 64, 67, 0.3), 0px 1px 3px 1px rgba(60, 64, 67, 0.15);\n",
              "      fill: #174EA6;\n",
              "    }\n",
              "\n",
              "    [theme=dark] .colab-df-convert {\n",
              "      background-color: #3B4455;\n",
              "      fill: #D2E3FC;\n",
              "    }\n",
              "\n",
              "    [theme=dark] .colab-df-convert:hover {\n",
              "      background-color: #434B5C;\n",
              "      box-shadow: 0px 1px 3px 1px rgba(0, 0, 0, 0.15);\n",
              "      filter: drop-shadow(0px 1px 2px rgba(0, 0, 0, 0.3));\n",
              "      fill: #FFFFFF;\n",
              "    }\n",
              "  </style>\n",
              "\n",
              "      <script>\n",
              "        const buttonEl =\n",
              "          document.querySelector('#df-4337cdb4-eec5-4426-8128-e8c3291c34e3 button.colab-df-convert');\n",
              "        buttonEl.style.display =\n",
              "          google.colab.kernel.accessAllowed ? 'block' : 'none';\n",
              "\n",
              "        async function convertToInteractive(key) {\n",
              "          const element = document.querySelector('#df-4337cdb4-eec5-4426-8128-e8c3291c34e3');\n",
              "          const dataTable =\n",
              "            await google.colab.kernel.invokeFunction('convertToInteractive',\n",
              "                                                     [key], {});\n",
              "          if (!dataTable) return;\n",
              "\n",
              "          const docLinkHtml = 'Like what you see? Visit the ' +\n",
              "            '<a target=\"_blank\" href=https://colab.research.google.com/notebooks/data_table.ipynb>data table notebook</a>'\n",
              "            + ' to learn more about interactive tables.';\n",
              "          element.innerHTML = '';\n",
              "          dataTable['output_type'] = 'display_data';\n",
              "          await google.colab.output.renderOutput(dataTable, element);\n",
              "          const docLink = document.createElement('div');\n",
              "          docLink.innerHTML = docLinkHtml;\n",
              "          element.appendChild(docLink);\n",
              "        }\n",
              "      </script>\n",
              "    </div>\n",
              "  </div>\n",
              "  "
            ]
          },
          "metadata": {},
          "execution_count": 31
        }
      ]
    },
    {
      "cell_type": "markdown",
      "source": [
        "Volvemos a mostrar los estadísticos."
      ],
      "metadata": {
        "id": "KzjOP_boGAk9"
      }
    },
    {
      "cell_type": "code",
      "source": [
        "data.describe()"
      ],
      "metadata": {
        "colab": {
          "base_uri": "https://localhost:8080/",
          "height": 297
        },
        "id": "GB6GSEQiGDIe",
        "outputId": "f896a976-758e-47ef-d5ec-56d37c02c5da"
      },
      "execution_count": 32,
      "outputs": [
        {
          "output_type": "execute_result",
          "data": {
            "text/plain": [
              "             ALTURA          PESO\n",
              "count  10000.000000  10000.000000\n",
              "mean     168.573602     73.228054\n",
              "std        9.772721     14.564131\n",
              "min      137.828359     29.347460\n",
              "25%      161.304276     61.605982\n",
              "50%      168.447898     73.124894\n",
              "75%      175.702625     84.898599\n",
              "max      200.656806    122.465167"
            ],
            "text/html": [
              "\n",
              "  <div id=\"df-2e355d3b-a8fa-4174-9dfa-dfa001d3e744\">\n",
              "    <div class=\"colab-df-container\">\n",
              "      <div>\n",
              "<style scoped>\n",
              "    .dataframe tbody tr th:only-of-type {\n",
              "        vertical-align: middle;\n",
              "    }\n",
              "\n",
              "    .dataframe tbody tr th {\n",
              "        vertical-align: top;\n",
              "    }\n",
              "\n",
              "    .dataframe thead th {\n",
              "        text-align: right;\n",
              "    }\n",
              "</style>\n",
              "<table border=\"1\" class=\"dataframe\">\n",
              "  <thead>\n",
              "    <tr style=\"text-align: right;\">\n",
              "      <th></th>\n",
              "      <th>ALTURA</th>\n",
              "      <th>PESO</th>\n",
              "    </tr>\n",
              "  </thead>\n",
              "  <tbody>\n",
              "    <tr>\n",
              "      <th>count</th>\n",
              "      <td>10000.000000</td>\n",
              "      <td>10000.000000</td>\n",
              "    </tr>\n",
              "    <tr>\n",
              "      <th>mean</th>\n",
              "      <td>168.573602</td>\n",
              "      <td>73.228054</td>\n",
              "    </tr>\n",
              "    <tr>\n",
              "      <th>std</th>\n",
              "      <td>9.772721</td>\n",
              "      <td>14.564131</td>\n",
              "    </tr>\n",
              "    <tr>\n",
              "      <th>min</th>\n",
              "      <td>137.828359</td>\n",
              "      <td>29.347460</td>\n",
              "    </tr>\n",
              "    <tr>\n",
              "      <th>25%</th>\n",
              "      <td>161.304276</td>\n",
              "      <td>61.605982</td>\n",
              "    </tr>\n",
              "    <tr>\n",
              "      <th>50%</th>\n",
              "      <td>168.447898</td>\n",
              "      <td>73.124894</td>\n",
              "    </tr>\n",
              "    <tr>\n",
              "      <th>75%</th>\n",
              "      <td>175.702625</td>\n",
              "      <td>84.898599</td>\n",
              "    </tr>\n",
              "    <tr>\n",
              "      <th>max</th>\n",
              "      <td>200.656806</td>\n",
              "      <td>122.465167</td>\n",
              "    </tr>\n",
              "  </tbody>\n",
              "</table>\n",
              "</div>\n",
              "      <button class=\"colab-df-convert\" onclick=\"convertToInteractive('df-2e355d3b-a8fa-4174-9dfa-dfa001d3e744')\"\n",
              "              title=\"Convert this dataframe to an interactive table.\"\n",
              "              style=\"display:none;\">\n",
              "        \n",
              "  <svg xmlns=\"http://www.w3.org/2000/svg\" height=\"24px\"viewBox=\"0 0 24 24\"\n",
              "       width=\"24px\">\n",
              "    <path d=\"M0 0h24v24H0V0z\" fill=\"none\"/>\n",
              "    <path d=\"M18.56 5.44l.94 2.06.94-2.06 2.06-.94-2.06-.94-.94-2.06-.94 2.06-2.06.94zm-11 1L8.5 8.5l.94-2.06 2.06-.94-2.06-.94L8.5 2.5l-.94 2.06-2.06.94zm10 10l.94 2.06.94-2.06 2.06-.94-2.06-.94-.94-2.06-.94 2.06-2.06.94z\"/><path d=\"M17.41 7.96l-1.37-1.37c-.4-.4-.92-.59-1.43-.59-.52 0-1.04.2-1.43.59L10.3 9.45l-7.72 7.72c-.78.78-.78 2.05 0 2.83L4 21.41c.39.39.9.59 1.41.59.51 0 1.02-.2 1.41-.59l7.78-7.78 2.81-2.81c.8-.78.8-2.07 0-2.86zM5.41 20L4 18.59l7.72-7.72 1.47 1.35L5.41 20z\"/>\n",
              "  </svg>\n",
              "      </button>\n",
              "      \n",
              "  <style>\n",
              "    .colab-df-container {\n",
              "      display:flex;\n",
              "      flex-wrap:wrap;\n",
              "      gap: 12px;\n",
              "    }\n",
              "\n",
              "    .colab-df-convert {\n",
              "      background-color: #E8F0FE;\n",
              "      border: none;\n",
              "      border-radius: 50%;\n",
              "      cursor: pointer;\n",
              "      display: none;\n",
              "      fill: #1967D2;\n",
              "      height: 32px;\n",
              "      padding: 0 0 0 0;\n",
              "      width: 32px;\n",
              "    }\n",
              "\n",
              "    .colab-df-convert:hover {\n",
              "      background-color: #E2EBFA;\n",
              "      box-shadow: 0px 1px 2px rgba(60, 64, 67, 0.3), 0px 1px 3px 1px rgba(60, 64, 67, 0.15);\n",
              "      fill: #174EA6;\n",
              "    }\n",
              "\n",
              "    [theme=dark] .colab-df-convert {\n",
              "      background-color: #3B4455;\n",
              "      fill: #D2E3FC;\n",
              "    }\n",
              "\n",
              "    [theme=dark] .colab-df-convert:hover {\n",
              "      background-color: #434B5C;\n",
              "      box-shadow: 0px 1px 3px 1px rgba(0, 0, 0, 0.15);\n",
              "      filter: drop-shadow(0px 1px 2px rgba(0, 0, 0, 0.3));\n",
              "      fill: #FFFFFF;\n",
              "    }\n",
              "  </style>\n",
              "\n",
              "      <script>\n",
              "        const buttonEl =\n",
              "          document.querySelector('#df-2e355d3b-a8fa-4174-9dfa-dfa001d3e744 button.colab-df-convert');\n",
              "        buttonEl.style.display =\n",
              "          google.colab.kernel.accessAllowed ? 'block' : 'none';\n",
              "\n",
              "        async function convertToInteractive(key) {\n",
              "          const element = document.querySelector('#df-2e355d3b-a8fa-4174-9dfa-dfa001d3e744');\n",
              "          const dataTable =\n",
              "            await google.colab.kernel.invokeFunction('convertToInteractive',\n",
              "                                                     [key], {});\n",
              "          if (!dataTable) return;\n",
              "\n",
              "          const docLinkHtml = 'Like what you see? Visit the ' +\n",
              "            '<a target=\"_blank\" href=https://colab.research.google.com/notebooks/data_table.ipynb>data table notebook</a>'\n",
              "            + ' to learn more about interactive tables.';\n",
              "          element.innerHTML = '';\n",
              "          dataTable['output_type'] = 'display_data';\n",
              "          await google.colab.output.renderOutput(dataTable, element);\n",
              "          const docLink = document.createElement('div');\n",
              "          docLink.innerHTML = docLinkHtml;\n",
              "          element.appendChild(docLink);\n",
              "        }\n",
              "      </script>\n",
              "    </div>\n",
              "  </div>\n",
              "  "
            ]
          },
          "metadata": {},
          "execution_count": 32
        }
      ]
    },
    {
      "cell_type": "markdown",
      "source": [
        "#### 4. Recuperamos los valores de cada eje de análisis\n",
        "\n",
        "Obtemos los ejes de análisis $x$ y $y$ para obtener su correlación."
      ],
      "metadata": {
        "id": "WnmX2ybcHHnx"
      }
    },
    {
      "cell_type": "code",
      "source": [
        "x = data[\"ALTURA\"]\n",
        "\n",
        "x"
      ],
      "metadata": {
        "colab": {
          "base_uri": "https://localhost:8080/"
        },
        "id": "iY9JEolHHTYi",
        "outputId": "2f1b2f10-f9ff-4335-9d16-bbc66fb476cd"
      },
      "execution_count": 37,
      "outputs": [
        {
          "output_type": "execute_result",
          "data": {
            "text/plain": [
              "0       187.571423\n",
              "1       174.706036\n",
              "2       188.239668\n",
              "3       182.196685\n",
              "4       177.499761\n",
              "           ...    \n",
              "9995    168.078536\n",
              "9996    170.350573\n",
              "9997    162.224700\n",
              "9998    175.346978\n",
              "9999    157.338385\n",
              "Name: ALTURA, Length: 10000, dtype: float64"
            ]
          },
          "metadata": {},
          "execution_count": 37
        }
      ]
    },
    {
      "cell_type": "code",
      "source": [
        "y = data[\"PESO\"]\n",
        "\n",
        "y"
      ],
      "metadata": {
        "colab": {
          "base_uri": "https://localhost:8080/"
        },
        "id": "7ZcgpxC1HWnt",
        "outputId": "d85cd4c7-27c4-4772-8337-24ec40a5f4de"
      },
      "execution_count": 36,
      "outputs": [
        {
          "output_type": "execute_result",
          "data": {
            "text/plain": [
              "0       109.720985\n",
              "1        73.622732\n",
              "2        96.497550\n",
              "3        99.809504\n",
              "4        93.598619\n",
              "           ...    \n",
              "9995     62.041159\n",
              "9996     77.504315\n",
              "9997     58.275377\n",
              "9998     74.322166\n",
              "9999     51.550324\n",
              "Name: PESO, Length: 10000, dtype: float64"
            ]
          },
          "metadata": {},
          "execution_count": 36
        }
      ]
    },
    {
      "cell_type": "markdown",
      "source": [
        "#### 5. Calculamos la covarianza entre ambos ejes\n",
        "\n",
        "al hacer `data[<columna>]s` recuperamos la Serie de datos de pandas de cada eje, por lo que podemos calcular la covarianza usando `x.cov(y)` o `y.cov(x)` que debe ser la misma ya que es simétrica."
      ],
      "metadata": {
        "id": "3lDkCxWcHau9"
      }
    },
    {
      "cell_type": "code",
      "source": [
        "x.cov(y)"
      ],
      "metadata": {
        "colab": {
          "base_uri": "https://localhost:8080/"
        },
        "id": "6WtZMbRpHaKf",
        "outputId": "02059cc6-6a5f-494a-b053-4f65e84286e5"
      },
      "execution_count": 38,
      "outputs": [
        {
          "output_type": "execute_result",
          "data": {
            "text/plain": [
              "131.62166975807475"
            ]
          },
          "metadata": {},
          "execution_count": 38
        }
      ]
    },
    {
      "cell_type": "markdown",
      "source": [
        "#### 6. Calculamos la correlación entre ambos ejes\n",
        "\n",
        "Podemos calcular la correlación entre dos ejes $x$ y $y$ usando las series de pandas con `x.corr(y)` o `y.corr(x)`."
      ],
      "metadata": {
        "id": "zBK-OoyvIQ-c"
      }
    },
    {
      "cell_type": "code",
      "source": [
        "x.corr(y)"
      ],
      "metadata": {
        "colab": {
          "base_uri": "https://localhost:8080/"
        },
        "id": "6a1bXFOxJHYZ",
        "outputId": "4285cb72-c029-4005-d8fe-a399a193fa3d"
      },
      "execution_count": 39,
      "outputs": [
        {
          "output_type": "execute_result",
          "data": {
            "text/plain": [
              "0.9247562987409145"
            ]
          },
          "metadata": {},
          "execution_count": 39
        }
      ]
    },
    {
      "cell_type": "markdown",
      "source": [
        "Podemos concluir que la correlación es casi perfecta y positiva.\n",
        "\n",
        "Esto quiere decir que a mayor altura mayor peso (y viceversa)."
      ],
      "metadata": {
        "id": "cL4I-PBOJYXp"
      }
    },
    {
      "cell_type": "markdown",
      "source": [
        "### Ejemplo para la visualización de la correlación entre dos ejes\n",
        "\n",
        "Mediante la librería *Seaborn* que hemos utilizado para visualizar la distribución sobre un eje, también podemos usarla para visualizar la distribución de los datos para dos ejes.\n",
        "\n",
        "Podemos usar `seaborn.scatterplot(x=<eje x>, y = <eje y>)` para ver la distribución de datos entre dos ejes $x$ y $y$."
      ],
      "metadata": {
        "id": "ttND7v5EJJvr"
      }
    },
    {
      "cell_type": "code",
      "source": [
        "import seaborn as sns\n",
        "\n",
        "sns.scatterplot(x=x, y=y)"
      ],
      "metadata": {
        "colab": {
          "base_uri": "https://localhost:8080/",
          "height": 466
        },
        "id": "FuYb2TtRKgVK",
        "outputId": "ac8d0b5a-41f3-4c75-8912-47a04af6af64"
      },
      "execution_count": 40,
      "outputs": [
        {
          "output_type": "execute_result",
          "data": {
            "text/plain": [
              "<Axes: xlabel='ALTURA', ylabel='PESO'>"
            ]
          },
          "metadata": {},
          "execution_count": 40
        },
        {
          "output_type": "display_data",
          "data": {
            "text/plain": [
              "<Figure size 640x480 with 1 Axes>"
            ],
            "image/png": "[encoded data removed]"
          },
          "metadata": {}
        }
      ]
    },
    {
      "cell_type": "markdown",
      "source": [
        "Podemos observar que la correlación es casi perfecta, es decir, a mayor altura, mayor peso."
      ],
      "metadata": {
        "id": "QUFNEGH2KlvJ"
      }
    },
    {
      "cell_type": "markdown",
      "source": [
        "### Ejercicio: E209 - Diseña un análisis de correlación\n",
        "\n",
        "Crea o busca un dataset tipo CSV que tenga dos columnas numéricas que creas tienen alta correlación como la estatura y el peso.\n",
        "\n",
        "Por ejemplo, a mayor nivel educativo,mayor salario (directa), o a mayor salario, menor número de hijos (inversa).\n",
        "\n",
        "Busca o genera el CSV con datos reales o ficticios y encuentra la covarianza entre ambos ejes y su correlación.\n",
        "\n",
        "Si la correlación es mayor a `0.9` o a `-0.9` reporta \"ALTO GRADO DE CORRELACIÓN\" sino reporta \"CORRELACIÓN INSUFICIENTE\"."
      ],
      "metadata": {
        "id": "HLfZG1_EKtTV"
      }
    },
    {
      "cell_type": "code",
      "source": [
        "# E209 - SOLUCIÓN AQUÍ"
      ],
      "metadata": {
        "id": "mC9W4FYyL4oQ"
      },
      "execution_count": null,
      "outputs": []
    },
    {
      "cell_type": "markdown",
      "source": [
        "## Regresiones\n",
        "\n",
        "La regresión de datos permite aproximar los datos de los ejes $x_1$, $x_2$, $x_3$, ..., $x_n$ hacía un eje $y$.\n",
        "\n",
        "La idea es aproximar un hiperplano, o una recta en dos dimensiones, que tenga la mínima distancia recta hacía el eje, como su sombra de cada dato (punto) sobre la recta imaginaria.\n",
        "\n",
        "Sobre todas las rectas (o hiperplanos) posibles, encontrar cuál es la que mejor se ajusta a los datos.\n",
        "\n",
        "![Regresión lineal](https://upload.wikimedia.org/wikipedia/commons/thumb/3/3a/Linear_regression.svg/2560px-Linear_regression.svg.png)\n",
        "\n",
        "En múltiples dimensiones en lugar de una recta, se vería como un híperplano.\n",
        "\n",
        "![Regresión lineal multivariable](https://online.stat.psu.edu/onlinecourses/sites/stat508/files/lesson02/image_01.gif)\n",
        "\n",
        "El problema de la regresión se puede resolver encontrando las pendientes $a_1$, $a_2$, $a_3$, ..., $a_n$ y la intercepción (o *bias*) $a_0$ tales que,\n",
        "\n",
        "$y = a_1 \\cdot x_1 + a_2 \\cdot x_2 + a_3 \\cdot x_3 + ... + a_n \\cdot x_n + a_0$\n",
        "\n",
        "Es decir,\n",
        "\n",
        "$y = a_0 + \\sum_{i = 1}^{n} a_i \\cdot x_i$\n",
        "\n",
        "O formulado también como,\n",
        "\n",
        "$y = β + \\sum_{i = 1}^{n} ω_i \\cdot x_i$\n",
        "\n",
        "Donde $β$ es llamado el *bias* o interceptor (constante de intercepción) y $ω$ es el vector de pesos o coeficientes (pendientes).\n",
        "\n",
        "Podemos resolver el problema mediante la optimización por mínimos cuadrados.\n",
        "\n",
        "$f(x, y) = min_{ω_i} \\sum_{i = 0}^{n} (y_i - ω_i \\cdot x_i)^2 $\n",
        "\n",
        "O expresado de otra forma,\n",
        "\n",
        "$f(x, y) = min_{ω} ||y - ω \\cdot x||_2^2$\n",
        "\n",
        "Donde $||u||$ es la norma euclidiana o magnitud de un vector.\n",
        "\n",
        "Si encontramos los pesos $ω$ que minimicen esa función, entonces encontraremos la recta con pendientes $ω$ y coeficiente de intercepción $β$ (si asumimos $ω_0 = β$ y $x_0 = y_0$).\n",
        "\n",
        "\n",
        "\n"
      ],
      "metadata": {
        "id": "3jpjhFkWbLqu"
      }
    },
    {
      "cell_type": "markdown",
      "source": [
        "### Ejemplo de una regresión lineal con sklearn\n",
        "\n",
        "Podemos usar la librería científica **[Sci-Kit Learn](https://scikit-learn.org/)** para determinar la regresión entre múltiples ejes $x_1$, $x_2$, $x_3$, ..., $x_n$ hacía un eje $y$.\n",
        "\n",
        "En este ejemplo intentaremos haremos la regresión entre las estaturas y pesos, es decir $x_1$ serán las alturas y $y$ serán los pesos."
      ],
      "metadata": {
        "id": "ozARGDQshqP4"
      }
    },
    {
      "cell_type": "markdown",
      "source": [
        "#### 1. Importamos el dataset\n",
        "\n",
        "Como en la correlación de datos descargaremos e importaremos el dataset de alturas y pesos.\n",
        "\n"
      ],
      "metadata": {
        "id": "G6_rDwzqjbQs"
      }
    },
    {
      "cell_type": "code",
      "source": [
        "import pandas as pd\n",
        "\n",
        "data = pd.read_csv(\"/content/weight-height.csv\")\n",
        "\n",
        "data.columns = [\"GENERO\", \"ALTURA\", \"PESO\"]\n",
        "\n",
        "data[\"ALTURA\"] = data[\"ALTURA\"] * 2.54\n",
        "data[\"PESO\"] = data[\"PESO\"] * 0.453592\n",
        "\n",
        "data.sample(5)"
      ],
      "metadata": {
        "colab": {
          "base_uri": "https://localhost:8080/",
          "height": 204
        },
        "id": "AOo_LIBAj7fs",
        "outputId": "563cee73-b646-4064-cd79-79c3ead3b13c"
      },
      "execution_count": 41,
      "outputs": [
        {
          "output_type": "execute_result",
          "data": {
            "text/plain": [
              "      GENERO      ALTURA       PESO\n",
              "1874    Male  176.829120  81.876500\n",
              "91      Male  165.702106  82.105583\n",
              "9874  Female  163.761236  58.146751\n",
              "1648    Male  171.381671  80.905267\n",
              "63      Male  170.172082  74.816963"
            ],
            "text/html": [
              "\n",
              "  <div id=\"df-0c73326d-cda8-41ac-b690-50b75b251e10\">\n",
              "    <div class=\"colab-df-container\">\n",
              "      <div>\n",
              "<style scoped>\n",
              "    .dataframe tbody tr th:only-of-type {\n",
              "        vertical-align: middle;\n",
              "    }\n",
              "\n",
              "    .dataframe tbody tr th {\n",
              "        vertical-align: top;\n",
              "    }\n",
              "\n",
              "    .dataframe thead th {\n",
              "        text-align: right;\n",
              "    }\n",
              "</style>\n",
              "<table border=\"1\" class=\"dataframe\">\n",
              "  <thead>\n",
              "    <tr style=\"text-align: right;\">\n",
              "      <th></th>\n",
              "      <th>GENERO</th>\n",
              "      <th>ALTURA</th>\n",
              "      <th>PESO</th>\n",
              "    </tr>\n",
              "  </thead>\n",
              "  <tbody>\n",
              "    <tr>\n",
              "      <th>1874</th>\n",
              "      <td>Male</td>\n",
              "      <td>176.829120</td>\n",
              "      <td>81.876500</td>\n",
              "    </tr>\n",
              "    <tr>\n",
              "      <th>91</th>\n",
              "      <td>Male</td>\n",
              "      <td>165.702106</td>\n",
              "      <td>82.105583</td>\n",
              "    </tr>\n",
              "    <tr>\n",
              "      <th>9874</th>\n",
              "      <td>Female</td>\n",
              "      <td>163.761236</td>\n",
              "      <td>58.146751</td>\n",
              "    </tr>\n",
              "    <tr>\n",
              "      <th>1648</th>\n",
              "      <td>Male</td>\n",
              "      <td>171.381671</td>\n",
              "      <td>80.905267</td>\n",
              "    </tr>\n",
              "    <tr>\n",
              "      <th>63</th>\n",
              "      <td>Male</td>\n",
              "      <td>170.172082</td>\n",
              "      <td>74.816963</td>\n",
              "    </tr>\n",
              "  </tbody>\n",
              "</table>\n",
              "</div>\n",
              "      <button class=\"colab-df-convert\" onclick=\"convertToInteractive('df-0c73326d-cda8-41ac-b690-50b75b251e10')\"\n",
              "              title=\"Convert this dataframe to an interactive table.\"\n",
              "              style=\"display:none;\">\n",
              "        \n",
              "  <svg xmlns=\"http://www.w3.org/2000/svg\" height=\"24px\"viewBox=\"0 0 24 24\"\n",
              "       width=\"24px\">\n",
              "    <path d=\"M0 0h24v24H0V0z\" fill=\"none\"/>\n",
              "    <path d=\"M18.56 5.44l.94 2.06.94-2.06 2.06-.94-2.06-.94-.94-2.06-.94 2.06-2.06.94zm-11 1L8.5 8.5l.94-2.06 2.06-.94-2.06-.94L8.5 2.5l-.94 2.06-2.06.94zm10 10l.94 2.06.94-2.06 2.06-.94-2.06-.94-.94-2.06-.94 2.06-2.06.94z\"/><path d=\"M17.41 7.96l-1.37-1.37c-.4-.4-.92-.59-1.43-.59-.52 0-1.04.2-1.43.59L10.3 9.45l-7.72 7.72c-.78.78-.78 2.05 0 2.83L4 21.41c.39.39.9.59 1.41.59.51 0 1.02-.2 1.41-.59l7.78-7.78 2.81-2.81c.8-.78.8-2.07 0-2.86zM5.41 20L4 18.59l7.72-7.72 1.47 1.35L5.41 20z\"/>\n",
              "  </svg>\n",
              "      </button>\n",
              "      \n",
              "  <style>\n",
              "    .colab-df-container {\n",
              "      display:flex;\n",
              "      flex-wrap:wrap;\n",
              "      gap: 12px;\n",
              "    }\n",
              "\n",
              "    .colab-df-convert {\n",
              "      background-color: #E8F0FE;\n",
              "      border: none;\n",
              "      border-radius: 50%;\n",
              "      cursor: pointer;\n",
              "      display: none;\n",
              "      fill: #1967D2;\n",
              "      height: 32px;\n",
              "      padding: 0 0 0 0;\n",
              "      width: 32px;\n",
              "    }\n",
              "\n",
              "    .colab-df-convert:hover {\n",
              "      background-color: #E2EBFA;\n",
              "      box-shadow: 0px 1px 2px rgba(60, 64, 67, 0.3), 0px 1px 3px 1px rgba(60, 64, 67, 0.15);\n",
              "      fill: #174EA6;\n",
              "    }\n",
              "\n",
              "    [theme=dark] .colab-df-convert {\n",
              "      background-color: #3B4455;\n",
              "      fill: #D2E3FC;\n",
              "    }\n",
              "\n",
              "    [theme=dark] .colab-df-convert:hover {\n",
              "      background-color: #434B5C;\n",
              "      box-shadow: 0px 1px 3px 1px rgba(0, 0, 0, 0.15);\n",
              "      filter: drop-shadow(0px 1px 2px rgba(0, 0, 0, 0.3));\n",
              "      fill: #FFFFFF;\n",
              "    }\n",
              "  </style>\n",
              "\n",
              "      <script>\n",
              "        const buttonEl =\n",
              "          document.querySelector('#df-0c73326d-cda8-41ac-b690-50b75b251e10 button.colab-df-convert');\n",
              "        buttonEl.style.display =\n",
              "          google.colab.kernel.accessAllowed ? 'block' : 'none';\n",
              "\n",
              "        async function convertToInteractive(key) {\n",
              "          const element = document.querySelector('#df-0c73326d-cda8-41ac-b690-50b75b251e10');\n",
              "          const dataTable =\n",
              "            await google.colab.kernel.invokeFunction('convertToInteractive',\n",
              "                                                     [key], {});\n",
              "          if (!dataTable) return;\n",
              "\n",
              "          const docLinkHtml = 'Like what you see? Visit the ' +\n",
              "            '<a target=\"_blank\" href=https://colab.research.google.com/notebooks/data_table.ipynb>data table notebook</a>'\n",
              "            + ' to learn more about interactive tables.';\n",
              "          element.innerHTML = '';\n",
              "          dataTable['output_type'] = 'display_data';\n",
              "          await google.colab.output.renderOutput(dataTable, element);\n",
              "          const docLink = document.createElement('div');\n",
              "          docLink.innerHTML = docLinkHtml;\n",
              "          element.appendChild(docLink);\n",
              "        }\n",
              "      </script>\n",
              "    </div>\n",
              "  </div>\n",
              "  "
            ]
          },
          "metadata": {},
          "execution_count": 41
        }
      ]
    },
    {
      "cell_type": "markdown",
      "source": [
        "#### 2. Definimos el eje $x_1$ como las alturas\n",
        "\n",
        "Recuperamos los valores del eje de alturas como el eje x_1"
      ],
      "metadata": {
        "id": "3G8gi8kZkDQr"
      }
    },
    {
      "cell_type": "code",
      "source": [
        "x1 = data[\"ALTURA\"].values\n",
        "\n",
        "x1"
      ],
      "metadata": {
        "colab": {
          "base_uri": "https://localhost:8080/"
        },
        "id": "foOsqdZDkNlH",
        "outputId": "66c21c79-f6e8-4fbd-a045-3b211cb4f7b4"
      },
      "execution_count": 42,
      "outputs": [
        {
          "output_type": "execute_result",
          "data": {
            "text/plain": [
              "array([187.57142322, 174.70603628, 188.2396677 , ..., 162.22470022,\n",
              "       175.34697755, 157.33838453])"
            ]
          },
          "metadata": {},
          "execution_count": 42
        }
      ]
    },
    {
      "cell_type": "markdown",
      "source": [
        "#### 3. Definimos el eje $y$ como los pesos"
      ],
      "metadata": {
        "id": "L_1wHYBNkTqG"
      }
    },
    {
      "cell_type": "code",
      "source": [
        "y = data[\"PESO\"].values\n",
        "\n",
        "y"
      ],
      "metadata": {
        "colab": {
          "base_uri": "https://localhost:8080/"
        },
        "id": "kGUNvRyIkTF_",
        "outputId": "294ec902-4ae2-469a-85e1-d66b9e93b1fa"
      },
      "execution_count": 43,
      "outputs": [
        {
          "output_type": "execute_result",
          "data": {
            "text/plain": [
              "array([109.72098511,  73.62273185,  96.49755015, ...,  58.2753768 ,\n",
              "        74.32216565,  51.55032378])"
            ]
          },
          "metadata": {},
          "execution_count": 43
        }
      ]
    },
    {
      "cell_type": "markdown",
      "source": [
        "#### 4. Importamos el modelo para la regresión lineal\n",
        "\n",
        "Extraemos el modelo para la regresión lineal desde la librería sklearn y creamos un regresor lineal.\n"
      ],
      "metadata": {
        "id": "kVFyB3yKkqRQ"
      }
    },
    {
      "cell_type": "code",
      "source": [
        "from sklearn.linear_model import LinearRegression\n",
        "\n",
        "reg = LinearRegression()\n",
        "\n",
        "reg"
      ],
      "metadata": {
        "colab": {
          "base_uri": "https://localhost:8080/",
          "height": 74
        },
        "id": "gyb74vM5kRvB",
        "outputId": "166e8aed-ce5d-471c-e8c2-0debdc2bc220"
      },
      "execution_count": 46,
      "outputs": [
        {
          "output_type": "execute_result",
          "data": {
            "text/plain": [
              "LinearRegression()"
            ],
            "text/html": [
              "<style>#sk-container-id-1 {color: black;background-color: white;}#sk-container-id-1 pre{padding: 0;}#sk-container-id-1 div.sk-toggleable {background-color: white;}#sk-container-id-1 label.sk-toggleable__label {cursor: pointer;display: block;width: 100%;margin-bottom: 0;padding: 0.3em;box-sizing: border-box;text-align: center;}#sk-container-id-1 label.sk-toggleable__label-arrow:before {content: \"▸\";float: left;margin-right: 0.25em;color: #696969;}#sk-container-id-1 label.sk-toggleable__label-arrow:hover:before {color: black;}#sk-container-id-1 div.sk-estimator:hover label.sk-toggleable__label-arrow:before {color: black;}#sk-container-id-1 div.sk-toggleable__content {max-height: 0;max-width: 0;overflow: hidden;text-align: left;background-color: #f0f8ff;}#sk-container-id-1 div.sk-toggleable__content pre {margin: 0.2em;color: black;border-radius: 0.25em;background-color: #f0f8ff;}#sk-container-id-1 input.sk-toggleable__control:checked~div.sk-toggleable__content {max-height: 200px;max-width: 100%;overflow: auto;}#sk-container-id-1 input.sk-toggleable__control:checked~label.sk-toggleable__label-arrow:before {content: \"▾\";}#sk-container-id-1 div.sk-estimator input.sk-toggleable__control:checked~label.sk-toggleable__label {background-color: #d4ebff;}#sk-container-id-1 div.sk-label input.sk-toggleable__control:checked~label.sk-toggleable__label {background-color: #d4ebff;}#sk-container-id-1 input.sk-hidden--visually {border: 0;clip: rect(1px 1px 1px 1px);clip: rect(1px, 1px, 1px, 1px);height: 1px;margin: -1px;overflow: hidden;padding: 0;position: absolute;width: 1px;}#sk-container-id-1 div.sk-estimator {font-family: monospace;background-color: #f0f8ff;border: 1px dotted black;border-radius: 0.25em;box-sizing: border-box;margin-bottom: 0.5em;}#sk-container-id-1 div.sk-estimator:hover {background-color: #d4ebff;}#sk-container-id-1 div.sk-parallel-item::after {content: \"\";width: 100%;border-bottom: 1px solid gray;flex-grow: 1;}#sk-container-id-1 div.sk-label:hover label.sk-toggleable__label {background-color: #d4ebff;}#sk-container-id-1 div.sk-serial::before {content: \"\";position: absolute;border-left: 1px solid gray;box-sizing: border-box;top: 0;bottom: 0;left: 50%;z-index: 0;}#sk-container-id-1 div.sk-serial {display: flex;flex-direction: column;align-items: center;background-color: white;padding-right: 0.2em;padding-left: 0.2em;position: relative;}#sk-container-id-1 div.sk-item {position: relative;z-index: 1;}#sk-container-id-1 div.sk-parallel {display: flex;align-items: stretch;justify-content: center;background-color: white;position: relative;}#sk-container-id-1 div.sk-item::before, #sk-container-id-1 div.sk-parallel-item::before {content: \"\";position: absolute;border-left: 1px solid gray;box-sizing: border-box;top: 0;bottom: 0;left: 50%;z-index: -1;}#sk-container-id-1 div.sk-parallel-item {display: flex;flex-direction: column;z-index: 1;position: relative;background-color: white;}#sk-container-id-1 div.sk-parallel-item:first-child::after {align-self: flex-end;width: 50%;}#sk-container-id-1 div.sk-parallel-item:last-child::after {align-self: flex-start;width: 50%;}#sk-container-id-1 div.sk-parallel-item:only-child::after {width: 0;}#sk-container-id-1 div.sk-dashed-wrapped {border: 1px dashed gray;margin: 0 0.4em 0.5em 0.4em;box-sizing: border-box;padding-bottom: 0.4em;background-color: white;}#sk-container-id-1 div.sk-label label {font-family: monospace;font-weight: bold;display: inline-block;line-height: 1.2em;}#sk-container-id-1 div.sk-label-container {text-align: center;}#sk-container-id-1 div.sk-container {/* jupyter's `normalize.less` sets `[hidden] { display: none; }` but bootstrap.min.css set `[hidden] { display: none !important; }` so we also need the `!important` here to be able to override the default hidden behavior on the sphinx rendered scikit-learn.org. See: https://github.com/scikit-learn/scikit-learn/issues/21755 */display: inline-block !important;position: relative;}#sk-container-id-1 div.sk-text-repr-fallback {display: none;}</style><div id=\"sk-container-id-1\" class=\"sk-top-container\"><div class=\"sk-text-repr-fallback\"><pre>LinearRegression()</pre><b>In a Jupyter environment, please rerun this cell to show the HTML representation or trust the notebook. <br />On GitHub, the HTML representation is unable to render, please try loading this page with nbviewer.org.</b></div><div class=\"sk-container\" hidden><div class=\"sk-item\"><div class=\"sk-estimator sk-toggleable\"><input class=\"sk-toggleable__control sk-hidden--visually\" id=\"sk-estimator-id-1\" type=\"checkbox\" checked><label for=\"sk-estimator-id-1\" class=\"sk-toggleable__label sk-toggleable__label-arrow\">LinearRegression</label><div class=\"sk-toggleable__content\"><pre>LinearRegression()</pre></div></div></div></div></div>"
            ]
          },
          "metadata": {},
          "execution_count": 46
        }
      ]
    },
    {
      "cell_type": "markdown",
      "source": [
        "#### 5. Construimos una matriz de aprendizaje $X$\n",
        "\n",
        "Esto es necesario aunque sólo tengamos un único eje $x_1$, si tuvieramos más podríamos ponerlos en forma matricial.\n",
        "\n",
        "Observa que usamos la matriz transpuesta para que los ejes queden como columnas."
      ],
      "metadata": {
        "id": "gZ2GA92FlUsn"
      }
    },
    {
      "cell_type": "code",
      "source": [
        "import numpy as np\n",
        "\n",
        "X = np.array([\n",
        "    x1,\n",
        "    # x2,\n",
        "    # x3,\n",
        "    # ...,\n",
        "    # xn\n",
        "]).T\n",
        "\n",
        "X"
      ],
      "metadata": {
        "colab": {
          "base_uri": "https://localhost:8080/"
        },
        "id": "y6F3z_IHlmMd",
        "outputId": "25b5b9fc-e2b9-49e4-c0e4-81b3d0cefdd1"
      },
      "execution_count": 49,
      "outputs": [
        {
          "output_type": "execute_result",
          "data": {
            "text/plain": [
              "array([[187.57142322],\n",
              "       [174.70603628],\n",
              "       [188.2396677 ],\n",
              "       ...,\n",
              "       [162.22470022],\n",
              "       [175.34697755],\n",
              "       [157.33838453]])"
            ]
          },
          "metadata": {},
          "execution_count": 49
        }
      ]
    },
    {
      "cell_type": "markdown",
      "source": [
        "#### 6. Ajustamos el regresor lineal a nuestros datos\n",
        "\n",
        "Esto hará la optimización por mínimos cuadrados.\n",
        "\n",
        "El modelo aprenderá que para la matriz $X$ de datos se tiene que hacer la regresión lineal hacía el eje $y$."
      ],
      "metadata": {
        "id": "RnEqUXx4k7Td"
      }
    },
    {
      "cell_type": "code",
      "source": [
        "reg.fit(X, y)"
      ],
      "metadata": {
        "colab": {
          "base_uri": "https://localhost:8080/",
          "height": 74
        },
        "id": "fq92UoeGlAym",
        "outputId": "c9504abc-2f69-4e6b-bb75-fe49ad757c75"
      },
      "execution_count": 50,
      "outputs": [
        {
          "output_type": "execute_result",
          "data": {
            "text/plain": [
              "LinearRegression()"
            ],
            "text/html": [
              "<style>#sk-container-id-2 {color: black;background-color: white;}#sk-container-id-2 pre{padding: 0;}#sk-container-id-2 div.sk-toggleable {background-color: white;}#sk-container-id-2 label.sk-toggleable__label {cursor: pointer;display: block;width: 100%;margin-bottom: 0;padding: 0.3em;box-sizing: border-box;text-align: center;}#sk-container-id-2 label.sk-toggleable__label-arrow:before {content: \"▸\";float: left;margin-right: 0.25em;color: #696969;}#sk-container-id-2 label.sk-toggleable__label-arrow:hover:before {color: black;}#sk-container-id-2 div.sk-estimator:hover label.sk-toggleable__label-arrow:before {color: black;}#sk-container-id-2 div.sk-toggleable__content {max-height: 0;max-width: 0;overflow: hidden;text-align: left;background-color: #f0f8ff;}#sk-container-id-2 div.sk-toggleable__content pre {margin: 0.2em;color: black;border-radius: 0.25em;background-color: #f0f8ff;}#sk-container-id-2 input.sk-toggleable__control:checked~div.sk-toggleable__content {max-height: 200px;max-width: 100%;overflow: auto;}#sk-container-id-2 input.sk-toggleable__control:checked~label.sk-toggleable__label-arrow:before {content: \"▾\";}#sk-container-id-2 div.sk-estimator input.sk-toggleable__control:checked~label.sk-toggleable__label {background-color: #d4ebff;}#sk-container-id-2 div.sk-label input.sk-toggleable__control:checked~label.sk-toggleable__label {background-color: #d4ebff;}#sk-container-id-2 input.sk-hidden--visually {border: 0;clip: rect(1px 1px 1px 1px);clip: rect(1px, 1px, 1px, 1px);height: 1px;margin: -1px;overflow: hidden;padding: 0;position: absolute;width: 1px;}#sk-container-id-2 div.sk-estimator {font-family: monospace;background-color: #f0f8ff;border: 1px dotted black;border-radius: 0.25em;box-sizing: border-box;margin-bottom: 0.5em;}#sk-container-id-2 div.sk-estimator:hover {background-color: #d4ebff;}#sk-container-id-2 div.sk-parallel-item::after {content: \"\";width: 100%;border-bottom: 1px solid gray;flex-grow: 1;}#sk-container-id-2 div.sk-label:hover label.sk-toggleable__label {background-color: #d4ebff;}#sk-container-id-2 div.sk-serial::before {content: \"\";position: absolute;border-left: 1px solid gray;box-sizing: border-box;top: 0;bottom: 0;left: 50%;z-index: 0;}#sk-container-id-2 div.sk-serial {display: flex;flex-direction: column;align-items: center;background-color: white;padding-right: 0.2em;padding-left: 0.2em;position: relative;}#sk-container-id-2 div.sk-item {position: relative;z-index: 1;}#sk-container-id-2 div.sk-parallel {display: flex;align-items: stretch;justify-content: center;background-color: white;position: relative;}#sk-container-id-2 div.sk-item::before, #sk-container-id-2 div.sk-parallel-item::before {content: \"\";position: absolute;border-left: 1px solid gray;box-sizing: border-box;top: 0;bottom: 0;left: 50%;z-index: -1;}#sk-container-id-2 div.sk-parallel-item {display: flex;flex-direction: column;z-index: 1;position: relative;background-color: white;}#sk-container-id-2 div.sk-parallel-item:first-child::after {align-self: flex-end;width: 50%;}#sk-container-id-2 div.sk-parallel-item:last-child::after {align-self: flex-start;width: 50%;}#sk-container-id-2 div.sk-parallel-item:only-child::after {width: 0;}#sk-container-id-2 div.sk-dashed-wrapped {border: 1px dashed gray;margin: 0 0.4em 0.5em 0.4em;box-sizing: border-box;padding-bottom: 0.4em;background-color: white;}#sk-container-id-2 div.sk-label label {font-family: monospace;font-weight: bold;display: inline-block;line-height: 1.2em;}#sk-container-id-2 div.sk-label-container {text-align: center;}#sk-container-id-2 div.sk-container {/* jupyter's `normalize.less` sets `[hidden] { display: none; }` but bootstrap.min.css set `[hidden] { display: none !important; }` so we also need the `!important` here to be able to override the default hidden behavior on the sphinx rendered scikit-learn.org. See: https://github.com/scikit-learn/scikit-learn/issues/21755 */display: inline-block !important;position: relative;}#sk-container-id-2 div.sk-text-repr-fallback {display: none;}</style><div id=\"sk-container-id-2\" class=\"sk-top-container\"><div class=\"sk-text-repr-fallback\"><pre>LinearRegression()</pre><b>In a Jupyter environment, please rerun this cell to show the HTML representation or trust the notebook. <br />On GitHub, the HTML representation is unable to render, please try loading this page with nbviewer.org.</b></div><div class=\"sk-container\" hidden><div class=\"sk-item\"><div class=\"sk-estimator sk-toggleable\"><input class=\"sk-toggleable__control sk-hidden--visually\" id=\"sk-estimator-id-2\" type=\"checkbox\" checked><label for=\"sk-estimator-id-2\" class=\"sk-toggleable__label sk-toggleable__label-arrow\">LinearRegression</label><div class=\"sk-toggleable__content\"><pre>LinearRegression()</pre></div></div></div></div></div>"
            ]
          },
          "metadata": {},
          "execution_count": 50
        }
      ]
    },
    {
      "cell_type": "markdown",
      "source": [
        "#### 7. Inspeccionamos las pendientes y el bias\n",
        "\n",
        "Comprobamos el valor de los coeficientes y el interceptor encontrados."
      ],
      "metadata": {
        "id": "BCiDQn8Ql9ys"
      }
    },
    {
      "cell_type": "markdown",
      "source": [
        "> Coeficientes (uno por cada eje)"
      ],
      "metadata": {
        "id": "Ouxvmi1WmJli"
      }
    },
    {
      "cell_type": "code",
      "source": [
        "reg.coef_"
      ],
      "metadata": {
        "colab": {
          "base_uri": "https://localhost:8080/"
        },
        "id": "QOOm9GETmEX8",
        "outputId": "fcf74661-0944-4352-f8c0-580f6f40b847"
      },
      "execution_count": 51,
      "outputs": [
        {
          "output_type": "execute_result",
          "data": {
            "text/plain": [
              "array([1.37814958])"
            ]
          },
          "metadata": {},
          "execution_count": 51
        }
      ]
    },
    {
      "cell_type": "markdown",
      "source": [
        "> Interceptor (bias o constante de intercepción)"
      ],
      "metadata": {
        "id": "qGYk4In3mL77"
      }
    },
    {
      "cell_type": "code",
      "source": [
        "reg.intercept_"
      ],
      "metadata": {
        "colab": {
          "base_uri": "https://localhost:8080/"
        },
        "id": "43TVDl2KmScn",
        "outputId": "5821921b-6970-4ede-b090-cf2c9bf9083d"
      },
      "execution_count": 52,
      "outputs": [
        {
          "output_type": "execute_result",
          "data": {
            "text/plain": [
              "-159.09158430845093"
            ]
          },
          "metadata": {},
          "execution_count": 52
        }
      ]
    },
    {
      "cell_type": "markdown",
      "source": [
        "#### 8. Comprobamos que tan fiable es la regresión\n",
        "\n",
        "Usamos el coeficiente de correlación para saber si los datos tienen buena correlación."
      ],
      "metadata": {
        "id": "UH7kNyt6mUvw"
      }
    },
    {
      "cell_type": "markdown",
      "source": [
        "> Evalua que tan buena es la correlación (conocido como $R^2$)"
      ],
      "metadata": {
        "id": "hKjV44VRm0bW"
      }
    },
    {
      "cell_type": "code",
      "source": [
        "reg.score(X, y)"
      ],
      "metadata": {
        "colab": {
          "base_uri": "https://localhost:8080/"
        },
        "id": "pPpXK-c2mh9H",
        "outputId": "cecafeea-6158-4b2e-8520-fed6fc9edd19"
      },
      "execution_count": 53,
      "outputs": [
        {
          "output_type": "execute_result",
          "data": {
            "text/plain": [
              "0.8551742120609958"
            ]
          },
          "metadata": {},
          "execution_count": 53
        }
      ]
    },
    {
      "cell_type": "markdown",
      "source": [
        "Observamos que hay buena correlación, pero quizás no suficiente para conclusiones severas."
      ],
      "metadata": {
        "id": "OyR5ee6znJ6h"
      }
    },
    {
      "cell_type": "markdown",
      "source": [
        "#### 9. Predecir valores dentro de la regresión\n",
        "\n",
        "Una vez ajustada la regresión podemos predecir los valores intermedios de la recta o incluso valores más allá de nuestros datos.\n",
        "\n",
        "Por ejemplo, cuál sería el peso de la regresión para una altura de `170` centímetros, de `190` centímetros o de `120` centímetros.\n",
        "\n",
        "Podemos construir valores para predecir cuáles serían sus predicciones.\n",
        "\n",
        "Es decir, para un eje $x_1'$, $x_2'$, $x_3'$, ..., $x_n'$ cuáles serían los valores del eje $y'$"
      ],
      "metadata": {
        "id": "oXl5k9wXpclm"
      }
    },
    {
      "cell_type": "code",
      "source": [
        "x1_p = np.array([120, 130, 140, 150, 160, 170, 180, 190, 200])\n",
        "\n",
        "Xp = np.array([\n",
        "    x1_p,\n",
        "    #x2_p,\n",
        "    #x3_p,\n",
        "    #...,\n",
        "    #xn_p,\n",
        "]).T\n",
        "\n",
        "yp = reg.predict(Xp)\n",
        "\n",
        "yp"
      ],
      "metadata": {
        "colab": {
          "base_uri": "https://localhost:8080/"
        },
        "id": "bKtoX5Prp5hP",
        "outputId": "30619766-850c-4182-a96c-9dbeab3d70ce"
      },
      "execution_count": 54,
      "outputs": [
        {
          "output_type": "execute_result",
          "data": {
            "text/plain": [
              "array([  6.2863654 ,  20.06786121,  33.84935702,  47.63085283,\n",
              "        61.41234864,  75.19384445,  88.97534026, 102.75683607,\n",
              "       116.53833188])"
            ]
          },
          "metadata": {},
          "execution_count": 54
        }
      ]
    },
    {
      "cell_type": "markdown",
      "source": [
        "Podemos observar que alguien de `190` centímetros debería pesar `102.75` kilogramos.\n",
        "\n",
        "Dentro de los datos, alguien que tiene una altura de `170.17`centímetros tiene un peso de `74.81` kilogramos.\n",
        "\n",
        "> Registro `63\tMale\t170.172082\t74.816963`\n",
        "\n",
        "Y según nuestra regresión, alguien que tiene una altura de `170` centímetros debería pesar `75.19` kilogramos, lo cuál es bastante aproximado."
      ],
      "metadata": {
        "id": "iXYw1o1Zqoim"
      }
    },
    {
      "cell_type": "markdown",
      "source": [
        "### Ejercicio: E210 - Diseña un análisis de regresión\n",
        "\n",
        "Crea o busca un dataset que tenga dos ejes de análisis que estén fuertemente correlacionados y ajusta la regresión lineal.\n",
        "\n",
        "Observa quién será el eje $x_1$ y quién asumirá el eje $y$.\n",
        "\n",
        "Reporta el valor de las pendientes, el coeficiente de intercepción y predice algunos valores."
      ],
      "metadata": {
        "id": "MrM3HufGsjws"
      }
    },
    {
      "cell_type": "code",
      "source": [
        "# E210 - SOLUCIÓN AQUÍ"
      ],
      "metadata": {
        "id": "UTB69hfGs4wB"
      },
      "execution_count": null,
      "outputs": []
    },
    {
      "cell_type": "markdown",
      "source": [
        "## Clasificadores\n",
        "\n",
        "El problema de la clasificación de datos es similar a la regresión, en el sentido que podemos crear un modelo que permita aproximar nuestros datos a un modelo capaz de entender qué datos podrían predecir nuestros valores.\n",
        "\n",
        "La clasificación se utiliza para poder predecir valores categóricos, los cuáles no pueden ser ajustados mediante regresión. Por ejemplo, si el eje $y$ representa si es casado o no, si trabaja o no, si el tipo de edificio es departamentos, casa, hospital, oficinas, centro gubernamental, etc.\n",
        "\n",
        "La clasificación permite usar modelos de aprendizaje automático de distintas naturalezas, como árboles de decisión, redes neuronales, máquinas de soporte vectorial, k-vecinos, etc.\n",
        "\n",
        "Uno de los más famosos es el basado en árboles de decisión, el cuál construirá un modelo basado en preguntas de mayor o igual, para separar los datos y determinar la categoría a la que pertenece.\n",
        "\n",
        "Para esto nuestro eje $y$ debe ser numérico, aunque sea categórico.\n",
        "\n",
        "Debemos transformar nuestros datos para asociar un número entero a cada categoría.\n",
        "\n",
        "Podemos pensar el problema de clasificación como,\n",
        "\n",
        "$y = MODELO(x_1, x_2, x_3, ..., x_n)$\n",
        "\n",
        "Donde el $MODELO$ representa alguno de los modelos de clasificación como árboles de decisión, redes neuronales, k-vecinos, etc."
      ],
      "metadata": {
        "id": "Bdcy272Dow-F"
      }
    },
    {
      "cell_type": "markdown",
      "source": [
        "### Ejemplo de una clasificación con sklearn\n",
        "\n",
        "La librería de sklearn nos permite importar modelos de aprendizaje basados en clasificadores, usaremos el clasificador por árboles de decisión."
      ],
      "metadata": {
        "id": "uYMHwmPEsekx"
      }
    },
    {
      "cell_type": "markdown",
      "source": [
        "#### 1. Importamos el dataset\n",
        "\n",
        "Usaremos el mismo dataset de las alturas y los pesos."
      ],
      "metadata": {
        "id": "ai3FVJU7tj4y"
      }
    },
    {
      "cell_type": "code",
      "source": [
        "import pandas as pd\n",
        "\n",
        "data = pd.read_csv(\"/content/weight-height.csv\")\n",
        "\n",
        "data.columns = [\"GENERO\", \"ALTURA\", \"PESO\"]\n",
        "\n",
        "data[\"ALTURA\"] = data[\"ALTURA\"] * 2.54\n",
        "data[\"PESO\"] = data[\"PESO\"] * 0.453592\n",
        "\n",
        "data.sample(5)"
      ],
      "metadata": {
        "colab": {
          "base_uri": "https://localhost:8080/",
          "height": 204
        },
        "id": "NyXZE9hXm4bc",
        "outputId": "00c949b6-8dd6-49bf-fec6-0d754c544ee3"
      },
      "execution_count": 55,
      "outputs": [
        {
          "output_type": "execute_result",
          "data": {
            "text/plain": [
              "      GENERO      ALTURA        PESO\n",
              "2014    Male  200.656806  122.465167\n",
              "1128    Male  176.007186   85.939066\n",
              "1813    Male  163.480700   67.792766\n",
              "5173  Female  167.012136   72.706284\n",
              "3058    Male  169.385078   77.433702"
            ],
            "text/html": [
              "\n",
              "  <div id=\"df-74ca2d57-1a17-42b4-a368-add9e76d9f56\">\n",
              "    <div class=\"colab-df-container\">\n",
              "      <div>\n",
              "<style scoped>\n",
              "    .dataframe tbody tr th:only-of-type {\n",
              "        vertical-align: middle;\n",
              "    }\n",
              "\n",
              "    .dataframe tbody tr th {\n",
              "        vertical-align: top;\n",
              "    }\n",
              "\n",
              "    .dataframe thead th {\n",
              "        text-align: right;\n",
              "    }\n",
              "</style>\n",
              "<table border=\"1\" class=\"dataframe\">\n",
              "  <thead>\n",
              "    <tr style=\"text-align: right;\">\n",
              "      <th></th>\n",
              "      <th>GENERO</th>\n",
              "      <th>ALTURA</th>\n",
              "      <th>PESO</th>\n",
              "    </tr>\n",
              "  </thead>\n",
              "  <tbody>\n",
              "    <tr>\n",
              "      <th>2014</th>\n",
              "      <td>Male</td>\n",
              "      <td>200.656806</td>\n",
              "      <td>122.465167</td>\n",
              "    </tr>\n",
              "    <tr>\n",
              "      <th>1128</th>\n",
              "      <td>Male</td>\n",
              "      <td>176.007186</td>\n",
              "      <td>85.939066</td>\n",
              "    </tr>\n",
              "    <tr>\n",
              "      <th>1813</th>\n",
              "      <td>Male</td>\n",
              "      <td>163.480700</td>\n",
              "      <td>67.792766</td>\n",
              "    </tr>\n",
              "    <tr>\n",
              "      <th>5173</th>\n",
              "      <td>Female</td>\n",
              "      <td>167.012136</td>\n",
              "      <td>72.706284</td>\n",
              "    </tr>\n",
              "    <tr>\n",
              "      <th>3058</th>\n",
              "      <td>Male</td>\n",
              "      <td>169.385078</td>\n",
              "      <td>77.433702</td>\n",
              "    </tr>\n",
              "  </tbody>\n",
              "</table>\n",
              "</div>\n",
              "      <button class=\"colab-df-convert\" onclick=\"convertToInteractive('df-74ca2d57-1a17-42b4-a368-add9e76d9f56')\"\n",
              "              title=\"Convert this dataframe to an interactive table.\"\n",
              "              style=\"display:none;\">\n",
              "        \n",
              "  <svg xmlns=\"http://www.w3.org/2000/svg\" height=\"24px\"viewBox=\"0 0 24 24\"\n",
              "       width=\"24px\">\n",
              "    <path d=\"M0 0h24v24H0V0z\" fill=\"none\"/>\n",
              "    <path d=\"M18.56 5.44l.94 2.06.94-2.06 2.06-.94-2.06-.94-.94-2.06-.94 2.06-2.06.94zm-11 1L8.5 8.5l.94-2.06 2.06-.94-2.06-.94L8.5 2.5l-.94 2.06-2.06.94zm10 10l.94 2.06.94-2.06 2.06-.94-2.06-.94-.94-2.06-.94 2.06-2.06.94z\"/><path d=\"M17.41 7.96l-1.37-1.37c-.4-.4-.92-.59-1.43-.59-.52 0-1.04.2-1.43.59L10.3 9.45l-7.72 7.72c-.78.78-.78 2.05 0 2.83L4 21.41c.39.39.9.59 1.41.59.51 0 1.02-.2 1.41-.59l7.78-7.78 2.81-2.81c.8-.78.8-2.07 0-2.86zM5.41 20L4 18.59l7.72-7.72 1.47 1.35L5.41 20z\"/>\n",
              "  </svg>\n",
              "      </button>\n",
              "      \n",
              "  <style>\n",
              "    .colab-df-container {\n",
              "      display:flex;\n",
              "      flex-wrap:wrap;\n",
              "      gap: 12px;\n",
              "    }\n",
              "\n",
              "    .colab-df-convert {\n",
              "      background-color: #E8F0FE;\n",
              "      border: none;\n",
              "      border-radius: 50%;\n",
              "      cursor: pointer;\n",
              "      display: none;\n",
              "      fill: #1967D2;\n",
              "      height: 32px;\n",
              "      padding: 0 0 0 0;\n",
              "      width: 32px;\n",
              "    }\n",
              "\n",
              "    .colab-df-convert:hover {\n",
              "      background-color: #E2EBFA;\n",
              "      box-shadow: 0px 1px 2px rgba(60, 64, 67, 0.3), 0px 1px 3px 1px rgba(60, 64, 67, 0.15);\n",
              "      fill: #174EA6;\n",
              "    }\n",
              "\n",
              "    [theme=dark] .colab-df-convert {\n",
              "      background-color: #3B4455;\n",
              "      fill: #D2E3FC;\n",
              "    }\n",
              "\n",
              "    [theme=dark] .colab-df-convert:hover {\n",
              "      background-color: #434B5C;\n",
              "      box-shadow: 0px 1px 3px 1px rgba(0, 0, 0, 0.15);\n",
              "      filter: drop-shadow(0px 1px 2px rgba(0, 0, 0, 0.3));\n",
              "      fill: #FFFFFF;\n",
              "    }\n",
              "  </style>\n",
              "\n",
              "      <script>\n",
              "        const buttonEl =\n",
              "          document.querySelector('#df-74ca2d57-1a17-42b4-a368-add9e76d9f56 button.colab-df-convert');\n",
              "        buttonEl.style.display =\n",
              "          google.colab.kernel.accessAllowed ? 'block' : 'none';\n",
              "\n",
              "        async function convertToInteractive(key) {\n",
              "          const element = document.querySelector('#df-74ca2d57-1a17-42b4-a368-add9e76d9f56');\n",
              "          const dataTable =\n",
              "            await google.colab.kernel.invokeFunction('convertToInteractive',\n",
              "                                                     [key], {});\n",
              "          if (!dataTable) return;\n",
              "\n",
              "          const docLinkHtml = 'Like what you see? Visit the ' +\n",
              "            '<a target=\"_blank\" href=https://colab.research.google.com/notebooks/data_table.ipynb>data table notebook</a>'\n",
              "            + ' to learn more about interactive tables.';\n",
              "          element.innerHTML = '';\n",
              "          dataTable['output_type'] = 'display_data';\n",
              "          await google.colab.output.renderOutput(dataTable, element);\n",
              "          const docLink = document.createElement('div');\n",
              "          docLink.innerHTML = docLinkHtml;\n",
              "          element.appendChild(docLink);\n",
              "        }\n",
              "      </script>\n",
              "    </div>\n",
              "  </div>\n",
              "  "
            ]
          },
          "metadata": {},
          "execution_count": 55
        }
      ]
    },
    {
      "cell_type": "markdown",
      "source": [
        "#### 2. Definimos el eje $x_1$ como las alturas y $x_2$ como los pesos\n",
        "\n",
        "Recuperamos las alturas como el eje $x_1$ y los pesos como el eje $x_2$.\n",
        "\n",
        "Es decir, intentaremos predecir el género de una persona mediante su altura y peso."
      ],
      "metadata": {
        "id": "5ofIxtNPttvB"
      }
    },
    {
      "cell_type": "markdown",
      "source": [
        "> $x_1$ representa las alturas"
      ],
      "metadata": {
        "id": "W81pPmOuujFQ"
      }
    },
    {
      "cell_type": "code",
      "source": [
        "x1 = data[\"ALTURA\"].values\n",
        "\n",
        "x1"
      ],
      "metadata": {
        "colab": {
          "base_uri": "https://localhost:8080/"
        },
        "id": "bApDnbCsuI99",
        "outputId": "f44bf294-57e3-4537-d157-2ad78397891b"
      },
      "execution_count": 56,
      "outputs": [
        {
          "output_type": "execute_result",
          "data": {
            "text/plain": [
              "array([187.57142322, 174.70603628, 188.2396677 , ..., 162.22470022,\n",
              "       175.34697755, 157.33838453])"
            ]
          },
          "metadata": {},
          "execution_count": 56
        }
      ]
    },
    {
      "cell_type": "markdown",
      "source": [
        "> $x_2$ representa los pesos"
      ],
      "metadata": {
        "id": "S5A7PwX-ulo0"
      }
    },
    {
      "cell_type": "code",
      "source": [
        "x2 = data[\"PESO\"].values\n",
        "\n",
        "x2"
      ],
      "metadata": {
        "colab": {
          "base_uri": "https://localhost:8080/"
        },
        "id": "5t7-AeFLueAo",
        "outputId": "3513a811-352c-4dbc-af90-d4287102bfe2"
      },
      "execution_count": 58,
      "outputs": [
        {
          "output_type": "execute_result",
          "data": {
            "text/plain": [
              "array([109.72098511,  73.62273185,  96.49755015, ...,  58.2753768 ,\n",
              "        74.32216565,  51.55032378])"
            ]
          },
          "metadata": {},
          "execution_count": 58
        }
      ]
    },
    {
      "cell_type": "markdown",
      "source": [
        "#### 3. Definimos el eje y como los géneros\n",
        "\n",
        "El eje $y$ representará los géneros en dos categorías:\n",
        "\n",
        "* **Male** - Representa si es hombre, asociamos la categoría `1`\n",
        "* **Female** - Representa si es mujer, asociamos la categoría `2`\n",
        "\n",
        "Debemos transformar los datos de las categorías previamente mediante un mapeo de la serie."
      ],
      "metadata": {
        "id": "W6zr4lQ5uINI"
      }
    },
    {
      "cell_type": "code",
      "source": [
        "y = data[\"GENERO\"].map({ \"Male\": 1, \"Female\": 2 }).values\n",
        "\n",
        "y"
      ],
      "metadata": {
        "colab": {
          "base_uri": "https://localhost:8080/"
        },
        "id": "9v7qiXedvMgY",
        "outputId": "9883836f-f801-454b-a933-b8261fab8bea"
      },
      "execution_count": 59,
      "outputs": [
        {
          "output_type": "execute_result",
          "data": {
            "text/plain": [
              "array([1, 1, 1, ..., 2, 2, 2])"
            ]
          },
          "metadata": {},
          "execution_count": 59
        }
      ]
    },
    {
      "cell_type": "markdown",
      "source": [
        "Obseva que ahora *Male* vale 1 y *Female* vale 2."
      ],
      "metadata": {
        "id": "t9G9N5euvXOz"
      }
    },
    {
      "cell_type": "markdown",
      "source": [
        "#### 4. Importamos el modelo para la clasificación con árboles de decisión\n",
        "\n",
        "Importamos `DecisionTreeClassifier` desde la librería sklearn y construimos un clasificador."
      ],
      "metadata": {
        "id": "TKqXSXMbvbRw"
      }
    },
    {
      "cell_type": "code",
      "source": [
        "from sklearn.tree import DecisionTreeClassifier\n",
        "\n",
        "clf = DecisionTreeClassifier()\n",
        "\n",
        "clf"
      ],
      "metadata": {
        "colab": {
          "base_uri": "https://localhost:8080/",
          "height": 74
        },
        "id": "LcJjyPy-vu-I",
        "outputId": "8195369b-61a3-4463-9514-28d5a84cca37"
      },
      "execution_count": 60,
      "outputs": [
        {
          "output_type": "execute_result",
          "data": {
            "text/plain": [
              "DecisionTreeClassifier()"
            ],
            "text/html": [
              "<style>#sk-container-id-3 {color: black;background-color: white;}#sk-container-id-3 pre{padding: 0;}#sk-container-id-3 div.sk-toggleable {background-color: white;}#sk-container-id-3 label.sk-toggleable__label {cursor: pointer;display: block;width: 100%;margin-bottom: 0;padding: 0.3em;box-sizing: border-box;text-align: center;}#sk-container-id-3 label.sk-toggleable__label-arrow:before {content: \"▸\";float: left;margin-right: 0.25em;color: #696969;}#sk-container-id-3 label.sk-toggleable__label-arrow:hover:before {color: black;}#sk-container-id-3 div.sk-estimator:hover label.sk-toggleable__label-arrow:before {color: black;}#sk-container-id-3 div.sk-toggleable__content {max-height: 0;max-width: 0;overflow: hidden;text-align: left;background-color: #f0f8ff;}#sk-container-id-3 div.sk-toggleable__content pre {margin: 0.2em;color: black;border-radius: 0.25em;background-color: #f0f8ff;}#sk-container-id-3 input.sk-toggleable__control:checked~div.sk-toggleable__content {max-height: 200px;max-width: 100%;overflow: auto;}#sk-container-id-3 input.sk-toggleable__control:checked~label.sk-toggleable__label-arrow:before {content: \"▾\";}#sk-container-id-3 div.sk-estimator input.sk-toggleable__control:checked~label.sk-toggleable__label {background-color: #d4ebff;}#sk-container-id-3 div.sk-label input.sk-toggleable__control:checked~label.sk-toggleable__label {background-color: #d4ebff;}#sk-container-id-3 input.sk-hidden--visually {border: 0;clip: rect(1px 1px 1px 1px);clip: rect(1px, 1px, 1px, 1px);height: 1px;margin: -1px;overflow: hidden;padding: 0;position: absolute;width: 1px;}#sk-container-id-3 div.sk-estimator {font-family: monospace;background-color: #f0f8ff;border: 1px dotted black;border-radius: 0.25em;box-sizing: border-box;margin-bottom: 0.5em;}#sk-container-id-3 div.sk-estimator:hover {background-color: #d4ebff;}#sk-container-id-3 div.sk-parallel-item::after {content: \"\";width: 100%;border-bottom: 1px solid gray;flex-grow: 1;}#sk-container-id-3 div.sk-label:hover label.sk-toggleable__label {background-color: #d4ebff;}#sk-container-id-3 div.sk-serial::before {content: \"\";position: absolute;border-left: 1px solid gray;box-sizing: border-box;top: 0;bottom: 0;left: 50%;z-index: 0;}#sk-container-id-3 div.sk-serial {display: flex;flex-direction: column;align-items: center;background-color: white;padding-right: 0.2em;padding-left: 0.2em;position: relative;}#sk-container-id-3 div.sk-item {position: relative;z-index: 1;}#sk-container-id-3 div.sk-parallel {display: flex;align-items: stretch;justify-content: center;background-color: white;position: relative;}#sk-container-id-3 div.sk-item::before, #sk-container-id-3 div.sk-parallel-item::before {content: \"\";position: absolute;border-left: 1px solid gray;box-sizing: border-box;top: 0;bottom: 0;left: 50%;z-index: -1;}#sk-container-id-3 div.sk-parallel-item {display: flex;flex-direction: column;z-index: 1;position: relative;background-color: white;}#sk-container-id-3 div.sk-parallel-item:first-child::after {align-self: flex-end;width: 50%;}#sk-container-id-3 div.sk-parallel-item:last-child::after {align-self: flex-start;width: 50%;}#sk-container-id-3 div.sk-parallel-item:only-child::after {width: 0;}#sk-container-id-3 div.sk-dashed-wrapped {border: 1px dashed gray;margin: 0 0.4em 0.5em 0.4em;box-sizing: border-box;padding-bottom: 0.4em;background-color: white;}#sk-container-id-3 div.sk-label label {font-family: monospace;font-weight: bold;display: inline-block;line-height: 1.2em;}#sk-container-id-3 div.sk-label-container {text-align: center;}#sk-container-id-3 div.sk-container {/* jupyter's `normalize.less` sets `[hidden] { display: none; }` but bootstrap.min.css set `[hidden] { display: none !important; }` so we also need the `!important` here to be able to override the default hidden behavior on the sphinx rendered scikit-learn.org. See: https://github.com/scikit-learn/scikit-learn/issues/21755 */display: inline-block !important;position: relative;}#sk-container-id-3 div.sk-text-repr-fallback {display: none;}</style><div id=\"sk-container-id-3\" class=\"sk-top-container\"><div class=\"sk-text-repr-fallback\"><pre>DecisionTreeClassifier()</pre><b>In a Jupyter environment, please rerun this cell to show the HTML representation or trust the notebook. <br />On GitHub, the HTML representation is unable to render, please try loading this page with nbviewer.org.</b></div><div class=\"sk-container\" hidden><div class=\"sk-item\"><div class=\"sk-estimator sk-toggleable\"><input class=\"sk-toggleable__control sk-hidden--visually\" id=\"sk-estimator-id-3\" type=\"checkbox\" checked><label for=\"sk-estimator-id-3\" class=\"sk-toggleable__label sk-toggleable__label-arrow\">DecisionTreeClassifier</label><div class=\"sk-toggleable__content\"><pre>DecisionTreeClassifier()</pre></div></div></div></div></div>"
            ]
          },
          "metadata": {},
          "execution_count": 60
        }
      ]
    },
    {
      "cell_type": "markdown",
      "source": [
        "#### 5. Construimos una matriz de aprendizaje $X$\n",
        "\n",
        "Creamos la matriz $X$ con nuestros ejes $x_1$, $x_2$, $x_3$, ..., $x_n$,en nuestro caso solo $x_1$ y $x_2$.\n",
        "\n",
        "Observa que transponemos la matriz, para que las filas representen los valores y las columnas cada eje."
      ],
      "metadata": {
        "id": "q1pVq38Vv3Cp"
      }
    },
    {
      "cell_type": "code",
      "source": [
        "import numpy as np\n",
        "\n",
        "X = np.array([\n",
        "    x1,\n",
        "    x2,\n",
        "    #x3,\n",
        "    #...,\n",
        "    #xn,\n",
        "]).T\n",
        "\n",
        "X"
      ],
      "metadata": {
        "colab": {
          "base_uri": "https://localhost:8080/"
        },
        "id": "gMg5zgShwNC9",
        "outputId": "716597fc-477a-4499-cdd5-c2a9082744a1"
      },
      "execution_count": 62,
      "outputs": [
        {
          "output_type": "execute_result",
          "data": {
            "text/plain": [
              "array([[187.57142322, 109.72098511],\n",
              "       [174.70603628,  73.62273185],\n",
              "       [188.2396677 ,  96.49755015],\n",
              "       ...,\n",
              "       [162.22470022,  58.2753768 ],\n",
              "       [175.34697755,  74.32216565],\n",
              "       [157.33838453,  51.55032378]])"
            ]
          },
          "metadata": {},
          "execution_count": 62
        }
      ]
    },
    {
      "cell_type": "markdown",
      "source": [
        "#### 6. Ajustamos el clasificador a nuestros datos\n",
        "\n",
        "Similar a la regresión, el clasificador aprenderá que categoría tienen los valores para los ejes de datos $x_1$, $x_2$, $x_3$, ..., $x_n$."
      ],
      "metadata": {
        "id": "9JGg0odpwaX3"
      }
    },
    {
      "cell_type": "code",
      "source": [
        "clf.fit(X, y)"
      ],
      "metadata": {
        "colab": {
          "base_uri": "https://localhost:8080/",
          "height": 74
        },
        "id": "Xuaxgsjawj74",
        "outputId": "5542d457-3f28-4e63-a78a-9516e9e1577b"
      },
      "execution_count": 63,
      "outputs": [
        {
          "output_type": "execute_result",
          "data": {
            "text/plain": [
              "DecisionTreeClassifier()"
            ],
            "text/html": [
              "<style>#sk-container-id-4 {color: black;background-color: white;}#sk-container-id-4 pre{padding: 0;}#sk-container-id-4 div.sk-toggleable {background-color: white;}#sk-container-id-4 label.sk-toggleable__label {cursor: pointer;display: block;width: 100%;margin-bottom: 0;padding: 0.3em;box-sizing: border-box;text-align: center;}#sk-container-id-4 label.sk-toggleable__label-arrow:before {content: \"▸\";float: left;margin-right: 0.25em;color: #696969;}#sk-container-id-4 label.sk-toggleable__label-arrow:hover:before {color: black;}#sk-container-id-4 div.sk-estimator:hover label.sk-toggleable__label-arrow:before {color: black;}#sk-container-id-4 div.sk-toggleable__content {max-height: 0;max-width: 0;overflow: hidden;text-align: left;background-color: #f0f8ff;}#sk-container-id-4 div.sk-toggleable__content pre {margin: 0.2em;color: black;border-radius: 0.25em;background-color: #f0f8ff;}#sk-container-id-4 input.sk-toggleable__control:checked~div.sk-toggleable__content {max-height: 200px;max-width: 100%;overflow: auto;}#sk-container-id-4 input.sk-toggleable__control:checked~label.sk-toggleable__label-arrow:before {content: \"▾\";}#sk-container-id-4 div.sk-estimator input.sk-toggleable__control:checked~label.sk-toggleable__label {background-color: #d4ebff;}#sk-container-id-4 div.sk-label input.sk-toggleable__control:checked~label.sk-toggleable__label {background-color: #d4ebff;}#sk-container-id-4 input.sk-hidden--visually {border: 0;clip: rect(1px 1px 1px 1px);clip: rect(1px, 1px, 1px, 1px);height: 1px;margin: -1px;overflow: hidden;padding: 0;position: absolute;width: 1px;}#sk-container-id-4 div.sk-estimator {font-family: monospace;background-color: #f0f8ff;border: 1px dotted black;border-radius: 0.25em;box-sizing: border-box;margin-bottom: 0.5em;}#sk-container-id-4 div.sk-estimator:hover {background-color: #d4ebff;}#sk-container-id-4 div.sk-parallel-item::after {content: \"\";width: 100%;border-bottom: 1px solid gray;flex-grow: 1;}#sk-container-id-4 div.sk-label:hover label.sk-toggleable__label {background-color: #d4ebff;}#sk-container-id-4 div.sk-serial::before {content: \"\";position: absolute;border-left: 1px solid gray;box-sizing: border-box;top: 0;bottom: 0;left: 50%;z-index: 0;}#sk-container-id-4 div.sk-serial {display: flex;flex-direction: column;align-items: center;background-color: white;padding-right: 0.2em;padding-left: 0.2em;position: relative;}#sk-container-id-4 div.sk-item {position: relative;z-index: 1;}#sk-container-id-4 div.sk-parallel {display: flex;align-items: stretch;justify-content: center;background-color: white;position: relative;}#sk-container-id-4 div.sk-item::before, #sk-container-id-4 div.sk-parallel-item::before {content: \"\";position: absolute;border-left: 1px solid gray;box-sizing: border-box;top: 0;bottom: 0;left: 50%;z-index: -1;}#sk-container-id-4 div.sk-parallel-item {display: flex;flex-direction: column;z-index: 1;position: relative;background-color: white;}#sk-container-id-4 div.sk-parallel-item:first-child::after {align-self: flex-end;width: 50%;}#sk-container-id-4 div.sk-parallel-item:last-child::after {align-self: flex-start;width: 50%;}#sk-container-id-4 div.sk-parallel-item:only-child::after {width: 0;}#sk-container-id-4 div.sk-dashed-wrapped {border: 1px dashed gray;margin: 0 0.4em 0.5em 0.4em;box-sizing: border-box;padding-bottom: 0.4em;background-color: white;}#sk-container-id-4 div.sk-label label {font-family: monospace;font-weight: bold;display: inline-block;line-height: 1.2em;}#sk-container-id-4 div.sk-label-container {text-align: center;}#sk-container-id-4 div.sk-container {/* jupyter's `normalize.less` sets `[hidden] { display: none; }` but bootstrap.min.css set `[hidden] { display: none !important; }` so we also need the `!important` here to be able to override the default hidden behavior on the sphinx rendered scikit-learn.org. See: https://github.com/scikit-learn/scikit-learn/issues/21755 */display: inline-block !important;position: relative;}#sk-container-id-4 div.sk-text-repr-fallback {display: none;}</style><div id=\"sk-container-id-4\" class=\"sk-top-container\"><div class=\"sk-text-repr-fallback\"><pre>DecisionTreeClassifier()</pre><b>In a Jupyter environment, please rerun this cell to show the HTML representation or trust the notebook. <br />On GitHub, the HTML representation is unable to render, please try loading this page with nbviewer.org.</b></div><div class=\"sk-container\" hidden><div class=\"sk-item\"><div class=\"sk-estimator sk-toggleable\"><input class=\"sk-toggleable__control sk-hidden--visually\" id=\"sk-estimator-id-4\" type=\"checkbox\" checked><label for=\"sk-estimator-id-4\" class=\"sk-toggleable__label sk-toggleable__label-arrow\">DecisionTreeClassifier</label><div class=\"sk-toggleable__content\"><pre>DecisionTreeClassifier()</pre></div></div></div></div></div>"
            ]
          },
          "metadata": {},
          "execution_count": 63
        }
      ]
    },
    {
      "cell_type": "markdown",
      "source": [
        "#### 7. Inspeccionamos los resultados del clasificador\n",
        "\n",
        "Importamos la función `plot_tree` y la librería gráfica **[Matplotlib](https://matplotlib.org)** para visualizar el árbol de decisión construido."
      ],
      "metadata": {
        "id": "IF_1FJQswrhB"
      }
    },
    {
      "cell_type": "code",
      "source": [
        "from sklearn.tree import plot_tree\n",
        "import matplotlib.pyplot as plt\n",
        "\n",
        "plot_tree(clf)\n",
        "\n",
        "plt.show()"
      ],
      "metadata": {
        "colab": {
          "base_uri": "https://localhost:8080/",
          "height": 406
        },
        "id": "tzX6h4jOw9en",
        "outputId": "271c8bfb-b28e-4305-a518-9f7ca1c1c2b8"
      },
      "execution_count": 66,
      "outputs": [
        {
          "output_type": "display_data",
          "data": {
            "text/plain": [
              "<Figure size 640x480 with 1 Axes>"
            ],
            "image/png": "[encoded data removed]"
          },
          "metadata": {}
        }
      ]
    },
    {
      "cell_type": "markdown",
      "source": [
        "Podemos observar que el árbol de decisión toma muchas decisiones para poder predecir el género."
      ],
      "metadata": {
        "id": "q8hM685WySC2"
      }
    },
    {
      "cell_type": "markdown",
      "source": [
        "> Visualizamos sólo las primeras decisiones en el árbol de decisión"
      ],
      "metadata": {
        "id": "hEDJTACBykyl"
      }
    },
    {
      "cell_type": "code",
      "source": [
        "plot_tree(clf, max_depth=1)\n",
        "\n",
        "plt.show()"
      ],
      "metadata": {
        "colab": {
          "base_uri": "https://localhost:8080/",
          "height": 406
        },
        "id": "THYru8Rzyeut",
        "outputId": "55afa30d-41e2-4684-a020-6a7d7e64de5c"
      },
      "execution_count": 69,
      "outputs": [
        {
          "output_type": "display_data",
          "data": {
            "text/plain": [
              "<Figure size 640x480 with 1 Axes>"
            ],
            "image/png": "[encoded data removed]"
          },
          "metadata": {}
        }
      ]
    },
    {
      "cell_type": "markdown",
      "source": [
        "En este caso vemos que pregunta si el eje $x_1$ es menor a 73.79 centímetros, y así sucesivamente.\n",
        "\n",
        "El **Gini** es un índice de la potencia de medición aleatoria en las muestras o entropía de separación de los datos.\n",
        "\n",
        "En este caso, la entropía tendría que ir decayendo en cada decisión, y separando las muestras lo más posible."
      ],
      "metadata": {
        "id": "A6nWQHRUyr1J"
      }
    },
    {
      "cell_type": "markdown",
      "source": [
        "#### 8. Comprobamos que tan fiable es la clasificación\n",
        "\n",
        "Podemos evaluar que tan confiable es la clasificación, mediante una validación cruzada que separa las muestras en entrenamiento y pruebas aleatorias, para verificar automáticamente que tan bien resulto la clasificación a lo largo de varias pruebas.\n",
        "\n",
        "Importaremos la función `cross_val_score(MODELO, X, y)` para verificar la precisión de nuestro modelo en múltiples pruebas automáticas."
      ],
      "metadata": {
        "id": "1yY3uMthzNK-"
      }
    },
    {
      "cell_type": "code",
      "source": [
        "from sklearn.model_selection import cross_val_score\n",
        "\n",
        "scores = cross_val_score(clf, X, y)\n",
        "\n",
        "scores"
      ],
      "metadata": {
        "colab": {
          "base_uri": "https://localhost:8080/"
        },
        "id": "ais169kNzkcU",
        "outputId": "561565f7-f5e9-4068-88b2-b4d4d101ee24"
      },
      "execution_count": 70,
      "outputs": [
        {
          "output_type": "execute_result",
          "data": {
            "text/plain": [
              "array([0.8665, 0.8825, 0.8665, 0.8795, 0.873 ])"
            ]
          },
          "metadata": {},
          "execution_count": 70
        }
      ]
    },
    {
      "cell_type": "markdown",
      "source": [
        "> Obtenemos el promedio"
      ],
      "metadata": {
        "id": "qYFxWBnR0MO4"
      }
    },
    {
      "cell_type": "code",
      "source": [
        "scores.mean()"
      ],
      "metadata": {
        "colab": {
          "base_uri": "https://localhost:8080/"
        },
        "id": "ZLafwGbW0OmU",
        "outputId": "d4b39faf-64b5-4f0a-cce9-8cf32bd01f14"
      },
      "execution_count": 71,
      "outputs": [
        {
          "output_type": "execute_result",
          "data": {
            "text/plain": [
              "0.8736"
            ]
          },
          "metadata": {},
          "execution_count": 71
        }
      ]
    },
    {
      "cell_type": "markdown",
      "source": [
        "Podemos Observar que la prexisión es al rededor del 87%, lo cuál es bastante significativo.\n",
        "\n",
        "Esto significa que dada una altura y peso, se puede predecir el género de la persona con un 87.3% de confianza."
      ],
      "metadata": {
        "id": "c_42Pe__z_pI"
      }
    },
    {
      "cell_type": "markdown",
      "source": [
        "#### 9. Predecir valores dentro de la clasificación\n",
        "\n",
        "Podemos estimar valores, es decir, el género asociado a una serie de datos para alturas y pesos, similar como en la regresión.\n",
        "\n",
        "Es decir, para un eje $x_1'$, $x_2'$, $x_3'$, ..., $x_n'$ cuáles serían los valores del eje $y'$"
      ],
      "metadata": {
        "id": "vw_4f8iy0S6b"
      }
    },
    {
      "cell_type": "code",
      "source": [
        "x1_p = np.array([120, 120, 150, 150, 170, 170, 200, 200])\n",
        "x2_p = np.array([8, 5, 39, 28, 90, 65, 90, 120])\n",
        "\n",
        "Xp = np.array([\n",
        "    x1_p,\n",
        "    x2_p,\n",
        "    #x3_p,\n",
        "    #...,\n",
        "    #xn_p,\n",
        "]).T\n",
        "\n",
        "yp = clf.predict(Xp)\n",
        "\n",
        "yp"
      ],
      "metadata": {
        "colab": {
          "base_uri": "https://localhost:8080/"
        },
        "id": "E3ov8t5y0ldj",
        "outputId": "3c9693c1-677a-4dd3-f34c-320583d80e29"
      },
      "execution_count": 91,
      "outputs": [
        {
          "output_type": "execute_result",
          "data": {
            "text/plain": [
              "array([2, 2, 2, 2, 1, 2, 1, 1])"
            ]
          },
          "metadata": {},
          "execution_count": 91
        }
      ]
    },
    {
      "cell_type": "markdown",
      "source": [
        "Observamos que casi todas esas alturas y pesos han sido clasificadas bajo la categoría 2, es decir *Female* o mujeres.\n",
        "\n",
        "Sólo hay 87% de confianza en estos resultados."
      ],
      "metadata": {
        "id": "EuMg5OZk1FF1"
      }
    },
    {
      "cell_type": "markdown",
      "source": [
        "### Ejercicio: E211 - Diseña un análisis de clasificación\n",
        "\n",
        "Crea o busca un dataset que tenga tres ejes de análisis, dos de ellos numéricos y el otro categórico, que creas que estén fuertemente correlacionados y ajusta la clasificación de dos ejes numéricos al categórico.\n",
        "\n",
        "Observa quién será el eje $x_1$ y $x_2$ y quién asumirá el eje categórico $y$.\n",
        "\n",
        "Reporta el árbol de decisión en sus primeras decisiones, calcula la confianza promedio y haz algunas predicciones."
      ],
      "metadata": {
        "id": "FyMTaKlH1r3X"
      }
    }
  ]
}